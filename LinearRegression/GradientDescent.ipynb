{
 "cells": [
  {
   "cell_type": "markdown",
   "id": "b141f876-2510-4a8d-bc88-fe694ee67a80",
   "metadata": {},
   "source": [
    "# Import Necessary Libraries"
   ]
  },
  {
   "cell_type": "code",
   "execution_count": 1,
   "id": "93c7fa79-5cd4-4efd-b573-b1e431045ecf",
   "metadata": {},
   "outputs": [],
   "source": [
    "import numpy as np\n",
    "from sklearn.datasets import load_boston\n",
    "from sklearn.preprocessing import StandardScaler"
   ]
  },
  {
   "cell_type": "markdown",
   "id": "b02355ca-a8b6-47b0-ba5f-60590ac303a3",
   "metadata": {},
   "source": [
    "# Load data"
   ]
  },
  {
   "cell_type": "code",
   "execution_count": 2,
   "id": "6abe6a81-55b1-4fbc-a4f9-08f45e9aac69",
   "metadata": {},
   "outputs": [],
   "source": [
    "boston = load_boston()\n",
    "X = boston.data\n",
    "Y = boston.target"
   ]
  },
  {
   "cell_type": "code",
   "execution_count": 3,
   "id": "8d5e54f4-198e-44ef-bd77-e0b7559d34be",
   "metadata": {},
   "outputs": [
    {
     "data": {
      "text/plain": [
       "(506, 13)"
      ]
     },
     "execution_count": 3,
     "metadata": {},
     "output_type": "execute_result"
    }
   ],
   "source": [
    "X.shape"
   ]
  },
  {
   "cell_type": "code",
   "execution_count": 4,
   "id": "c788e330-bd50-4935-98d8-95d195c3cfff",
   "metadata": {},
   "outputs": [
    {
     "data": {
      "text/plain": [
       "array([[6.3200e-03, 1.8000e+01, 2.3100e+00, ..., 1.5300e+01, 3.9690e+02,\n",
       "        4.9800e+00],\n",
       "       [2.7310e-02, 0.0000e+00, 7.0700e+00, ..., 1.7800e+01, 3.9690e+02,\n",
       "        9.1400e+00],\n",
       "       [2.7290e-02, 0.0000e+00, 7.0700e+00, ..., 1.7800e+01, 3.9283e+02,\n",
       "        4.0300e+00],\n",
       "       ...,\n",
       "       [6.0760e-02, 0.0000e+00, 1.1930e+01, ..., 2.1000e+01, 3.9690e+02,\n",
       "        5.6400e+00],\n",
       "       [1.0959e-01, 0.0000e+00, 1.1930e+01, ..., 2.1000e+01, 3.9345e+02,\n",
       "        6.4800e+00],\n",
       "       [4.7410e-02, 0.0000e+00, 1.1930e+01, ..., 2.1000e+01, 3.9690e+02,\n",
       "        7.8800e+00]])"
      ]
     },
     "execution_count": 4,
     "metadata": {},
     "output_type": "execute_result"
    }
   ],
   "source": [
    "X"
   ]
  },
  {
   "cell_type": "markdown",
   "id": "0e43df97-60e5-4164-b395-b67dedae43cc",
   "metadata": {},
   "source": [
    "# Apply Standard scaler"
   ]
  },
  {
   "cell_type": "markdown",
   "id": "906d0438-f328-4e44-91b1-316c1d7682e2",
   "metadata": {},
   "source": [
    "### Feature scaling is a method to unify self-variables or feature ranges in data.\n",
    "### In data processing, it is usually used in data pre-processing.\n",
    "### Because in the original data, the range of variables is very different. Feature scaling is a necessary step in the calculation of stochastic gradient descent"
   ]
  },
  {
   "cell_type": "code",
   "execution_count": 9,
   "id": "130d64ba-e98d-4493-addf-61562a052273",
   "metadata": {},
   "outputs": [],
   "source": [
    "scaler = StandardScaler()\n",
    "X_scaled = scaler.fit_transform(X)"
   ]
  },
  {
   "cell_type": "markdown",
   "id": "ca3f0a6f-2128-45cc-85a2-e6dfe636819d",
   "metadata": {},
   "source": [
    "# Gradient Descent Implementation"
   ]
  },
  {
   "cell_type": "markdown",
   "id": "b945b728-c28a-4709-80ba-3fb82c4a1d77",
   "metadata": {},
   "source": [
    "### Hypothesis function\n",
    "$$\n",
    "    h_{\\theta} = \\theta^{T}x\n",
    "$$"
   ]
  },
  {
   "cell_type": "code",
   "execution_count": 10,
   "id": "a4872d87-bdc8-4f41-ab35-e995520e10c1",
   "metadata": {},
   "outputs": [],
   "source": [
    "def hypothesis(x , params):\n",
    "    return np.sum(x * params)"
   ]
  },
  {
   "cell_type": "markdown",
   "id": "d1a1fe20-3176-4bcc-adc6-7a196409429e",
   "metadata": {},
   "source": [
    "### Geadient Descent\n",
    "$$\n",
    "\\theta_j = \\theta_j - \\alpha/m \\sum_{i = 1}^{m} (h_{\\theta}x^{(i)} - y^{(i)})x_{j}^{(i)} \n",
    "$$"
   ]
  },
  {
   "cell_type": "code",
   "execution_count": 11,
   "id": "5267b914-038b-4e81-96a9-d88860305394",
   "metadata": {},
   "outputs": [],
   "source": [
    "def gradientDescent(learningRate , n_iter , X_train , y_train , n_feature):\n",
    "    trainSize = len(X_train)\n",
    "    parameters = np.ones(n_feature + 1)\n",
    "    features = np.apply_along_axis(lambda col:np.append(col,1) , 1 , X_train)\n",
    "    for _ in range(n_iter):\n",
    "        hypothesis_params = np.apply_along_axis(hypothesis , 1 , features , parameters)\n",
    "        temp = hypothesis_params - y_train\n",
    "        derivative = np.apply_along_axis(lambda col: np.sum(col * temp) , 0 , features)\n",
    "        parameters = parameters - ((learningRate/trainSize) * derivative)\n",
    "    return parameters    "
   ]
  },
  {
   "cell_type": "markdown",
   "id": "78525283-afe9-465e-85e6-fa38480a1f1d",
   "metadata": {},
   "source": [
    "# Run the algorithm"
   ]
  },
  {
   "cell_type": "code",
   "execution_count": 12,
   "id": "a67c35fa-fa22-49ed-b643-f3db6311a8cc",
   "metadata": {},
   "outputs": [],
   "source": [
    "linregParams = gradientDescent(0.001 , 3500 , X_scaled , Y , X_scaled.shape[1])"
   ]
  },
  {
   "cell_type": "code",
   "execution_count": 13,
   "id": "e9054b42-585f-4db0-8189-b70bb1a9e1c7",
   "metadata": {},
   "outputs": [],
   "source": [
    "def predict(x , params):\n",
    "    intercept = params[-1]\n",
    "    return np.sum(x * params[:-1]) + intercept"
   ]
  },
  {
   "cell_type": "code",
   "execution_count": 14,
   "id": "fbedb237-e11b-4164-a507-04c950f88619",
   "metadata": {},
   "outputs": [],
   "source": [
    "predictions = np.apply_along_axis(predict , 1 , X_scaled , linregParams)"
   ]
  },
  {
   "cell_type": "markdown",
   "id": "c39cd141-4b92-4526-88e1-e274b62f3f07",
   "metadata": {},
   "source": [
    "# Calculate MSE"
   ]
  },
  {
   "cell_type": "code",
   "execution_count": 15,
   "id": "4ffb4f39-44b8-47fd-9cf3-ae901237706d",
   "metadata": {},
   "outputs": [
    {
     "data": {
      "text/plain": [
       "24.20431120057739"
      ]
     },
     "execution_count": 15,
     "metadata": {},
     "output_type": "execute_result"
    }
   ],
   "source": [
    "np.mean((predictions - Y) ** 2)"
   ]
  },
  {
   "cell_type": "code",
   "execution_count": null,
   "id": "8051e0b1-affb-4e6a-bc06-08677d85a8a6",
   "metadata": {},
   "outputs": [],
   "source": []
  }
 ],
 "metadata": {
  "kernelspec": {
   "display_name": "Python 3",
   "language": "python",
   "name": "python3"
  },
  "language_info": {
   "codemirror_mode": {
    "name": "ipython",
    "version": 3
   },
   "file_extension": ".py",
   "mimetype": "text/x-python",
   "name": "python",
   "nbconvert_exporter": "python",
   "pygments_lexer": "ipython3",
   "version": "3.9.5"
  }
 },
 "nbformat": 4,
 "nbformat_minor": 5
}
