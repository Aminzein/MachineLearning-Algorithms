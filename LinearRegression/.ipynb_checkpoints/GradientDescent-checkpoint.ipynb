{
 "cells": [
  {
   "cell_type": "code",
   "execution_count": 1,
   "id": "86fd6e8f-c80c-489f-9133-078b7daca932",
   "metadata": {},
   "outputs": [],
   "source": [
    "import numpy as np\n",
    "from sklearn.datasets import load_boston\n",
    "from sklearn.preprocessing import StandardScaler"
   ]
  },
  {
   "cell_type": "code",
   "execution_count": 2,
   "id": "6abe6a81-55b1-4fbc-a4f9-08f45e9aac69",
   "metadata": {},
   "outputs": [],
   "source": [
    "boston = load_boston()\n",
    "X = boston.data\n",
    "Y = boston.target"
   ]
  },
  {
   "cell_type": "code",
   "execution_count": 3,
   "id": "8d5e54f4-198e-44ef-bd77-e0b7559d34be",
   "metadata": {},
   "outputs": [
    {
     "data": {
      "text/plain": [
       "(506, 13)"
      ]
     },
     "execution_count": 3,
     "metadata": {},
     "output_type": "execute_result"
    }
   ],
   "source": [
    "X.shape"
   ]
  },
  {
   "cell_type": "code",
   "execution_count": 4,
   "id": "c788e330-bd50-4935-98d8-95d195c3cfff",
   "metadata": {},
   "outputs": [
    {
     "data": {
      "text/plain": [
       "array([[6.3200e-03, 1.8000e+01, 2.3100e+00, ..., 1.5300e+01, 3.9690e+02,\n",
       "        4.9800e+00],\n",
       "       [2.7310e-02, 0.0000e+00, 7.0700e+00, ..., 1.7800e+01, 3.9690e+02,\n",
       "        9.1400e+00],\n",
       "       [2.7290e-02, 0.0000e+00, 7.0700e+00, ..., 1.7800e+01, 3.9283e+02,\n",
       "        4.0300e+00],\n",
       "       ...,\n",
       "       [6.0760e-02, 0.0000e+00, 1.1930e+01, ..., 2.1000e+01, 3.9690e+02,\n",
       "        5.6400e+00],\n",
       "       [1.0959e-01, 0.0000e+00, 1.1930e+01, ..., 2.1000e+01, 3.9345e+02,\n",
       "        6.4800e+00],\n",
       "       [4.7410e-02, 0.0000e+00, 1.1930e+01, ..., 2.1000e+01, 3.9690e+02,\n",
       "        7.8800e+00]])"
      ]
     },
     "execution_count": 4,
     "metadata": {},
     "output_type": "execute_result"
    }
   ],
   "source": [
    "X"
   ]
  },
  {
   "cell_type": "code",
   "execution_count": 5,
   "id": "130d64ba-e98d-4493-addf-61562a052273",
   "metadata": {},
   "outputs": [],
   "source": [
    "scaler = StandardScaler()\n",
    "X_scaled = scaler.fit_transform(X)"
   ]
  },
  {
   "cell_type": "code",
   "execution_count": 6,
   "id": "a4872d87-bdc8-4f41-ab35-e995520e10c1",
   "metadata": {},
   "outputs": [],
   "source": [
    "def hypothesis(x , params):\n",
    "    return np.sum(x * params)"
   ]
  },
  {
   "cell_type": "code",
   "execution_count": 7,
   "id": "5267b914-038b-4e81-96a9-d88860305394",
   "metadata": {},
   "outputs": [],
   "source": [
    "def gradientDescent(learningRate , n_iter , X_train , y_train , n_feature):\n",
    "    trainSize = len(X_train)\n",
    "    parameters = np.ones(n_feature + 1)\n",
    "    features = np.apply_along_axis(lambda col:np.append(col,1) , 1 , X_train)\n",
    "    for _ in range(n_iter):\n",
    "        h_params = np.apply_along_axis(hypothesis , 1 , features , parameters)\n",
    "        temp = h_params - y_train\n",
    "        derivate = np.apply_along_axis(lambda col: np.sum(col * temp) , 0 , features)\n",
    "        parameters = parameters - ((learningRate/trainSize) * derivate)\n",
    "    return parameters    "
   ]
  },
  {
   "cell_type": "code",
   "execution_count": 8,
   "id": "a67c35fa-fa22-49ed-b643-f3db6311a8cc",
   "metadata": {},
   "outputs": [],
   "source": [
    "linregParams = gradientDescent(0.001 , 3500 , X_scaled , Y , X_scaled.shape[1])"
   ]
  },
  {
   "cell_type": "code",
   "execution_count": 9,
   "id": "e9054b42-585f-4db0-8189-b70bb1a9e1c7",
   "metadata": {},
   "outputs": [],
   "source": [
    "def predict(x , params):\n",
    "    intercept = params[-1]\n",
    "    return np.sum(x * params[:-1]) + intercept"
   ]
  },
  {
   "cell_type": "code",
   "execution_count": 10,
   "id": "fbedb237-e11b-4164-a507-04c950f88619",
   "metadata": {},
   "outputs": [],
   "source": [
    "predictions = np.apply_along_axis(predict , 1 , X_scaled , linregParams)"
   ]
  },
  {
   "cell_type": "code",
   "execution_count": 12,
   "id": "4ffb4f39-44b8-47fd-9cf3-ae901237706d",
   "metadata": {},
   "outputs": [
    {
     "data": {
      "text/plain": [
       "24.20431120057739"
      ]
     },
     "execution_count": 12,
     "metadata": {},
     "output_type": "execute_result"
    }
   ],
   "source": [
    "np.mean((predictions - Y) ** 2)"
   ]
  },
  {
   "cell_type": "code",
   "execution_count": null,
   "id": "8051e0b1-affb-4e6a-bc06-08677d85a8a6",
   "metadata": {},
   "outputs": [],
   "source": []
  }
 ],
 "metadata": {
  "kernelspec": {
   "display_name": "Python 3",
   "language": "python",
   "name": "python3"
  },
  "language_info": {
   "codemirror_mode": {
    "name": "ipython",
    "version": 3
   },
   "file_extension": ".py",
   "mimetype": "text/x-python",
   "name": "python",
   "nbconvert_exporter": "python",
   "pygments_lexer": "ipython3",
   "version": "3.9.5"
  }
 },
 "nbformat": 4,
 "nbformat_minor": 5
}
