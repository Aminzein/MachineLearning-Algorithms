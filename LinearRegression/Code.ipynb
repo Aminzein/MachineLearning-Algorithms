{
 "cells": [
  {
   "attachments": {},
   "cell_type": "markdown",
   "metadata": {},
   "source": [
    "# Linear Regression from scratch"
   ]
  },
  {
   "attachments": {},
   "cell_type": "markdown",
   "metadata": {},
   "source": [
    "## 1.Libraries"
   ]
  },
  {
   "cell_type": "code",
   "execution_count": 1,
   "metadata": {},
   "outputs": [],
   "source": [
    "import numpy as np\n",
    "import pandas as pd\n",
    "import plotly.express as px\n",
    "from copy import deepcopy"
   ]
  },
  {
   "attachments": {},
   "cell_type": "markdown",
   "metadata": {},
   "source": [
    "## 2. Linear Regression with Normal Equation"
   ]
  },
  {
   "attachments": {},
   "cell_type": "markdown",
   "metadata": {},
   "source": [
    "### Implementation"
   ]
  },
  {
   "cell_type": "code",
   "execution_count": 2,
   "metadata": {},
   "outputs": [],
   "source": [
    "class LinearRegression:\n",
    "    @staticmethod\n",
    "    def add_bias(X):\n",
    "        bias = np.ones((X.shape[0],1))\n",
    "        X = X.values\n",
    "        X = np.concatenate([bias, X], axis=1)\n",
    "        return X\n",
    "    \n",
    "    def pre_process(self):\n",
    "        self.X = self.add_bias(self.X)\n",
    "        y = self.y.values\n",
    "        self.y = y.reshape((-1, 1))\n",
    "    \n",
    "    def __init__(self, X, y):\n",
    "        self.X = X\n",
    "        self.y = y\n",
    "        self.pre_process()\n",
    "        self.w = np.zeros((1,X.shape[1]))\n",
    "        \n",
    "    def predict(self, X):\n",
    "        X = self.add_bias(X)\n",
    "        y = np.dot(X,self.w)\n",
    "        return y\n",
    "        \n",
    "    \n",
    "    def fit(self):\n",
    "        X, X_t = self.X, self.X.T\n",
    "        psudo_inv = np.linalg.inv(np.dot(X_t,X))\n",
    "        self.w = np.dot(np.dot(psudo_inv,X_t),self.y)"
   ]
  },
  {
   "attachments": {},
   "cell_type": "markdown",
   "metadata": {},
   "source": [
    "### 2.2 Optimal Parameters "
   ]
  },
  {
   "cell_type": "markdown",
   "metadata": {},
   "source": [
    "$$\n",
    "w = (X^TX)^{-1}X^TY\n",
    "$$"
   ]
  },
  {
   "attachments": {},
   "cell_type": "markdown",
   "metadata": {},
   "source": [
    "### 2.3 Cost Function"
   ]
  },
  {
   "cell_type": "code",
   "execution_count": 228,
   "metadata": {},
   "outputs": [],
   "source": [
    "def mean_squared_error(y_true, y_pred):\n",
    "    return np.mean((y_true - y_pred)**2)"
   ]
  },
  {
   "cell_type": "markdown",
   "metadata": {},
   "source": [
    "$$\n",
    "MSE = \\frac{1}{N} \\sum_{i=1}^{N} (y_i - \\hat{y_i})^2\n",
    "$$"
   ]
  },
  {
   "attachments": {},
   "cell_type": "markdown",
   "metadata": {},
   "source": [
    "## 3. Train the Model"
   ]
  },
  {
   "attachments": {},
   "cell_type": "markdown",
   "metadata": {},
   "source": [
    "### 3.1 Split data"
   ]
  },
  {
   "cell_type": "code",
   "execution_count": 4,
   "metadata": {},
   "outputs": [],
   "source": [
    "train = pd.read_csv('Dataset/Problem 1/train_set.csv')\n",
    "test = pd.read_csv('Dataset/Problem 1/test_set.csv')"
   ]
  },
  {
   "cell_type": "code",
   "execution_count": 5,
   "metadata": {},
   "outputs": [
    {
     "data": {
      "text/html": [
       "<div>\n",
       "<style scoped>\n",
       "    .dataframe tbody tr th:only-of-type {\n",
       "        vertical-align: middle;\n",
       "    }\n",
       "\n",
       "    .dataframe tbody tr th {\n",
       "        vertical-align: top;\n",
       "    }\n",
       "\n",
       "    .dataframe thead th {\n",
       "        text-align: right;\n",
       "    }\n",
       "</style>\n",
       "<table border=\"1\" class=\"dataframe\">\n",
       "  <thead>\n",
       "    <tr style=\"text-align: right;\">\n",
       "      <th></th>\n",
       "      <th>x</th>\n",
       "      <th>target</th>\n",
       "    </tr>\n",
       "  </thead>\n",
       "  <tbody>\n",
       "    <tr>\n",
       "      <th>0</th>\n",
       "      <td>2.391265</td>\n",
       "      <td>0.692274</td>\n",
       "    </tr>\n",
       "    <tr>\n",
       "      <th>1</th>\n",
       "      <td>4.214828</td>\n",
       "      <td>4.078137</td>\n",
       "    </tr>\n",
       "    <tr>\n",
       "      <th>2</th>\n",
       "      <td>2.801953</td>\n",
       "      <td>2.614283</td>\n",
       "    </tr>\n",
       "    <tr>\n",
       "      <th>3</th>\n",
       "      <td>2.448590</td>\n",
       "      <td>1.465649</td>\n",
       "    </tr>\n",
       "    <tr>\n",
       "      <th>4</th>\n",
       "      <td>4.671812</td>\n",
       "      <td>-1.863850</td>\n",
       "    </tr>\n",
       "  </tbody>\n",
       "</table>\n",
       "</div>"
      ],
      "text/plain": [
       "          x    target\n",
       "0  2.391265  0.692274\n",
       "1  4.214828  4.078137\n",
       "2  2.801953  2.614283\n",
       "3  2.448590  1.465649\n",
       "4  4.671812 -1.863850"
      ]
     },
     "execution_count": 5,
     "metadata": {},
     "output_type": "execute_result"
    }
   ],
   "source": [
    "train.head()"
   ]
  },
  {
   "cell_type": "code",
   "execution_count": 6,
   "metadata": {},
   "outputs": [],
   "source": [
    "X_train, X_test = train[['x']], test[['x']]\n",
    "y_train, y_test = train['target'], test['target']"
   ]
  },
  {
   "attachments": {},
   "cell_type": "markdown",
   "metadata": {},
   "source": [
    "### 3.2 Add Polynomial Features"
   ]
  },
  {
   "cell_type": "code",
   "execution_count": 7,
   "metadata": {},
   "outputs": [],
   "source": [
    "for p in range(2,6):\n",
    "    X_train[f'x{p}'] = X_train['x'] ** p\n",
    "    X_test[f'x{p}'] = X_test['x'] ** p"
   ]
  },
  {
   "cell_type": "code",
   "execution_count": 8,
   "metadata": {},
   "outputs": [
    {
     "data": {
      "text/html": [
       "<div>\n",
       "<style scoped>\n",
       "    .dataframe tbody tr th:only-of-type {\n",
       "        vertical-align: middle;\n",
       "    }\n",
       "\n",
       "    .dataframe tbody tr th {\n",
       "        vertical-align: top;\n",
       "    }\n",
       "\n",
       "    .dataframe thead th {\n",
       "        text-align: right;\n",
       "    }\n",
       "</style>\n",
       "<table border=\"1\" class=\"dataframe\">\n",
       "  <thead>\n",
       "    <tr style=\"text-align: right;\">\n",
       "      <th></th>\n",
       "      <th>x</th>\n",
       "      <th>x2</th>\n",
       "      <th>x3</th>\n",
       "      <th>x4</th>\n",
       "      <th>x5</th>\n",
       "    </tr>\n",
       "  </thead>\n",
       "  <tbody>\n",
       "    <tr>\n",
       "      <th>0</th>\n",
       "      <td>2.391265</td>\n",
       "      <td>5.718149</td>\n",
       "      <td>13.673611</td>\n",
       "      <td>32.697231</td>\n",
       "      <td>78.187750</td>\n",
       "    </tr>\n",
       "    <tr>\n",
       "      <th>1</th>\n",
       "      <td>4.214828</td>\n",
       "      <td>17.764775</td>\n",
       "      <td>74.875471</td>\n",
       "      <td>315.587233</td>\n",
       "      <td>1330.145907</td>\n",
       "    </tr>\n",
       "    <tr>\n",
       "      <th>2</th>\n",
       "      <td>2.801953</td>\n",
       "      <td>7.850938</td>\n",
       "      <td>21.997957</td>\n",
       "      <td>61.637233</td>\n",
       "      <td>172.704606</td>\n",
       "    </tr>\n",
       "    <tr>\n",
       "      <th>3</th>\n",
       "      <td>2.448590</td>\n",
       "      <td>5.995595</td>\n",
       "      <td>14.680758</td>\n",
       "      <td>35.947165</td>\n",
       "      <td>88.019886</td>\n",
       "    </tr>\n",
       "    <tr>\n",
       "      <th>4</th>\n",
       "      <td>4.671812</td>\n",
       "      <td>21.825832</td>\n",
       "      <td>101.966195</td>\n",
       "      <td>476.366944</td>\n",
       "      <td>2225.497044</td>\n",
       "    </tr>\n",
       "  </tbody>\n",
       "</table>\n",
       "</div>"
      ],
      "text/plain": [
       "          x         x2          x3          x4           x5\n",
       "0  2.391265   5.718149   13.673611   32.697231    78.187750\n",
       "1  4.214828  17.764775   74.875471  315.587233  1330.145907\n",
       "2  2.801953   7.850938   21.997957   61.637233   172.704606\n",
       "3  2.448590   5.995595   14.680758   35.947165    88.019886\n",
       "4  4.671812  21.825832  101.966195  476.366944  2225.497044"
      ]
     },
     "execution_count": 8,
     "metadata": {},
     "output_type": "execute_result"
    }
   ],
   "source": [
    "X_train.head()"
   ]
  },
  {
   "cell_type": "code",
   "execution_count": 9,
   "metadata": {},
   "outputs": [
    {
     "data": {
      "text/html": [
       "<div>\n",
       "<style scoped>\n",
       "    .dataframe tbody tr th:only-of-type {\n",
       "        vertical-align: middle;\n",
       "    }\n",
       "\n",
       "    .dataframe tbody tr th {\n",
       "        vertical-align: top;\n",
       "    }\n",
       "\n",
       "    .dataframe thead th {\n",
       "        text-align: right;\n",
       "    }\n",
       "</style>\n",
       "<table border=\"1\" class=\"dataframe\">\n",
       "  <thead>\n",
       "    <tr style=\"text-align: right;\">\n",
       "      <th></th>\n",
       "      <th>x</th>\n",
       "      <th>x2</th>\n",
       "      <th>x3</th>\n",
       "      <th>x4</th>\n",
       "      <th>x5</th>\n",
       "    </tr>\n",
       "  </thead>\n",
       "  <tbody>\n",
       "    <tr>\n",
       "      <th>0</th>\n",
       "      <td>1.143986</td>\n",
       "      <td>1.308704</td>\n",
       "      <td>1.497139</td>\n",
       "      <td>1.712706</td>\n",
       "      <td>1.959312</td>\n",
       "    </tr>\n",
       "    <tr>\n",
       "      <th>1</th>\n",
       "      <td>5.597518</td>\n",
       "      <td>31.332212</td>\n",
       "      <td>175.382635</td>\n",
       "      <td>981.707524</td>\n",
       "      <td>5495.125928</td>\n",
       "    </tr>\n",
       "    <tr>\n",
       "      <th>2</th>\n",
       "      <td>2.213371</td>\n",
       "      <td>4.899010</td>\n",
       "      <td>10.843326</td>\n",
       "      <td>24.000302</td>\n",
       "      <td>53.121567</td>\n",
       "    </tr>\n",
       "    <tr>\n",
       "      <th>3</th>\n",
       "      <td>2.269057</td>\n",
       "      <td>5.148620</td>\n",
       "      <td>11.682512</td>\n",
       "      <td>26.508284</td>\n",
       "      <td>60.148808</td>\n",
       "    </tr>\n",
       "    <tr>\n",
       "      <th>4</th>\n",
       "      <td>2.974509</td>\n",
       "      <td>8.847701</td>\n",
       "      <td>26.317561</td>\n",
       "      <td>78.281810</td>\n",
       "      <td>232.849908</td>\n",
       "    </tr>\n",
       "  </tbody>\n",
       "</table>\n",
       "</div>"
      ],
      "text/plain": [
       "          x         x2          x3          x4           x5\n",
       "0  1.143986   1.308704    1.497139    1.712706     1.959312\n",
       "1  5.597518  31.332212  175.382635  981.707524  5495.125928\n",
       "2  2.213371   4.899010   10.843326   24.000302    53.121567\n",
       "3  2.269057   5.148620   11.682512   26.508284    60.148808\n",
       "4  2.974509   8.847701   26.317561   78.281810   232.849908"
      ]
     },
     "execution_count": 9,
     "metadata": {},
     "output_type": "execute_result"
    }
   ],
   "source": [
    "X_test.head()"
   ]
  },
  {
   "attachments": {},
   "cell_type": "markdown",
   "metadata": {},
   "source": [
    "### 3.3 Train the Model with various data sizes"
   ]
  },
  {
   "cell_type": "code",
   "execution_count": 10,
   "metadata": {},
   "outputs": [],
   "source": [
    "data_sizes = [10, 25, 50, 100, 200]\n",
    "train_MSE = []\n",
    "test_MSE = []\n",
    "for train_size in data_sizes:\n",
    "    X = X_train.iloc[:train_size, :]\n",
    "    y = y_train[:train_size]\n",
    "    model = LinearRegression(X, y)\n",
    "    model.fit()\n",
    "    y_pred_train = model.predict(X).reshape((-1,))\n",
    "    train_MSE.append(mean_squared_error(y,y_pred_train))\n",
    "    y_pred_test = model.predict(X_test).reshape((-1,))\n",
    "    test_MSE.append(mean_squared_error(y_test,y_pred_test))\n"
   ]
  },
  {
   "attachments": {},
   "cell_type": "markdown",
   "metadata": {},
   "source": [
    "### 3.4 Plot the Results"
   ]
  },
  {
   "cell_type": "code",
   "execution_count": 13,
   "metadata": {},
   "outputs": [
    {
     "data": {
      "application/vnd.plotly.v1+json": {
       "config": {
        "plotlyServerURL": "https://plot.ly"
       },
       "data": [
        {
         "hovertemplate": "x=%{x}<br>y=%{y}<extra></extra>",
         "legendgroup": "",
         "line": {
          "color": "#636efa",
          "dash": "solid"
         },
         "marker": {
          "symbol": "circle"
         },
         "mode": "lines",
         "name": "",
         "orientation": "v",
         "showlegend": false,
         "type": "scatter",
         "x": [
          10,
          25,
          50,
          100,
          200
         ],
         "xaxis": "x",
         "y": [
          1.7582889199966296,
          3.58175335788491,
          3.267410903681595,
          3.14730673226356,
          3.0895663818279555
         ],
         "yaxis": "y"
        }
       ],
       "layout": {
        "legend": {
         "tracegroupgap": 0
        },
        "margin": {
         "t": 60
        },
        "template": {
         "data": {
          "bar": [
           {
            "error_x": {
             "color": "#2a3f5f"
            },
            "error_y": {
             "color": "#2a3f5f"
            },
            "marker": {
             "line": {
              "color": "#E5ECF6",
              "width": 0.5
             },
             "pattern": {
              "fillmode": "overlay",
              "size": 10,
              "solidity": 0.2
             }
            },
            "type": "bar"
           }
          ],
          "barpolar": [
           {
            "marker": {
             "line": {
              "color": "#E5ECF6",
              "width": 0.5
             },
             "pattern": {
              "fillmode": "overlay",
              "size": 10,
              "solidity": 0.2
             }
            },
            "type": "barpolar"
           }
          ],
          "carpet": [
           {
            "aaxis": {
             "endlinecolor": "#2a3f5f",
             "gridcolor": "white",
             "linecolor": "white",
             "minorgridcolor": "white",
             "startlinecolor": "#2a3f5f"
            },
            "baxis": {
             "endlinecolor": "#2a3f5f",
             "gridcolor": "white",
             "linecolor": "white",
             "minorgridcolor": "white",
             "startlinecolor": "#2a3f5f"
            },
            "type": "carpet"
           }
          ],
          "choropleth": [
           {
            "colorbar": {
             "outlinewidth": 0,
             "ticks": ""
            },
            "type": "choropleth"
           }
          ],
          "contour": [
           {
            "colorbar": {
             "outlinewidth": 0,
             "ticks": ""
            },
            "colorscale": [
             [
              0,
              "#0d0887"
             ],
             [
              0.1111111111111111,
              "#46039f"
             ],
             [
              0.2222222222222222,
              "#7201a8"
             ],
             [
              0.3333333333333333,
              "#9c179e"
             ],
             [
              0.4444444444444444,
              "#bd3786"
             ],
             [
              0.5555555555555556,
              "#d8576b"
             ],
             [
              0.6666666666666666,
              "#ed7953"
             ],
             [
              0.7777777777777778,
              "#fb9f3a"
             ],
             [
              0.8888888888888888,
              "#fdca26"
             ],
             [
              1,
              "#f0f921"
             ]
            ],
            "type": "contour"
           }
          ],
          "contourcarpet": [
           {
            "colorbar": {
             "outlinewidth": 0,
             "ticks": ""
            },
            "type": "contourcarpet"
           }
          ],
          "heatmap": [
           {
            "colorbar": {
             "outlinewidth": 0,
             "ticks": ""
            },
            "colorscale": [
             [
              0,
              "#0d0887"
             ],
             [
              0.1111111111111111,
              "#46039f"
             ],
             [
              0.2222222222222222,
              "#7201a8"
             ],
             [
              0.3333333333333333,
              "#9c179e"
             ],
             [
              0.4444444444444444,
              "#bd3786"
             ],
             [
              0.5555555555555556,
              "#d8576b"
             ],
             [
              0.6666666666666666,
              "#ed7953"
             ],
             [
              0.7777777777777778,
              "#fb9f3a"
             ],
             [
              0.8888888888888888,
              "#fdca26"
             ],
             [
              1,
              "#f0f921"
             ]
            ],
            "type": "heatmap"
           }
          ],
          "heatmapgl": [
           {
            "colorbar": {
             "outlinewidth": 0,
             "ticks": ""
            },
            "colorscale": [
             [
              0,
              "#0d0887"
             ],
             [
              0.1111111111111111,
              "#46039f"
             ],
             [
              0.2222222222222222,
              "#7201a8"
             ],
             [
              0.3333333333333333,
              "#9c179e"
             ],
             [
              0.4444444444444444,
              "#bd3786"
             ],
             [
              0.5555555555555556,
              "#d8576b"
             ],
             [
              0.6666666666666666,
              "#ed7953"
             ],
             [
              0.7777777777777778,
              "#fb9f3a"
             ],
             [
              0.8888888888888888,
              "#fdca26"
             ],
             [
              1,
              "#f0f921"
             ]
            ],
            "type": "heatmapgl"
           }
          ],
          "histogram": [
           {
            "marker": {
             "pattern": {
              "fillmode": "overlay",
              "size": 10,
              "solidity": 0.2
             }
            },
            "type": "histogram"
           }
          ],
          "histogram2d": [
           {
            "colorbar": {
             "outlinewidth": 0,
             "ticks": ""
            },
            "colorscale": [
             [
              0,
              "#0d0887"
             ],
             [
              0.1111111111111111,
              "#46039f"
             ],
             [
              0.2222222222222222,
              "#7201a8"
             ],
             [
              0.3333333333333333,
              "#9c179e"
             ],
             [
              0.4444444444444444,
              "#bd3786"
             ],
             [
              0.5555555555555556,
              "#d8576b"
             ],
             [
              0.6666666666666666,
              "#ed7953"
             ],
             [
              0.7777777777777778,
              "#fb9f3a"
             ],
             [
              0.8888888888888888,
              "#fdca26"
             ],
             [
              1,
              "#f0f921"
             ]
            ],
            "type": "histogram2d"
           }
          ],
          "histogram2dcontour": [
           {
            "colorbar": {
             "outlinewidth": 0,
             "ticks": ""
            },
            "colorscale": [
             [
              0,
              "#0d0887"
             ],
             [
              0.1111111111111111,
              "#46039f"
             ],
             [
              0.2222222222222222,
              "#7201a8"
             ],
             [
              0.3333333333333333,
              "#9c179e"
             ],
             [
              0.4444444444444444,
              "#bd3786"
             ],
             [
              0.5555555555555556,
              "#d8576b"
             ],
             [
              0.6666666666666666,
              "#ed7953"
             ],
             [
              0.7777777777777778,
              "#fb9f3a"
             ],
             [
              0.8888888888888888,
              "#fdca26"
             ],
             [
              1,
              "#f0f921"
             ]
            ],
            "type": "histogram2dcontour"
           }
          ],
          "mesh3d": [
           {
            "colorbar": {
             "outlinewidth": 0,
             "ticks": ""
            },
            "type": "mesh3d"
           }
          ],
          "parcoords": [
           {
            "line": {
             "colorbar": {
              "outlinewidth": 0,
              "ticks": ""
             }
            },
            "type": "parcoords"
           }
          ],
          "pie": [
           {
            "automargin": true,
            "type": "pie"
           }
          ],
          "scatter": [
           {
            "fillpattern": {
             "fillmode": "overlay",
             "size": 10,
             "solidity": 0.2
            },
            "type": "scatter"
           }
          ],
          "scatter3d": [
           {
            "line": {
             "colorbar": {
              "outlinewidth": 0,
              "ticks": ""
             }
            },
            "marker": {
             "colorbar": {
              "outlinewidth": 0,
              "ticks": ""
             }
            },
            "type": "scatter3d"
           }
          ],
          "scattercarpet": [
           {
            "marker": {
             "colorbar": {
              "outlinewidth": 0,
              "ticks": ""
             }
            },
            "type": "scattercarpet"
           }
          ],
          "scattergeo": [
           {
            "marker": {
             "colorbar": {
              "outlinewidth": 0,
              "ticks": ""
             }
            },
            "type": "scattergeo"
           }
          ],
          "scattergl": [
           {
            "marker": {
             "colorbar": {
              "outlinewidth": 0,
              "ticks": ""
             }
            },
            "type": "scattergl"
           }
          ],
          "scattermapbox": [
           {
            "marker": {
             "colorbar": {
              "outlinewidth": 0,
              "ticks": ""
             }
            },
            "type": "scattermapbox"
           }
          ],
          "scatterpolar": [
           {
            "marker": {
             "colorbar": {
              "outlinewidth": 0,
              "ticks": ""
             }
            },
            "type": "scatterpolar"
           }
          ],
          "scatterpolargl": [
           {
            "marker": {
             "colorbar": {
              "outlinewidth": 0,
              "ticks": ""
             }
            },
            "type": "scatterpolargl"
           }
          ],
          "scatterternary": [
           {
            "marker": {
             "colorbar": {
              "outlinewidth": 0,
              "ticks": ""
             }
            },
            "type": "scatterternary"
           }
          ],
          "surface": [
           {
            "colorbar": {
             "outlinewidth": 0,
             "ticks": ""
            },
            "colorscale": [
             [
              0,
              "#0d0887"
             ],
             [
              0.1111111111111111,
              "#46039f"
             ],
             [
              0.2222222222222222,
              "#7201a8"
             ],
             [
              0.3333333333333333,
              "#9c179e"
             ],
             [
              0.4444444444444444,
              "#bd3786"
             ],
             [
              0.5555555555555556,
              "#d8576b"
             ],
             [
              0.6666666666666666,
              "#ed7953"
             ],
             [
              0.7777777777777778,
              "#fb9f3a"
             ],
             [
              0.8888888888888888,
              "#fdca26"
             ],
             [
              1,
              "#f0f921"
             ]
            ],
            "type": "surface"
           }
          ],
          "table": [
           {
            "cells": {
             "fill": {
              "color": "#EBF0F8"
             },
             "line": {
              "color": "white"
             }
            },
            "header": {
             "fill": {
              "color": "#C8D4E3"
             },
             "line": {
              "color": "white"
             }
            },
            "type": "table"
           }
          ]
         },
         "layout": {
          "annotationdefaults": {
           "arrowcolor": "#2a3f5f",
           "arrowhead": 0,
           "arrowwidth": 1
          },
          "autotypenumbers": "strict",
          "coloraxis": {
           "colorbar": {
            "outlinewidth": 0,
            "ticks": ""
           }
          },
          "colorscale": {
           "diverging": [
            [
             0,
             "#8e0152"
            ],
            [
             0.1,
             "#c51b7d"
            ],
            [
             0.2,
             "#de77ae"
            ],
            [
             0.3,
             "#f1b6da"
            ],
            [
             0.4,
             "#fde0ef"
            ],
            [
             0.5,
             "#f7f7f7"
            ],
            [
             0.6,
             "#e6f5d0"
            ],
            [
             0.7,
             "#b8e186"
            ],
            [
             0.8,
             "#7fbc41"
            ],
            [
             0.9,
             "#4d9221"
            ],
            [
             1,
             "#276419"
            ]
           ],
           "sequential": [
            [
             0,
             "#0d0887"
            ],
            [
             0.1111111111111111,
             "#46039f"
            ],
            [
             0.2222222222222222,
             "#7201a8"
            ],
            [
             0.3333333333333333,
             "#9c179e"
            ],
            [
             0.4444444444444444,
             "#bd3786"
            ],
            [
             0.5555555555555556,
             "#d8576b"
            ],
            [
             0.6666666666666666,
             "#ed7953"
            ],
            [
             0.7777777777777778,
             "#fb9f3a"
            ],
            [
             0.8888888888888888,
             "#fdca26"
            ],
            [
             1,
             "#f0f921"
            ]
           ],
           "sequentialminus": [
            [
             0,
             "#0d0887"
            ],
            [
             0.1111111111111111,
             "#46039f"
            ],
            [
             0.2222222222222222,
             "#7201a8"
            ],
            [
             0.3333333333333333,
             "#9c179e"
            ],
            [
             0.4444444444444444,
             "#bd3786"
            ],
            [
             0.5555555555555556,
             "#d8576b"
            ],
            [
             0.6666666666666666,
             "#ed7953"
            ],
            [
             0.7777777777777778,
             "#fb9f3a"
            ],
            [
             0.8888888888888888,
             "#fdca26"
            ],
            [
             1,
             "#f0f921"
            ]
           ]
          },
          "colorway": [
           "#636efa",
           "#EF553B",
           "#00cc96",
           "#ab63fa",
           "#FFA15A",
           "#19d3f3",
           "#FF6692",
           "#B6E880",
           "#FF97FF",
           "#FECB52"
          ],
          "font": {
           "color": "#2a3f5f"
          },
          "geo": {
           "bgcolor": "white",
           "lakecolor": "white",
           "landcolor": "#E5ECF6",
           "showlakes": true,
           "showland": true,
           "subunitcolor": "white"
          },
          "hoverlabel": {
           "align": "left"
          },
          "hovermode": "closest",
          "mapbox": {
           "style": "light"
          },
          "paper_bgcolor": "white",
          "plot_bgcolor": "#E5ECF6",
          "polar": {
           "angularaxis": {
            "gridcolor": "white",
            "linecolor": "white",
            "ticks": ""
           },
           "bgcolor": "#E5ECF6",
           "radialaxis": {
            "gridcolor": "white",
            "linecolor": "white",
            "ticks": ""
           }
          },
          "scene": {
           "xaxis": {
            "backgroundcolor": "#E5ECF6",
            "gridcolor": "white",
            "gridwidth": 2,
            "linecolor": "white",
            "showbackground": true,
            "ticks": "",
            "zerolinecolor": "white"
           },
           "yaxis": {
            "backgroundcolor": "#E5ECF6",
            "gridcolor": "white",
            "gridwidth": 2,
            "linecolor": "white",
            "showbackground": true,
            "ticks": "",
            "zerolinecolor": "white"
           },
           "zaxis": {
            "backgroundcolor": "#E5ECF6",
            "gridcolor": "white",
            "gridwidth": 2,
            "linecolor": "white",
            "showbackground": true,
            "ticks": "",
            "zerolinecolor": "white"
           }
          },
          "shapedefaults": {
           "line": {
            "color": "#2a3f5f"
           }
          },
          "ternary": {
           "aaxis": {
            "gridcolor": "white",
            "linecolor": "white",
            "ticks": ""
           },
           "baxis": {
            "gridcolor": "white",
            "linecolor": "white",
            "ticks": ""
           },
           "bgcolor": "#E5ECF6",
           "caxis": {
            "gridcolor": "white",
            "linecolor": "white",
            "ticks": ""
           }
          },
          "title": {
           "x": 0.05
          },
          "xaxis": {
           "automargin": true,
           "gridcolor": "white",
           "linecolor": "white",
           "ticks": "",
           "title": {
            "standoff": 15
           },
           "zerolinecolor": "white",
           "zerolinewidth": 2
          },
          "yaxis": {
           "automargin": true,
           "gridcolor": "white",
           "linecolor": "white",
           "ticks": "",
           "title": {
            "standoff": 15
           },
           "zerolinecolor": "white",
           "zerolinewidth": 2
          }
         }
        },
        "xaxis": {
         "anchor": "y",
         "domain": [
          0,
          1
         ],
         "title": {
          "text": "Number of training samples"
         }
        },
        "yaxis": {
         "anchor": "x",
         "domain": [
          0,
          1
         ],
         "title": {
          "text": "MSE of training set"
         }
        }
       }
      }
     },
     "metadata": {},
     "output_type": "display_data"
    }
   ],
   "source": [
    "fig = px.line(x=data_sizes, y=train_MSE).update_layout(xaxis_title='Number of training samples' , yaxis_title=\"MSE of training set\")\n",
    "fig.show()"
   ]
  },
  {
   "cell_type": "markdown",
   "metadata": {},
   "source": [
    "<p dir=rtl style=\"direction: rtl;text-align: right;line-height:200%;font-family:vazir;font-size:medium\">\n",
    "<font face=\"vazir\" size=3>\n",
    "در سلول زیر مشابه نمودار فوق را برای دادگان آزمایشی رسم می‌کنیم:\n",
    "</font>\n",
    "</p>"
   ]
  },
  {
   "cell_type": "code",
   "execution_count": 14,
   "metadata": {},
   "outputs": [
    {
     "data": {
      "application/vnd.plotly.v1+json": {
       "config": {
        "plotlyServerURL": "https://plot.ly"
       },
       "data": [
        {
         "hovertemplate": "x=%{x}<br>y=%{y}<extra></extra>",
         "legendgroup": "",
         "line": {
          "color": "#636efa",
          "dash": "solid"
         },
         "marker": {
          "symbol": "circle"
         },
         "mode": "lines",
         "name": "",
         "orientation": "v",
         "showlegend": false,
         "type": "scatter",
         "x": [
          10,
          25,
          50,
          100,
          200
         ],
         "xaxis": "x",
         "y": [
          3421.4525444411624,
          1.0655501748232201,
          0.3527823698243198,
          0.1523617252609101,
          0.09615550334095467
         ],
         "yaxis": "y"
        }
       ],
       "layout": {
        "legend": {
         "tracegroupgap": 0
        },
        "margin": {
         "t": 60
        },
        "template": {
         "data": {
          "bar": [
           {
            "error_x": {
             "color": "#2a3f5f"
            },
            "error_y": {
             "color": "#2a3f5f"
            },
            "marker": {
             "line": {
              "color": "#E5ECF6",
              "width": 0.5
             },
             "pattern": {
              "fillmode": "overlay",
              "size": 10,
              "solidity": 0.2
             }
            },
            "type": "bar"
           }
          ],
          "barpolar": [
           {
            "marker": {
             "line": {
              "color": "#E5ECF6",
              "width": 0.5
             },
             "pattern": {
              "fillmode": "overlay",
              "size": 10,
              "solidity": 0.2
             }
            },
            "type": "barpolar"
           }
          ],
          "carpet": [
           {
            "aaxis": {
             "endlinecolor": "#2a3f5f",
             "gridcolor": "white",
             "linecolor": "white",
             "minorgridcolor": "white",
             "startlinecolor": "#2a3f5f"
            },
            "baxis": {
             "endlinecolor": "#2a3f5f",
             "gridcolor": "white",
             "linecolor": "white",
             "minorgridcolor": "white",
             "startlinecolor": "#2a3f5f"
            },
            "type": "carpet"
           }
          ],
          "choropleth": [
           {
            "colorbar": {
             "outlinewidth": 0,
             "ticks": ""
            },
            "type": "choropleth"
           }
          ],
          "contour": [
           {
            "colorbar": {
             "outlinewidth": 0,
             "ticks": ""
            },
            "colorscale": [
             [
              0,
              "#0d0887"
             ],
             [
              0.1111111111111111,
              "#46039f"
             ],
             [
              0.2222222222222222,
              "#7201a8"
             ],
             [
              0.3333333333333333,
              "#9c179e"
             ],
             [
              0.4444444444444444,
              "#bd3786"
             ],
             [
              0.5555555555555556,
              "#d8576b"
             ],
             [
              0.6666666666666666,
              "#ed7953"
             ],
             [
              0.7777777777777778,
              "#fb9f3a"
             ],
             [
              0.8888888888888888,
              "#fdca26"
             ],
             [
              1,
              "#f0f921"
             ]
            ],
            "type": "contour"
           }
          ],
          "contourcarpet": [
           {
            "colorbar": {
             "outlinewidth": 0,
             "ticks": ""
            },
            "type": "contourcarpet"
           }
          ],
          "heatmap": [
           {
            "colorbar": {
             "outlinewidth": 0,
             "ticks": ""
            },
            "colorscale": [
             [
              0,
              "#0d0887"
             ],
             [
              0.1111111111111111,
              "#46039f"
             ],
             [
              0.2222222222222222,
              "#7201a8"
             ],
             [
              0.3333333333333333,
              "#9c179e"
             ],
             [
              0.4444444444444444,
              "#bd3786"
             ],
             [
              0.5555555555555556,
              "#d8576b"
             ],
             [
              0.6666666666666666,
              "#ed7953"
             ],
             [
              0.7777777777777778,
              "#fb9f3a"
             ],
             [
              0.8888888888888888,
              "#fdca26"
             ],
             [
              1,
              "#f0f921"
             ]
            ],
            "type": "heatmap"
           }
          ],
          "heatmapgl": [
           {
            "colorbar": {
             "outlinewidth": 0,
             "ticks": ""
            },
            "colorscale": [
             [
              0,
              "#0d0887"
             ],
             [
              0.1111111111111111,
              "#46039f"
             ],
             [
              0.2222222222222222,
              "#7201a8"
             ],
             [
              0.3333333333333333,
              "#9c179e"
             ],
             [
              0.4444444444444444,
              "#bd3786"
             ],
             [
              0.5555555555555556,
              "#d8576b"
             ],
             [
              0.6666666666666666,
              "#ed7953"
             ],
             [
              0.7777777777777778,
              "#fb9f3a"
             ],
             [
              0.8888888888888888,
              "#fdca26"
             ],
             [
              1,
              "#f0f921"
             ]
            ],
            "type": "heatmapgl"
           }
          ],
          "histogram": [
           {
            "marker": {
             "pattern": {
              "fillmode": "overlay",
              "size": 10,
              "solidity": 0.2
             }
            },
            "type": "histogram"
           }
          ],
          "histogram2d": [
           {
            "colorbar": {
             "outlinewidth": 0,
             "ticks": ""
            },
            "colorscale": [
             [
              0,
              "#0d0887"
             ],
             [
              0.1111111111111111,
              "#46039f"
             ],
             [
              0.2222222222222222,
              "#7201a8"
             ],
             [
              0.3333333333333333,
              "#9c179e"
             ],
             [
              0.4444444444444444,
              "#bd3786"
             ],
             [
              0.5555555555555556,
              "#d8576b"
             ],
             [
              0.6666666666666666,
              "#ed7953"
             ],
             [
              0.7777777777777778,
              "#fb9f3a"
             ],
             [
              0.8888888888888888,
              "#fdca26"
             ],
             [
              1,
              "#f0f921"
             ]
            ],
            "type": "histogram2d"
           }
          ],
          "histogram2dcontour": [
           {
            "colorbar": {
             "outlinewidth": 0,
             "ticks": ""
            },
            "colorscale": [
             [
              0,
              "#0d0887"
             ],
             [
              0.1111111111111111,
              "#46039f"
             ],
             [
              0.2222222222222222,
              "#7201a8"
             ],
             [
              0.3333333333333333,
              "#9c179e"
             ],
             [
              0.4444444444444444,
              "#bd3786"
             ],
             [
              0.5555555555555556,
              "#d8576b"
             ],
             [
              0.6666666666666666,
              "#ed7953"
             ],
             [
              0.7777777777777778,
              "#fb9f3a"
             ],
             [
              0.8888888888888888,
              "#fdca26"
             ],
             [
              1,
              "#f0f921"
             ]
            ],
            "type": "histogram2dcontour"
           }
          ],
          "mesh3d": [
           {
            "colorbar": {
             "outlinewidth": 0,
             "ticks": ""
            },
            "type": "mesh3d"
           }
          ],
          "parcoords": [
           {
            "line": {
             "colorbar": {
              "outlinewidth": 0,
              "ticks": ""
             }
            },
            "type": "parcoords"
           }
          ],
          "pie": [
           {
            "automargin": true,
            "type": "pie"
           }
          ],
          "scatter": [
           {
            "fillpattern": {
             "fillmode": "overlay",
             "size": 10,
             "solidity": 0.2
            },
            "type": "scatter"
           }
          ],
          "scatter3d": [
           {
            "line": {
             "colorbar": {
              "outlinewidth": 0,
              "ticks": ""
             }
            },
            "marker": {
             "colorbar": {
              "outlinewidth": 0,
              "ticks": ""
             }
            },
            "type": "scatter3d"
           }
          ],
          "scattercarpet": [
           {
            "marker": {
             "colorbar": {
              "outlinewidth": 0,
              "ticks": ""
             }
            },
            "type": "scattercarpet"
           }
          ],
          "scattergeo": [
           {
            "marker": {
             "colorbar": {
              "outlinewidth": 0,
              "ticks": ""
             }
            },
            "type": "scattergeo"
           }
          ],
          "scattergl": [
           {
            "marker": {
             "colorbar": {
              "outlinewidth": 0,
              "ticks": ""
             }
            },
            "type": "scattergl"
           }
          ],
          "scattermapbox": [
           {
            "marker": {
             "colorbar": {
              "outlinewidth": 0,
              "ticks": ""
             }
            },
            "type": "scattermapbox"
           }
          ],
          "scatterpolar": [
           {
            "marker": {
             "colorbar": {
              "outlinewidth": 0,
              "ticks": ""
             }
            },
            "type": "scatterpolar"
           }
          ],
          "scatterpolargl": [
           {
            "marker": {
             "colorbar": {
              "outlinewidth": 0,
              "ticks": ""
             }
            },
            "type": "scatterpolargl"
           }
          ],
          "scatterternary": [
           {
            "marker": {
             "colorbar": {
              "outlinewidth": 0,
              "ticks": ""
             }
            },
            "type": "scatterternary"
           }
          ],
          "surface": [
           {
            "colorbar": {
             "outlinewidth": 0,
             "ticks": ""
            },
            "colorscale": [
             [
              0,
              "#0d0887"
             ],
             [
              0.1111111111111111,
              "#46039f"
             ],
             [
              0.2222222222222222,
              "#7201a8"
             ],
             [
              0.3333333333333333,
              "#9c179e"
             ],
             [
              0.4444444444444444,
              "#bd3786"
             ],
             [
              0.5555555555555556,
              "#d8576b"
             ],
             [
              0.6666666666666666,
              "#ed7953"
             ],
             [
              0.7777777777777778,
              "#fb9f3a"
             ],
             [
              0.8888888888888888,
              "#fdca26"
             ],
             [
              1,
              "#f0f921"
             ]
            ],
            "type": "surface"
           }
          ],
          "table": [
           {
            "cells": {
             "fill": {
              "color": "#EBF0F8"
             },
             "line": {
              "color": "white"
             }
            },
            "header": {
             "fill": {
              "color": "#C8D4E3"
             },
             "line": {
              "color": "white"
             }
            },
            "type": "table"
           }
          ]
         },
         "layout": {
          "annotationdefaults": {
           "arrowcolor": "#2a3f5f",
           "arrowhead": 0,
           "arrowwidth": 1
          },
          "autotypenumbers": "strict",
          "coloraxis": {
           "colorbar": {
            "outlinewidth": 0,
            "ticks": ""
           }
          },
          "colorscale": {
           "diverging": [
            [
             0,
             "#8e0152"
            ],
            [
             0.1,
             "#c51b7d"
            ],
            [
             0.2,
             "#de77ae"
            ],
            [
             0.3,
             "#f1b6da"
            ],
            [
             0.4,
             "#fde0ef"
            ],
            [
             0.5,
             "#f7f7f7"
            ],
            [
             0.6,
             "#e6f5d0"
            ],
            [
             0.7,
             "#b8e186"
            ],
            [
             0.8,
             "#7fbc41"
            ],
            [
             0.9,
             "#4d9221"
            ],
            [
             1,
             "#276419"
            ]
           ],
           "sequential": [
            [
             0,
             "#0d0887"
            ],
            [
             0.1111111111111111,
             "#46039f"
            ],
            [
             0.2222222222222222,
             "#7201a8"
            ],
            [
             0.3333333333333333,
             "#9c179e"
            ],
            [
             0.4444444444444444,
             "#bd3786"
            ],
            [
             0.5555555555555556,
             "#d8576b"
            ],
            [
             0.6666666666666666,
             "#ed7953"
            ],
            [
             0.7777777777777778,
             "#fb9f3a"
            ],
            [
             0.8888888888888888,
             "#fdca26"
            ],
            [
             1,
             "#f0f921"
            ]
           ],
           "sequentialminus": [
            [
             0,
             "#0d0887"
            ],
            [
             0.1111111111111111,
             "#46039f"
            ],
            [
             0.2222222222222222,
             "#7201a8"
            ],
            [
             0.3333333333333333,
             "#9c179e"
            ],
            [
             0.4444444444444444,
             "#bd3786"
            ],
            [
             0.5555555555555556,
             "#d8576b"
            ],
            [
             0.6666666666666666,
             "#ed7953"
            ],
            [
             0.7777777777777778,
             "#fb9f3a"
            ],
            [
             0.8888888888888888,
             "#fdca26"
            ],
            [
             1,
             "#f0f921"
            ]
           ]
          },
          "colorway": [
           "#636efa",
           "#EF553B",
           "#00cc96",
           "#ab63fa",
           "#FFA15A",
           "#19d3f3",
           "#FF6692",
           "#B6E880",
           "#FF97FF",
           "#FECB52"
          ],
          "font": {
           "color": "#2a3f5f"
          },
          "geo": {
           "bgcolor": "white",
           "lakecolor": "white",
           "landcolor": "#E5ECF6",
           "showlakes": true,
           "showland": true,
           "subunitcolor": "white"
          },
          "hoverlabel": {
           "align": "left"
          },
          "hovermode": "closest",
          "mapbox": {
           "style": "light"
          },
          "paper_bgcolor": "white",
          "plot_bgcolor": "#E5ECF6",
          "polar": {
           "angularaxis": {
            "gridcolor": "white",
            "linecolor": "white",
            "ticks": ""
           },
           "bgcolor": "#E5ECF6",
           "radialaxis": {
            "gridcolor": "white",
            "linecolor": "white",
            "ticks": ""
           }
          },
          "scene": {
           "xaxis": {
            "backgroundcolor": "#E5ECF6",
            "gridcolor": "white",
            "gridwidth": 2,
            "linecolor": "white",
            "showbackground": true,
            "ticks": "",
            "zerolinecolor": "white"
           },
           "yaxis": {
            "backgroundcolor": "#E5ECF6",
            "gridcolor": "white",
            "gridwidth": 2,
            "linecolor": "white",
            "showbackground": true,
            "ticks": "",
            "zerolinecolor": "white"
           },
           "zaxis": {
            "backgroundcolor": "#E5ECF6",
            "gridcolor": "white",
            "gridwidth": 2,
            "linecolor": "white",
            "showbackground": true,
            "ticks": "",
            "zerolinecolor": "white"
           }
          },
          "shapedefaults": {
           "line": {
            "color": "#2a3f5f"
           }
          },
          "ternary": {
           "aaxis": {
            "gridcolor": "white",
            "linecolor": "white",
            "ticks": ""
           },
           "baxis": {
            "gridcolor": "white",
            "linecolor": "white",
            "ticks": ""
           },
           "bgcolor": "#E5ECF6",
           "caxis": {
            "gridcolor": "white",
            "linecolor": "white",
            "ticks": ""
           }
          },
          "title": {
           "x": 0.05
          },
          "xaxis": {
           "automargin": true,
           "gridcolor": "white",
           "linecolor": "white",
           "ticks": "",
           "title": {
            "standoff": 15
           },
           "zerolinecolor": "white",
           "zerolinewidth": 2
          },
          "yaxis": {
           "automargin": true,
           "gridcolor": "white",
           "linecolor": "white",
           "ticks": "",
           "title": {
            "standoff": 15
           },
           "zerolinecolor": "white",
           "zerolinewidth": 2
          }
         }
        },
        "xaxis": {
         "anchor": "y",
         "domain": [
          0,
          1
         ],
         "title": {
          "text": "Number of training samples"
         }
        },
        "yaxis": {
         "anchor": "x",
         "domain": [
          0,
          1
         ],
         "title": {
          "text": "MSE of test set"
         }
        }
       }
      }
     },
     "metadata": {},
     "output_type": "display_data"
    }
   ],
   "source": [
    "fig = px.line(x=data_sizes,y=test_MSE).update_layout(xaxis_title='Number of training samples' , yaxis_title=\"MSE of test set\")\n",
    "fig.show()"
   ]
  },
  {
   "cell_type": "code",
   "execution_count": 15,
   "metadata": {},
   "outputs": [
    {
     "data": {
      "application/vnd.plotly.v1+json": {
       "config": {
        "plotlyServerURL": "https://plot.ly"
       },
       "data": [
        {
         "hovertemplate": "x=%{x}<br>y=%{y}<extra></extra>",
         "legendgroup": "",
         "line": {
          "color": "#636efa",
          "dash": "solid"
         },
         "marker": {
          "symbol": "circle"
         },
         "mode": "lines",
         "name": "",
         "orientation": "v",
         "showlegend": false,
         "type": "scatter",
         "x": [
          10,
          25,
          50,
          100,
          200
         ],
         "xaxis": "x",
         "y": [
          3421.4525444411624,
          1.0655501748232201,
          0.3527823698243198,
          0.1523617252609101,
          0.09615550334095467
         ],
         "yaxis": "y"
        }
       ],
       "layout": {
        "legend": {
         "tracegroupgap": 0
        },
        "margin": {
         "t": 60
        },
        "template": {
         "data": {
          "bar": [
           {
            "error_x": {
             "color": "#2a3f5f"
            },
            "error_y": {
             "color": "#2a3f5f"
            },
            "marker": {
             "line": {
              "color": "#E5ECF6",
              "width": 0.5
             },
             "pattern": {
              "fillmode": "overlay",
              "size": 10,
              "solidity": 0.2
             }
            },
            "type": "bar"
           }
          ],
          "barpolar": [
           {
            "marker": {
             "line": {
              "color": "#E5ECF6",
              "width": 0.5
             },
             "pattern": {
              "fillmode": "overlay",
              "size": 10,
              "solidity": 0.2
             }
            },
            "type": "barpolar"
           }
          ],
          "carpet": [
           {
            "aaxis": {
             "endlinecolor": "#2a3f5f",
             "gridcolor": "white",
             "linecolor": "white",
             "minorgridcolor": "white",
             "startlinecolor": "#2a3f5f"
            },
            "baxis": {
             "endlinecolor": "#2a3f5f",
             "gridcolor": "white",
             "linecolor": "white",
             "minorgridcolor": "white",
             "startlinecolor": "#2a3f5f"
            },
            "type": "carpet"
           }
          ],
          "choropleth": [
           {
            "colorbar": {
             "outlinewidth": 0,
             "ticks": ""
            },
            "type": "choropleth"
           }
          ],
          "contour": [
           {
            "colorbar": {
             "outlinewidth": 0,
             "ticks": ""
            },
            "colorscale": [
             [
              0,
              "#0d0887"
             ],
             [
              0.1111111111111111,
              "#46039f"
             ],
             [
              0.2222222222222222,
              "#7201a8"
             ],
             [
              0.3333333333333333,
              "#9c179e"
             ],
             [
              0.4444444444444444,
              "#bd3786"
             ],
             [
              0.5555555555555556,
              "#d8576b"
             ],
             [
              0.6666666666666666,
              "#ed7953"
             ],
             [
              0.7777777777777778,
              "#fb9f3a"
             ],
             [
              0.8888888888888888,
              "#fdca26"
             ],
             [
              1,
              "#f0f921"
             ]
            ],
            "type": "contour"
           }
          ],
          "contourcarpet": [
           {
            "colorbar": {
             "outlinewidth": 0,
             "ticks": ""
            },
            "type": "contourcarpet"
           }
          ],
          "heatmap": [
           {
            "colorbar": {
             "outlinewidth": 0,
             "ticks": ""
            },
            "colorscale": [
             [
              0,
              "#0d0887"
             ],
             [
              0.1111111111111111,
              "#46039f"
             ],
             [
              0.2222222222222222,
              "#7201a8"
             ],
             [
              0.3333333333333333,
              "#9c179e"
             ],
             [
              0.4444444444444444,
              "#bd3786"
             ],
             [
              0.5555555555555556,
              "#d8576b"
             ],
             [
              0.6666666666666666,
              "#ed7953"
             ],
             [
              0.7777777777777778,
              "#fb9f3a"
             ],
             [
              0.8888888888888888,
              "#fdca26"
             ],
             [
              1,
              "#f0f921"
             ]
            ],
            "type": "heatmap"
           }
          ],
          "heatmapgl": [
           {
            "colorbar": {
             "outlinewidth": 0,
             "ticks": ""
            },
            "colorscale": [
             [
              0,
              "#0d0887"
             ],
             [
              0.1111111111111111,
              "#46039f"
             ],
             [
              0.2222222222222222,
              "#7201a8"
             ],
             [
              0.3333333333333333,
              "#9c179e"
             ],
             [
              0.4444444444444444,
              "#bd3786"
             ],
             [
              0.5555555555555556,
              "#d8576b"
             ],
             [
              0.6666666666666666,
              "#ed7953"
             ],
             [
              0.7777777777777778,
              "#fb9f3a"
             ],
             [
              0.8888888888888888,
              "#fdca26"
             ],
             [
              1,
              "#f0f921"
             ]
            ],
            "type": "heatmapgl"
           }
          ],
          "histogram": [
           {
            "marker": {
             "pattern": {
              "fillmode": "overlay",
              "size": 10,
              "solidity": 0.2
             }
            },
            "type": "histogram"
           }
          ],
          "histogram2d": [
           {
            "colorbar": {
             "outlinewidth": 0,
             "ticks": ""
            },
            "colorscale": [
             [
              0,
              "#0d0887"
             ],
             [
              0.1111111111111111,
              "#46039f"
             ],
             [
              0.2222222222222222,
              "#7201a8"
             ],
             [
              0.3333333333333333,
              "#9c179e"
             ],
             [
              0.4444444444444444,
              "#bd3786"
             ],
             [
              0.5555555555555556,
              "#d8576b"
             ],
             [
              0.6666666666666666,
              "#ed7953"
             ],
             [
              0.7777777777777778,
              "#fb9f3a"
             ],
             [
              0.8888888888888888,
              "#fdca26"
             ],
             [
              1,
              "#f0f921"
             ]
            ],
            "type": "histogram2d"
           }
          ],
          "histogram2dcontour": [
           {
            "colorbar": {
             "outlinewidth": 0,
             "ticks": ""
            },
            "colorscale": [
             [
              0,
              "#0d0887"
             ],
             [
              0.1111111111111111,
              "#46039f"
             ],
             [
              0.2222222222222222,
              "#7201a8"
             ],
             [
              0.3333333333333333,
              "#9c179e"
             ],
             [
              0.4444444444444444,
              "#bd3786"
             ],
             [
              0.5555555555555556,
              "#d8576b"
             ],
             [
              0.6666666666666666,
              "#ed7953"
             ],
             [
              0.7777777777777778,
              "#fb9f3a"
             ],
             [
              0.8888888888888888,
              "#fdca26"
             ],
             [
              1,
              "#f0f921"
             ]
            ],
            "type": "histogram2dcontour"
           }
          ],
          "mesh3d": [
           {
            "colorbar": {
             "outlinewidth": 0,
             "ticks": ""
            },
            "type": "mesh3d"
           }
          ],
          "parcoords": [
           {
            "line": {
             "colorbar": {
              "outlinewidth": 0,
              "ticks": ""
             }
            },
            "type": "parcoords"
           }
          ],
          "pie": [
           {
            "automargin": true,
            "type": "pie"
           }
          ],
          "scatter": [
           {
            "fillpattern": {
             "fillmode": "overlay",
             "size": 10,
             "solidity": 0.2
            },
            "type": "scatter"
           }
          ],
          "scatter3d": [
           {
            "line": {
             "colorbar": {
              "outlinewidth": 0,
              "ticks": ""
             }
            },
            "marker": {
             "colorbar": {
              "outlinewidth": 0,
              "ticks": ""
             }
            },
            "type": "scatter3d"
           }
          ],
          "scattercarpet": [
           {
            "marker": {
             "colorbar": {
              "outlinewidth": 0,
              "ticks": ""
             }
            },
            "type": "scattercarpet"
           }
          ],
          "scattergeo": [
           {
            "marker": {
             "colorbar": {
              "outlinewidth": 0,
              "ticks": ""
             }
            },
            "type": "scattergeo"
           }
          ],
          "scattergl": [
           {
            "marker": {
             "colorbar": {
              "outlinewidth": 0,
              "ticks": ""
             }
            },
            "type": "scattergl"
           }
          ],
          "scattermapbox": [
           {
            "marker": {
             "colorbar": {
              "outlinewidth": 0,
              "ticks": ""
             }
            },
            "type": "scattermapbox"
           }
          ],
          "scatterpolar": [
           {
            "marker": {
             "colorbar": {
              "outlinewidth": 0,
              "ticks": ""
             }
            },
            "type": "scatterpolar"
           }
          ],
          "scatterpolargl": [
           {
            "marker": {
             "colorbar": {
              "outlinewidth": 0,
              "ticks": ""
             }
            },
            "type": "scatterpolargl"
           }
          ],
          "scatterternary": [
           {
            "marker": {
             "colorbar": {
              "outlinewidth": 0,
              "ticks": ""
             }
            },
            "type": "scatterternary"
           }
          ],
          "surface": [
           {
            "colorbar": {
             "outlinewidth": 0,
             "ticks": ""
            },
            "colorscale": [
             [
              0,
              "#0d0887"
             ],
             [
              0.1111111111111111,
              "#46039f"
             ],
             [
              0.2222222222222222,
              "#7201a8"
             ],
             [
              0.3333333333333333,
              "#9c179e"
             ],
             [
              0.4444444444444444,
              "#bd3786"
             ],
             [
              0.5555555555555556,
              "#d8576b"
             ],
             [
              0.6666666666666666,
              "#ed7953"
             ],
             [
              0.7777777777777778,
              "#fb9f3a"
             ],
             [
              0.8888888888888888,
              "#fdca26"
             ],
             [
              1,
              "#f0f921"
             ]
            ],
            "type": "surface"
           }
          ],
          "table": [
           {
            "cells": {
             "fill": {
              "color": "#EBF0F8"
             },
             "line": {
              "color": "white"
             }
            },
            "header": {
             "fill": {
              "color": "#C8D4E3"
             },
             "line": {
              "color": "white"
             }
            },
            "type": "table"
           }
          ]
         },
         "layout": {
          "annotationdefaults": {
           "arrowcolor": "#2a3f5f",
           "arrowhead": 0,
           "arrowwidth": 1
          },
          "autotypenumbers": "strict",
          "coloraxis": {
           "colorbar": {
            "outlinewidth": 0,
            "ticks": ""
           }
          },
          "colorscale": {
           "diverging": [
            [
             0,
             "#8e0152"
            ],
            [
             0.1,
             "#c51b7d"
            ],
            [
             0.2,
             "#de77ae"
            ],
            [
             0.3,
             "#f1b6da"
            ],
            [
             0.4,
             "#fde0ef"
            ],
            [
             0.5,
             "#f7f7f7"
            ],
            [
             0.6,
             "#e6f5d0"
            ],
            [
             0.7,
             "#b8e186"
            ],
            [
             0.8,
             "#7fbc41"
            ],
            [
             0.9,
             "#4d9221"
            ],
            [
             1,
             "#276419"
            ]
           ],
           "sequential": [
            [
             0,
             "#0d0887"
            ],
            [
             0.1111111111111111,
             "#46039f"
            ],
            [
             0.2222222222222222,
             "#7201a8"
            ],
            [
             0.3333333333333333,
             "#9c179e"
            ],
            [
             0.4444444444444444,
             "#bd3786"
            ],
            [
             0.5555555555555556,
             "#d8576b"
            ],
            [
             0.6666666666666666,
             "#ed7953"
            ],
            [
             0.7777777777777778,
             "#fb9f3a"
            ],
            [
             0.8888888888888888,
             "#fdca26"
            ],
            [
             1,
             "#f0f921"
            ]
           ],
           "sequentialminus": [
            [
             0,
             "#0d0887"
            ],
            [
             0.1111111111111111,
             "#46039f"
            ],
            [
             0.2222222222222222,
             "#7201a8"
            ],
            [
             0.3333333333333333,
             "#9c179e"
            ],
            [
             0.4444444444444444,
             "#bd3786"
            ],
            [
             0.5555555555555556,
             "#d8576b"
            ],
            [
             0.6666666666666666,
             "#ed7953"
            ],
            [
             0.7777777777777778,
             "#fb9f3a"
            ],
            [
             0.8888888888888888,
             "#fdca26"
            ],
            [
             1,
             "#f0f921"
            ]
           ]
          },
          "colorway": [
           "#636efa",
           "#EF553B",
           "#00cc96",
           "#ab63fa",
           "#FFA15A",
           "#19d3f3",
           "#FF6692",
           "#B6E880",
           "#FF97FF",
           "#FECB52"
          ],
          "font": {
           "color": "#2a3f5f"
          },
          "geo": {
           "bgcolor": "white",
           "lakecolor": "white",
           "landcolor": "#E5ECF6",
           "showlakes": true,
           "showland": true,
           "subunitcolor": "white"
          },
          "hoverlabel": {
           "align": "left"
          },
          "hovermode": "closest",
          "mapbox": {
           "style": "light"
          },
          "paper_bgcolor": "white",
          "plot_bgcolor": "#E5ECF6",
          "polar": {
           "angularaxis": {
            "gridcolor": "white",
            "linecolor": "white",
            "ticks": ""
           },
           "bgcolor": "#E5ECF6",
           "radialaxis": {
            "gridcolor": "white",
            "linecolor": "white",
            "ticks": ""
           }
          },
          "scene": {
           "xaxis": {
            "backgroundcolor": "#E5ECF6",
            "gridcolor": "white",
            "gridwidth": 2,
            "linecolor": "white",
            "showbackground": true,
            "ticks": "",
            "zerolinecolor": "white"
           },
           "yaxis": {
            "backgroundcolor": "#E5ECF6",
            "gridcolor": "white",
            "gridwidth": 2,
            "linecolor": "white",
            "showbackground": true,
            "ticks": "",
            "zerolinecolor": "white"
           },
           "zaxis": {
            "backgroundcolor": "#E5ECF6",
            "gridcolor": "white",
            "gridwidth": 2,
            "linecolor": "white",
            "showbackground": true,
            "ticks": "",
            "zerolinecolor": "white"
           }
          },
          "shapedefaults": {
           "line": {
            "color": "#2a3f5f"
           }
          },
          "ternary": {
           "aaxis": {
            "gridcolor": "white",
            "linecolor": "white",
            "ticks": ""
           },
           "baxis": {
            "gridcolor": "white",
            "linecolor": "white",
            "ticks": ""
           },
           "bgcolor": "#E5ECF6",
           "caxis": {
            "gridcolor": "white",
            "linecolor": "white",
            "ticks": ""
           }
          },
          "title": {
           "x": 0.05
          },
          "xaxis": {
           "automargin": true,
           "gridcolor": "white",
           "linecolor": "white",
           "ticks": "",
           "title": {
            "standoff": 15
           },
           "zerolinecolor": "white",
           "zerolinewidth": 2
          },
          "yaxis": {
           "automargin": true,
           "gridcolor": "white",
           "linecolor": "white",
           "ticks": "",
           "title": {
            "standoff": 15
           },
           "zerolinecolor": "white",
           "zerolinewidth": 2
          }
         }
        },
        "xaxis": {
         "anchor": "y",
         "domain": [
          0,
          1
         ],
         "title": {
          "text": "Number of training samples"
         }
        },
        "yaxis": {
         "anchor": "x",
         "domain": [
          0,
          1
         ],
         "range": [
          -5,
          20
         ],
         "title": {
          "text": "MSE of test set"
         }
        }
       }
      }
     },
     "metadata": {},
     "output_type": "display_data"
    }
   ],
   "source": [
    "fig = px.line(x=data_sizes,y=test_MSE, range_y=[-5,20]).update_layout(xaxis_title='Number of training samples' , yaxis_title=\"MSE of test set\")\n",
    "fig.show()"
   ]
  },
  {
   "attachments": {},
   "cell_type": "markdown",
   "metadata": {},
   "source": [
    "## 4. Analysis"
   ]
  },
  {
   "cell_type": "markdown",
   "metadata": {},
   "source": [
    "<p dir=rtl style=\"direction: rtl;text-align: right;line-height:200%;font-family:vazir;font-size:medium\">\n",
    "<font face=\"vazir\" size=3>\n",
    "همانطور که مشاهده می‌کنید وقتی تعداد دادگان آموزشی ما کم است مدل به خوبی روی دادگان آموزشی برازش می‌شود و درنتیجه خطای آن روی دادگان آموزشی بسیار کم است ولی از طرفی خطای آن روی دادگان تست بسیار زیاد است بنابراین وقتی تعداد دادگان کم است مدل \n",
    "<code>overfit</code>\n",
    "می‌کند.یکی از راه های جلوگیری از\n",
    "<code>overfitting</code>\n",
    "افزایش داده های آموزشی است با افزایش داده ها خطای مدل روی داده های آموزشی بیشتر می‌شود ولی خطای دادگان آزمایشی کمتر شده و مدل بهتر\n",
    "<code>generalize</code>\n",
    "می‌شود.\n",
    "</font>\n",
    "</p>"
   ]
  },
  {
   "cell_type": "markdown",
   "metadata": {},
   "source": [
    "<p dir=rtl style=\"direction: rtl;text-align: right;line-height:200%;font-family:vazir;font-size:medium\">\n",
    "<font face=\"vazir\" size=3>\n",
    "مدلی که با \n",
    "<code>10</code>\n",
    "داده آموزشی برازش یافته است از همه بدتر است زیرا دچار \n",
    "<code>overfitting</code>\n",
    "می‌شود.دو مدلی که با \n",
    "<code>100</code>\n",
    "و\n",
    "<code>200</code>\n",
    "داده آموزشی آموزش دیده اند به همدیگر خیلی نزدیک اند زیرا خطای این دو مدل چه روی دادگان آموزشی و چه روی دادگان تست اختلاف خیلی کمی دارند.به نظر می‌رسد افزودن صد داده دیگر کارایی مدل را بیشتر نکرده است.\n",
    "دو مدل دیگر یعنی مدل هایی که \n",
    "<code>50</code>\n",
    "و \n",
    "<code>25</code>\n",
    "داده آموزشی داشتند عملکرد ضعیف تری نسبت به دو مدل با \n",
    "<code>200</code>\n",
    "و\n",
    "<code>100</code>\n",
    "داده آموزشی دارند\n",
    "اگر مدل ها را با تعداد داده های آموزشی شان به صورت اندیس تشان دهیم رتبه بندی زیر را بین پنج مدل فوق داریم:\n",
    "</font>\n",
    "</p>"
   ]
  },
  {
   "cell_type": "markdown",
   "metadata": {},
   "source": [
    "$$\n",
    "m_{10} < m_{25} < m_{50} < m_{100} \\approx m_{200}\n",
    "$$"
   ]
  },
  {
   "attachments": {},
   "cell_type": "markdown",
   "metadata": {},
   "source": [
    "## 5. Linear Regression with Regularization"
   ]
  },
  {
   "attachments": {},
   "cell_type": "markdown",
   "metadata": {},
   "source": [
    "### 5.1 Read Data"
   ]
  },
  {
   "cell_type": "code",
   "execution_count": 47,
   "metadata": {},
   "outputs": [],
   "source": [
    "train = pd.read_csv('Dataset/Problem 2/train_set.csv')\n",
    "test = pd.read_csv('Dataset/Problem 2/test_set.csv')"
   ]
  },
  {
   "cell_type": "code",
   "execution_count": 48,
   "metadata": {},
   "outputs": [
    {
     "data": {
      "text/html": [
       "<div>\n",
       "<style scoped>\n",
       "    .dataframe tbody tr th:only-of-type {\n",
       "        vertical-align: middle;\n",
       "    }\n",
       "\n",
       "    .dataframe tbody tr th {\n",
       "        vertical-align: top;\n",
       "    }\n",
       "\n",
       "    .dataframe thead th {\n",
       "        text-align: right;\n",
       "    }\n",
       "</style>\n",
       "<table border=\"1\" class=\"dataframe\">\n",
       "  <thead>\n",
       "    <tr style=\"text-align: right;\">\n",
       "      <th></th>\n",
       "      <th>f1</th>\n",
       "      <th>f2</th>\n",
       "      <th>f3</th>\n",
       "      <th>f4</th>\n",
       "      <th>f5</th>\n",
       "      <th>f6</th>\n",
       "      <th>f7</th>\n",
       "      <th>f8</th>\n",
       "      <th>f9</th>\n",
       "      <th>f10</th>\n",
       "      <th>f11</th>\n",
       "      <th>f12</th>\n",
       "      <th>f13</th>\n",
       "      <th>target</th>\n",
       "    </tr>\n",
       "  </thead>\n",
       "  <tbody>\n",
       "    <tr>\n",
       "      <th>0</th>\n",
       "      <td>0.11460</td>\n",
       "      <td>20.0</td>\n",
       "      <td>6.96</td>\n",
       "      <td>0.0</td>\n",
       "      <td>0.464</td>\n",
       "      <td>6.538</td>\n",
       "      <td>58.7</td>\n",
       "      <td>3.9175</td>\n",
       "      <td>3.0</td>\n",
       "      <td>223.0</td>\n",
       "      <td>18.6</td>\n",
       "      <td>394.96</td>\n",
       "      <td>7.73</td>\n",
       "      <td>24.4</td>\n",
       "    </tr>\n",
       "    <tr>\n",
       "      <th>1</th>\n",
       "      <td>9.39063</td>\n",
       "      <td>0.0</td>\n",
       "      <td>18.10</td>\n",
       "      <td>0.0</td>\n",
       "      <td>0.740</td>\n",
       "      <td>5.627</td>\n",
       "      <td>93.9</td>\n",
       "      <td>1.8172</td>\n",
       "      <td>24.0</td>\n",
       "      <td>666.0</td>\n",
       "      <td>20.2</td>\n",
       "      <td>396.90</td>\n",
       "      <td>22.88</td>\n",
       "      <td>12.8</td>\n",
       "    </tr>\n",
       "    <tr>\n",
       "      <th>2</th>\n",
       "      <td>2.37857</td>\n",
       "      <td>0.0</td>\n",
       "      <td>18.10</td>\n",
       "      <td>0.0</td>\n",
       "      <td>0.583</td>\n",
       "      <td>5.871</td>\n",
       "      <td>41.9</td>\n",
       "      <td>3.7240</td>\n",
       "      <td>24.0</td>\n",
       "      <td>666.0</td>\n",
       "      <td>20.2</td>\n",
       "      <td>370.73</td>\n",
       "      <td>13.34</td>\n",
       "      <td>20.6</td>\n",
       "    </tr>\n",
       "    <tr>\n",
       "      <th>3</th>\n",
       "      <td>0.05302</td>\n",
       "      <td>0.0</td>\n",
       "      <td>3.41</td>\n",
       "      <td>0.0</td>\n",
       "      <td>0.489</td>\n",
       "      <td>7.079</td>\n",
       "      <td>63.1</td>\n",
       "      <td>3.4145</td>\n",
       "      <td>2.0</td>\n",
       "      <td>270.0</td>\n",
       "      <td>17.8</td>\n",
       "      <td>396.06</td>\n",
       "      <td>5.70</td>\n",
       "      <td>28.7</td>\n",
       "    </tr>\n",
       "    <tr>\n",
       "      <th>4</th>\n",
       "      <td>0.14150</td>\n",
       "      <td>0.0</td>\n",
       "      <td>6.91</td>\n",
       "      <td>0.0</td>\n",
       "      <td>0.448</td>\n",
       "      <td>6.169</td>\n",
       "      <td>6.6</td>\n",
       "      <td>5.7209</td>\n",
       "      <td>3.0</td>\n",
       "      <td>233.0</td>\n",
       "      <td>17.9</td>\n",
       "      <td>383.37</td>\n",
       "      <td>5.81</td>\n",
       "      <td>25.3</td>\n",
       "    </tr>\n",
       "  </tbody>\n",
       "</table>\n",
       "</div>"
      ],
      "text/plain": [
       "        f1    f2     f3   f4     f5     f6    f7      f8    f9    f10   f11  \\\n",
       "0  0.11460  20.0   6.96  0.0  0.464  6.538  58.7  3.9175   3.0  223.0  18.6   \n",
       "1  9.39063   0.0  18.10  0.0  0.740  5.627  93.9  1.8172  24.0  666.0  20.2   \n",
       "2  2.37857   0.0  18.10  0.0  0.583  5.871  41.9  3.7240  24.0  666.0  20.2   \n",
       "3  0.05302   0.0   3.41  0.0  0.489  7.079  63.1  3.4145   2.0  270.0  17.8   \n",
       "4  0.14150   0.0   6.91  0.0  0.448  6.169   6.6  5.7209   3.0  233.0  17.9   \n",
       "\n",
       "      f12    f13  target  \n",
       "0  394.96   7.73    24.4  \n",
       "1  396.90  22.88    12.8  \n",
       "2  370.73  13.34    20.6  \n",
       "3  396.06   5.70    28.7  \n",
       "4  383.37   5.81    25.3  "
      ]
     },
     "execution_count": 48,
     "metadata": {},
     "output_type": "execute_result"
    }
   ],
   "source": [
    "train.head()"
   ]
  },
  {
   "attachments": {},
   "cell_type": "markdown",
   "metadata": {},
   "source": [
    "### 5.2 Scale Data"
   ]
  },
  {
   "cell_type": "code",
   "execution_count": 49,
   "metadata": {},
   "outputs": [],
   "source": [
    "class Scaler:\n",
    "    \n",
    "    def __init__(self):\n",
    "        self.mean = None\n",
    "        self.std = None\n",
    "      \n",
    "    \n",
    "    def set_mean(self, X):\n",
    "        self.mean = np.mean(X, axis=0)\n",
    "        \n",
    "    def set_std(self, X):\n",
    "        self.std = np.std(X, axis=0)\n",
    "        \n",
    "    def transform(self, X):\n",
    "        return (X - self.mean)/self.std\n",
    "    \n",
    "    def fit(self, X):\n",
    "        self.set_mean(X)\n",
    "        self.set_std(X)\n",
    "        "
   ]
  },
  {
   "cell_type": "code",
   "execution_count": 50,
   "metadata": {},
   "outputs": [],
   "source": [
    "X_train = train.drop('target', axis=1)\n",
    "y_train = train['target']"
   ]
  },
  {
   "cell_type": "code",
   "execution_count": 51,
   "metadata": {},
   "outputs": [
    {
     "data": {
      "text/html": [
       "<div>\n",
       "<style scoped>\n",
       "    .dataframe tbody tr th:only-of-type {\n",
       "        vertical-align: middle;\n",
       "    }\n",
       "\n",
       "    .dataframe tbody tr th {\n",
       "        vertical-align: top;\n",
       "    }\n",
       "\n",
       "    .dataframe thead th {\n",
       "        text-align: right;\n",
       "    }\n",
       "</style>\n",
       "<table border=\"1\" class=\"dataframe\">\n",
       "  <thead>\n",
       "    <tr style=\"text-align: right;\">\n",
       "      <th></th>\n",
       "      <th>f1</th>\n",
       "      <th>f2</th>\n",
       "      <th>f3</th>\n",
       "      <th>f4</th>\n",
       "      <th>f5</th>\n",
       "      <th>f6</th>\n",
       "      <th>f7</th>\n",
       "      <th>f8</th>\n",
       "      <th>f9</th>\n",
       "      <th>f10</th>\n",
       "      <th>f11</th>\n",
       "      <th>f12</th>\n",
       "      <th>f13</th>\n",
       "    </tr>\n",
       "  </thead>\n",
       "  <tbody>\n",
       "    <tr>\n",
       "      <th>0</th>\n",
       "      <td>-0.399550</td>\n",
       "      <td>0.395154</td>\n",
       "      <td>-0.617818</td>\n",
       "      <td>-0.282466</td>\n",
       "      <td>-0.790261</td>\n",
       "      <td>0.357484</td>\n",
       "      <td>-0.378985</td>\n",
       "      <td>0.063415</td>\n",
       "      <td>-0.749382</td>\n",
       "      <td>-1.085504</td>\n",
       "      <td>0.029377</td>\n",
       "      <td>0.407320</td>\n",
       "      <td>-0.705939</td>\n",
       "    </tr>\n",
       "    <tr>\n",
       "      <th>1</th>\n",
       "      <td>0.614731</td>\n",
       "      <td>-0.473458</td>\n",
       "      <td>1.014199</td>\n",
       "      <td>-0.282466</td>\n",
       "      <td>1.598047</td>\n",
       "      <td>-0.918400</td>\n",
       "      <td>0.889019</td>\n",
       "      <td>-0.925517</td>\n",
       "      <td>1.659831</td>\n",
       "      <td>1.541751</td>\n",
       "      <td>0.789657</td>\n",
       "      <td>0.429288</td>\n",
       "      <td>1.427959</td>\n",
       "    </tr>\n",
       "    <tr>\n",
       "      <th>2</th>\n",
       "      <td>-0.151998</td>\n",
       "      <td>-0.473458</td>\n",
       "      <td>1.014199</td>\n",
       "      <td>-0.282466</td>\n",
       "      <td>0.239481</td>\n",
       "      <td>-0.576670</td>\n",
       "      <td>-0.984169</td>\n",
       "      <td>-0.027695</td>\n",
       "      <td>1.659831</td>\n",
       "      <td>1.541751</td>\n",
       "      <td>0.789657</td>\n",
       "      <td>0.132943</td>\n",
       "      <td>0.084237</td>\n",
       "    </tr>\n",
       "    <tr>\n",
       "      <th>3</th>\n",
       "      <td>-0.406284</td>\n",
       "      <td>-0.473458</td>\n",
       "      <td>-1.137895</td>\n",
       "      <td>-0.282466</td>\n",
       "      <td>-0.573928</td>\n",
       "      <td>1.115171</td>\n",
       "      <td>-0.220485</td>\n",
       "      <td>-0.173424</td>\n",
       "      <td>-0.864107</td>\n",
       "      <td>-0.806766</td>\n",
       "      <td>-0.350764</td>\n",
       "      <td>0.419776</td>\n",
       "      <td>-0.991868</td>\n",
       "    </tr>\n",
       "    <tr>\n",
       "      <th>4</th>\n",
       "      <td>-0.396609</td>\n",
       "      <td>-0.473458</td>\n",
       "      <td>-0.625143</td>\n",
       "      <td>-0.282466</td>\n",
       "      <td>-0.928713</td>\n",
       "      <td>-0.159312</td>\n",
       "      <td>-2.255774</td>\n",
       "      <td>0.912550</td>\n",
       "      <td>-0.749382</td>\n",
       "      <td>-1.026198</td>\n",
       "      <td>-0.303246</td>\n",
       "      <td>0.276077</td>\n",
       "      <td>-0.976374</td>\n",
       "    </tr>\n",
       "    <tr>\n",
       "      <th>...</th>\n",
       "      <td>...</td>\n",
       "      <td>...</td>\n",
       "      <td>...</td>\n",
       "      <td>...</td>\n",
       "      <td>...</td>\n",
       "      <td>...</td>\n",
       "      <td>...</td>\n",
       "      <td>...</td>\n",
       "      <td>...</td>\n",
       "      <td>...</td>\n",
       "      <td>...</td>\n",
       "      <td>...</td>\n",
       "      <td>...</td>\n",
       "    </tr>\n",
       "    <tr>\n",
       "      <th>401</th>\n",
       "      <td>-0.405469</td>\n",
       "      <td>-0.473458</td>\n",
       "      <td>-1.277071</td>\n",
       "      <td>-0.282466</td>\n",
       "      <td>-0.582582</td>\n",
       "      <td>-0.181721</td>\n",
       "      <td>-0.015154</td>\n",
       "      <td>-0.236895</td>\n",
       "      <td>-0.749382</td>\n",
       "      <td>-1.263422</td>\n",
       "      <td>-0.350764</td>\n",
       "      <td>0.318428</td>\n",
       "      <td>0.057475</td>\n",
       "    </tr>\n",
       "    <tr>\n",
       "      <th>402</th>\n",
       "      <td>-0.272836</td>\n",
       "      <td>-0.473458</td>\n",
       "      <td>1.231020</td>\n",
       "      <td>3.540245</td>\n",
       "      <td>0.429853</td>\n",
       "      <td>-0.045869</td>\n",
       "      <td>0.842189</td>\n",
       "      <td>-0.934369</td>\n",
       "      <td>-0.519933</td>\n",
       "      <td>-0.017996</td>\n",
       "      <td>-1.823807</td>\n",
       "      <td>-0.227269</td>\n",
       "      <td>-1.020038</td>\n",
       "    </tr>\n",
       "    <tr>\n",
       "      <th>403</th>\n",
       "      <td>1.426195</td>\n",
       "      <td>-0.473458</td>\n",
       "      <td>1.014199</td>\n",
       "      <td>-0.282466</td>\n",
       "      <td>1.251916</td>\n",
       "      <td>-1.408585</td>\n",
       "      <td>1.040314</td>\n",
       "      <td>-1.109667</td>\n",
       "      <td>1.659831</td>\n",
       "      <td>1.541751</td>\n",
       "      <td>0.789657</td>\n",
       "      <td>0.429288</td>\n",
       "      <td>2.544910</td>\n",
       "    </tr>\n",
       "    <tr>\n",
       "      <th>404</th>\n",
       "      <td>-0.252071</td>\n",
       "      <td>-0.473458</td>\n",
       "      <td>1.231020</td>\n",
       "      <td>-0.282466</td>\n",
       "      <td>0.429853</td>\n",
       "      <td>1.689388</td>\n",
       "      <td>0.777348</td>\n",
       "      <td>-0.853147</td>\n",
       "      <td>-0.519933</td>\n",
       "      <td>-0.017996</td>\n",
       "      <td>-1.823807</td>\n",
       "      <td>0.174841</td>\n",
       "      <td>-1.551048</td>\n",
       "    </tr>\n",
       "    <tr>\n",
       "      <th>405</th>\n",
       "      <td>-0.404846</td>\n",
       "      <td>-0.473458</td>\n",
       "      <td>-1.162800</td>\n",
       "      <td>-0.282466</td>\n",
       "      <td>-0.824874</td>\n",
       "      <td>-0.580872</td>\n",
       "      <td>-1.564136</td>\n",
       "      <td>0.674158</td>\n",
       "      <td>-0.634658</td>\n",
       "      <td>0.142130</td>\n",
       "      <td>-0.778421</td>\n",
       "      <td>0.265545</td>\n",
       "      <td>-0.390432</td>\n",
       "    </tr>\n",
       "  </tbody>\n",
       "</table>\n",
       "<p>406 rows × 13 columns</p>\n",
       "</div>"
      ],
      "text/plain": [
       "           f1        f2        f3        f4        f5        f6        f7  \\\n",
       "0   -0.399550  0.395154 -0.617818 -0.282466 -0.790261  0.357484 -0.378985   \n",
       "1    0.614731 -0.473458  1.014199 -0.282466  1.598047 -0.918400  0.889019   \n",
       "2   -0.151998 -0.473458  1.014199 -0.282466  0.239481 -0.576670 -0.984169   \n",
       "3   -0.406284 -0.473458 -1.137895 -0.282466 -0.573928  1.115171 -0.220485   \n",
       "4   -0.396609 -0.473458 -0.625143 -0.282466 -0.928713 -0.159312 -2.255774   \n",
       "..        ...       ...       ...       ...       ...       ...       ...   \n",
       "401 -0.405469 -0.473458 -1.277071 -0.282466 -0.582582 -0.181721 -0.015154   \n",
       "402 -0.272836 -0.473458  1.231020  3.540245  0.429853 -0.045869  0.842189   \n",
       "403  1.426195 -0.473458  1.014199 -0.282466  1.251916 -1.408585  1.040314   \n",
       "404 -0.252071 -0.473458  1.231020 -0.282466  0.429853  1.689388  0.777348   \n",
       "405 -0.404846 -0.473458 -1.162800 -0.282466 -0.824874 -0.580872 -1.564136   \n",
       "\n",
       "           f8        f9       f10       f11       f12       f13  \n",
       "0    0.063415 -0.749382 -1.085504  0.029377  0.407320 -0.705939  \n",
       "1   -0.925517  1.659831  1.541751  0.789657  0.429288  1.427959  \n",
       "2   -0.027695  1.659831  1.541751  0.789657  0.132943  0.084237  \n",
       "3   -0.173424 -0.864107 -0.806766 -0.350764  0.419776 -0.991868  \n",
       "4    0.912550 -0.749382 -1.026198 -0.303246  0.276077 -0.976374  \n",
       "..        ...       ...       ...       ...       ...       ...  \n",
       "401 -0.236895 -0.749382 -1.263422 -0.350764  0.318428  0.057475  \n",
       "402 -0.934369 -0.519933 -0.017996 -1.823807 -0.227269 -1.020038  \n",
       "403 -1.109667  1.659831  1.541751  0.789657  0.429288  2.544910  \n",
       "404 -0.853147 -0.519933 -0.017996 -1.823807  0.174841 -1.551048  \n",
       "405  0.674158 -0.634658  0.142130 -0.778421  0.265545 -0.390432  \n",
       "\n",
       "[406 rows x 13 columns]"
      ]
     },
     "execution_count": 51,
     "metadata": {},
     "output_type": "execute_result"
    }
   ],
   "source": [
    "sc = Scaler()\n",
    "sc.fit(X_train)\n",
    "X_train = sc.transform(X_train)\n",
    "X_train"
   ]
  },
  {
   "attachments": {},
   "cell_type": "markdown",
   "metadata": {},
   "source": [
    "### 5.3 Normal Equation "
   ]
  },
  {
   "cell_type": "markdown",
   "metadata": {},
   "source": [
    "$$\n",
    "w = (X^TX + \\lambda I)^{-1}X^TY\n",
    "$$"
   ]
  },
  {
   "attachments": {},
   "cell_type": "markdown",
   "metadata": {},
   "source": [
    "### 5.4 Implementation"
   ]
  },
  {
   "cell_type": "code",
   "execution_count": 52,
   "metadata": {},
   "outputs": [],
   "source": [
    "class LinearRegression:\n",
    "    @staticmethod\n",
    "    def add_bias(X):\n",
    "        bias = np.ones((X.shape[0],1))\n",
    "        #X = X.values\n",
    "        X = np.concatenate([bias, X], axis=1)\n",
    "        return X\n",
    "    \n",
    "    @staticmethod\n",
    "    def mse(y_true, y_pred):\n",
    "        return np.mean((y_true - y_pred)**2)\n",
    "    \n",
    "    def pre_process(self):\n",
    "        self.X = self.add_bias(self.X)\n",
    "        #y = self.y.values\n",
    "        self.y = self.y.reshape((-1, 1))\n",
    "    \n",
    "    def __init__(self, X, y):\n",
    "        self.X = X\n",
    "        self.y = y\n",
    "        self.pre_process()\n",
    "        self.w = np.zeros((1,X.shape[1]))\n",
    "        \n",
    "        \n",
    "    def predict(self, X):\n",
    "        X = self.add_bias(X)\n",
    "        y = np.dot(X,self.w)\n",
    "        return y\n",
    "    \n",
    "    def evaluate(self, X, y=None):\n",
    "        if y is None:\n",
    "            y = self.y\n",
    "        y_pred = self.predict(X)\n",
    "        return self.mse(y, y_pred)\n",
    "        \n",
    "    \n",
    "    def fit(self, landa):\n",
    "        X, X_t = self.X, self.X.T\n",
    "        X_X_t = np.dot(X_t,X)\n",
    "        reg_mat = landa * np.eye(X_X_t.shape[0])\n",
    "        psudo_inv = np.linalg.inv(X_X_t + reg_mat)\n",
    "        self.w = np.dot(np.dot(psudo_inv,X_t),self.y)"
   ]
  },
  {
   "attachments": {},
   "cell_type": "markdown",
   "metadata": {},
   "source": [
    "### 5.5 Polynomial Feature Extraction"
   ]
  },
  {
   "cell_type": "code",
   "execution_count": 53,
   "metadata": {},
   "outputs": [],
   "source": [
    "class PolynomialFeatures:\n",
    "    \n",
    "    def __init__(self, X, degree):\n",
    "        self.X = X\n",
    "        self.degree = degree\n",
    "        self.row_features = []\n",
    "        \n",
    "    def get_row_features(self, row, degree,iter=1, mul=1, idx=0):\n",
    "        if iter == degree + 1:\n",
    "            self.row_features.append(mul)\n",
    "            return\n",
    "        for i in range(idx, len(row)):\n",
    "            mul *= row[i]\n",
    "            self.get_row_features(row, degree, iter+1, mul, i)\n",
    "            mul /= row[i]\n",
    "    \n",
    "    def get_poly_features_row(self, row):\n",
    "        features = []\n",
    "        for deg in range(1, self.degree+1):\n",
    "            self.row_features = []\n",
    "            self.get_row_features(row, deg)\n",
    "            features.extend(self.row_features)\n",
    "        return np.array(features).reshape((1,-1))\n",
    "    \n",
    "    def extract_features(self):\n",
    "        data = self.get_poly_features_row(self.X.iloc[0, :])\n",
    "        for row_ind in range(1,len(self.X)):\n",
    "            curr_row = self.get_poly_features_row(self.X.iloc[row_ind])\n",
    "            data = np.concatenate([data, curr_row], axis=0)\n",
    "        return data\n",
    "            "
   ]
  },
  {
   "cell_type": "code",
   "execution_count": 54,
   "metadata": {},
   "outputs": [
    {
     "data": {
      "text/plain": [
       "(406, 559)"
      ]
     },
     "execution_count": 54,
     "metadata": {},
     "output_type": "execute_result"
    }
   ],
   "source": [
    "pf = PolynomialFeatures(X_train,3)\n",
    "X_train = pf.extract_features()\n",
    "X_train.shape"
   ]
  },
  {
   "attachments": {},
   "cell_type": "markdown",
   "metadata": {},
   "source": [
    "### 5.6 Cross validation"
   ]
  },
  {
   "cell_type": "code",
   "execution_count": 55,
   "metadata": {},
   "outputs": [],
   "source": [
    "def kfold(k, data):\n",
    "    length = len(data) // k\n",
    "    folds = []\n",
    "    for fold_num in range(k):\n",
    "        row_start, row_end = fold_num * length , (fold_num+1) * length\n",
    "        if fold_num == k - 1:\n",
    "            row_end += len(data)%k\n",
    "        fold_data = data[row_start:row_end, :]\n",
    "        X_fold, y_fold = fold_data[: , :-1], fold_data[:, -1]\n",
    "        folds.append((X_fold, y_fold))\n",
    "    return folds"
   ]
  },
  {
   "cell_type": "code",
   "execution_count": 56,
   "metadata": {},
   "outputs": [],
   "source": [
    "def get_train_from_folds(folds, idx):\n",
    "    folds.pop(idx)\n",
    "    X_folds = [fold[0] for fold in folds]\n",
    "    y_folds = [fold[1] for fold in folds]\n",
    "    X_train = np.concatenate(X_folds, axis=0)\n",
    "    y_train = np.concatenate(y_folds, axis=0)\n",
    "    return X_train, y_train\n",
    "\n",
    "def cross_validation(k, model, data, params, repeat=10):\n",
    "    train_history, valid_history = [], []\n",
    "    for r in range(repeat):\n",
    "        np.random.shuffle(data)\n",
    "        folds = kfold(k, data)\n",
    "        train_losses, valid_losses = [], []\n",
    "        for valid_ind, (X_valid, y_valid) in enumerate(folds):\n",
    "            X_train, y_train = get_train_from_folds(deepcopy(folds), valid_ind)\n",
    "            m = model(X_train, y_train)\n",
    "            m.fit(**params)\n",
    "            train_loss = m.evaluate(X_train)\n",
    "            valid_loss = m.evaluate(X_valid, y_valid)\n",
    "            train_losses.append(train_loss)\n",
    "            valid_losses.append(valid_loss)\n",
    "        train_history.extend(train_losses)\n",
    "        valid_history.extend(valid_losses)\n",
    "    return train_history, valid_history\n",
    "            "
   ]
  },
  {
   "cell_type": "code",
   "execution_count": 57,
   "metadata": {},
   "outputs": [],
   "source": [
    "def searchCV(k, model, data, params):\n",
    "    train_dict, valid_dict = {}, {}\n",
    "    for lamda_val in params['landa']:\n",
    "        curr_params = {'landa':lamda_val}\n",
    "        train_his, valid_his = cross_validation(k, model, data, curr_params)\n",
    "        train_dict[f'landa:{lamda_val}'] = train_his\n",
    "        valid_dict[f'landa:{lamda_val}'] = valid_his\n",
    "    return train_dict, valid_dict     "
   ]
  },
  {
   "cell_type": "code",
   "execution_count": 58,
   "metadata": {},
   "outputs": [],
   "source": [
    "np.random.seed(42)\n",
    "y_train = y_train.values.reshape((-1,1))\n",
    "train_data = np.concatenate([X_train, y_train] , axis=1)\n",
    "params = {\n",
    "    'landa':[0.01, 0.03, 0.1, 0.3, 0.5, 0.8, 1]\n",
    "}\n",
    "train_cv, valid_cv = searchCV(5, LinearRegression, train_data, params)"
   ]
  },
  {
   "cell_type": "code",
   "execution_count": 59,
   "metadata": {},
   "outputs": [
    {
     "data": {
      "application/vnd.plotly.v1+json": {
       "config": {
        "plotlyServerURL": "https://plot.ly"
       },
       "data": [
        {
         "alignmentgroup": "True",
         "hovertemplate": "variable=%{x}<br>value=%{y}<extra></extra>",
         "legendgroup": "",
         "marker": {
          "color": "#636efa"
         },
         "name": "",
         "notched": false,
         "offsetgroup": "",
         "orientation": "v",
         "showlegend": false,
         "type": "box",
         "x": [
          "landa:0.01",
          "landa:0.01",
          "landa:0.01",
          "landa:0.01",
          "landa:0.01",
          "landa:0.01",
          "landa:0.01",
          "landa:0.01",
          "landa:0.01",
          "landa:0.01",
          "landa:0.01",
          "landa:0.01",
          "landa:0.01",
          "landa:0.01",
          "landa:0.01",
          "landa:0.01",
          "landa:0.01",
          "landa:0.01",
          "landa:0.01",
          "landa:0.01",
          "landa:0.01",
          "landa:0.01",
          "landa:0.01",
          "landa:0.01",
          "landa:0.01",
          "landa:0.01",
          "landa:0.01",
          "landa:0.01",
          "landa:0.01",
          "landa:0.01",
          "landa:0.01",
          "landa:0.01",
          "landa:0.01",
          "landa:0.01",
          "landa:0.01",
          "landa:0.01",
          "landa:0.01",
          "landa:0.01",
          "landa:0.01",
          "landa:0.01",
          "landa:0.01",
          "landa:0.01",
          "landa:0.01",
          "landa:0.01",
          "landa:0.01",
          "landa:0.01",
          "landa:0.01",
          "landa:0.01",
          "landa:0.01",
          "landa:0.01",
          "landa:0.03",
          "landa:0.03",
          "landa:0.03",
          "landa:0.03",
          "landa:0.03",
          "landa:0.03",
          "landa:0.03",
          "landa:0.03",
          "landa:0.03",
          "landa:0.03",
          "landa:0.03",
          "landa:0.03",
          "landa:0.03",
          "landa:0.03",
          "landa:0.03",
          "landa:0.03",
          "landa:0.03",
          "landa:0.03",
          "landa:0.03",
          "landa:0.03",
          "landa:0.03",
          "landa:0.03",
          "landa:0.03",
          "landa:0.03",
          "landa:0.03",
          "landa:0.03",
          "landa:0.03",
          "landa:0.03",
          "landa:0.03",
          "landa:0.03",
          "landa:0.03",
          "landa:0.03",
          "landa:0.03",
          "landa:0.03",
          "landa:0.03",
          "landa:0.03",
          "landa:0.03",
          "landa:0.03",
          "landa:0.03",
          "landa:0.03",
          "landa:0.03",
          "landa:0.03",
          "landa:0.03",
          "landa:0.03",
          "landa:0.03",
          "landa:0.03",
          "landa:0.03",
          "landa:0.03",
          "landa:0.03",
          "landa:0.03",
          "landa:0.1",
          "landa:0.1",
          "landa:0.1",
          "landa:0.1",
          "landa:0.1",
          "landa:0.1",
          "landa:0.1",
          "landa:0.1",
          "landa:0.1",
          "landa:0.1",
          "landa:0.1",
          "landa:0.1",
          "landa:0.1",
          "landa:0.1",
          "landa:0.1",
          "landa:0.1",
          "landa:0.1",
          "landa:0.1",
          "landa:0.1",
          "landa:0.1",
          "landa:0.1",
          "landa:0.1",
          "landa:0.1",
          "landa:0.1",
          "landa:0.1",
          "landa:0.1",
          "landa:0.1",
          "landa:0.1",
          "landa:0.1",
          "landa:0.1",
          "landa:0.1",
          "landa:0.1",
          "landa:0.1",
          "landa:0.1",
          "landa:0.1",
          "landa:0.1",
          "landa:0.1",
          "landa:0.1",
          "landa:0.1",
          "landa:0.1",
          "landa:0.1",
          "landa:0.1",
          "landa:0.1",
          "landa:0.1",
          "landa:0.1",
          "landa:0.1",
          "landa:0.1",
          "landa:0.1",
          "landa:0.1",
          "landa:0.1",
          "landa:0.3",
          "landa:0.3",
          "landa:0.3",
          "landa:0.3",
          "landa:0.3",
          "landa:0.3",
          "landa:0.3",
          "landa:0.3",
          "landa:0.3",
          "landa:0.3",
          "landa:0.3",
          "landa:0.3",
          "landa:0.3",
          "landa:0.3",
          "landa:0.3",
          "landa:0.3",
          "landa:0.3",
          "landa:0.3",
          "landa:0.3",
          "landa:0.3",
          "landa:0.3",
          "landa:0.3",
          "landa:0.3",
          "landa:0.3",
          "landa:0.3",
          "landa:0.3",
          "landa:0.3",
          "landa:0.3",
          "landa:0.3",
          "landa:0.3",
          "landa:0.3",
          "landa:0.3",
          "landa:0.3",
          "landa:0.3",
          "landa:0.3",
          "landa:0.3",
          "landa:0.3",
          "landa:0.3",
          "landa:0.3",
          "landa:0.3",
          "landa:0.3",
          "landa:0.3",
          "landa:0.3",
          "landa:0.3",
          "landa:0.3",
          "landa:0.3",
          "landa:0.3",
          "landa:0.3",
          "landa:0.3",
          "landa:0.3",
          "landa:0.5",
          "landa:0.5",
          "landa:0.5",
          "landa:0.5",
          "landa:0.5",
          "landa:0.5",
          "landa:0.5",
          "landa:0.5",
          "landa:0.5",
          "landa:0.5",
          "landa:0.5",
          "landa:0.5",
          "landa:0.5",
          "landa:0.5",
          "landa:0.5",
          "landa:0.5",
          "landa:0.5",
          "landa:0.5",
          "landa:0.5",
          "landa:0.5",
          "landa:0.5",
          "landa:0.5",
          "landa:0.5",
          "landa:0.5",
          "landa:0.5",
          "landa:0.5",
          "landa:0.5",
          "landa:0.5",
          "landa:0.5",
          "landa:0.5",
          "landa:0.5",
          "landa:0.5",
          "landa:0.5",
          "landa:0.5",
          "landa:0.5",
          "landa:0.5",
          "landa:0.5",
          "landa:0.5",
          "landa:0.5",
          "landa:0.5",
          "landa:0.5",
          "landa:0.5",
          "landa:0.5",
          "landa:0.5",
          "landa:0.5",
          "landa:0.5",
          "landa:0.5",
          "landa:0.5",
          "landa:0.5",
          "landa:0.5",
          "landa:0.8",
          "landa:0.8",
          "landa:0.8",
          "landa:0.8",
          "landa:0.8",
          "landa:0.8",
          "landa:0.8",
          "landa:0.8",
          "landa:0.8",
          "landa:0.8",
          "landa:0.8",
          "landa:0.8",
          "landa:0.8",
          "landa:0.8",
          "landa:0.8",
          "landa:0.8",
          "landa:0.8",
          "landa:0.8",
          "landa:0.8",
          "landa:0.8",
          "landa:0.8",
          "landa:0.8",
          "landa:0.8",
          "landa:0.8",
          "landa:0.8",
          "landa:0.8",
          "landa:0.8",
          "landa:0.8",
          "landa:0.8",
          "landa:0.8",
          "landa:0.8",
          "landa:0.8",
          "landa:0.8",
          "landa:0.8",
          "landa:0.8",
          "landa:0.8",
          "landa:0.8",
          "landa:0.8",
          "landa:0.8",
          "landa:0.8",
          "landa:0.8",
          "landa:0.8",
          "landa:0.8",
          "landa:0.8",
          "landa:0.8",
          "landa:0.8",
          "landa:0.8",
          "landa:0.8",
          "landa:0.8",
          "landa:0.8",
          "landa:1",
          "landa:1",
          "landa:1",
          "landa:1",
          "landa:1",
          "landa:1",
          "landa:1",
          "landa:1",
          "landa:1",
          "landa:1",
          "landa:1",
          "landa:1",
          "landa:1",
          "landa:1",
          "landa:1",
          "landa:1",
          "landa:1",
          "landa:1",
          "landa:1",
          "landa:1",
          "landa:1",
          "landa:1",
          "landa:1",
          "landa:1",
          "landa:1",
          "landa:1",
          "landa:1",
          "landa:1",
          "landa:1",
          "landa:1",
          "landa:1",
          "landa:1",
          "landa:1",
          "landa:1",
          "landa:1",
          "landa:1",
          "landa:1",
          "landa:1",
          "landa:1",
          "landa:1",
          "landa:1",
          "landa:1",
          "landa:1",
          "landa:1",
          "landa:1",
          "landa:1",
          "landa:1",
          "landa:1",
          "landa:1",
          "landa:1"
         ],
         "x0": " ",
         "xaxis": "x",
         "y": [
          0.14601994216621184,
          0.12536483838010212,
          0.13474256768005788,
          0.10890446281551779,
          0.1572523519752553,
          0.1591535399759172,
          0.15321241051560408,
          0.10719945669130379,
          0.16802136734832734,
          0.09543309148340788,
          0.1287051840547411,
          0.15838765792110762,
          0.17740061596771814,
          0.15020107323332252,
          0.10726959802082164,
          0.14794874130857416,
          0.1685664846192311,
          0.12282227663660872,
          0.10428634689751722,
          0.17972385771354046,
          0.22191052063860345,
          0.15433104883425214,
          0.1096090512404312,
          0.11551988988265849,
          0.14706716471966744,
          0.1766286115412868,
          0.11228774390900176,
          0.13902603554069523,
          0.11578503217075523,
          0.16866800393876186,
          0.13615294766398503,
          0.1158442800561911,
          0.17828352936797462,
          0.1725240791658344,
          0.1286886654785721,
          0.12102489529367073,
          0.13520360258523087,
          0.15552589674659795,
          0.19205073362811065,
          0.11148654602355135,
          0.13446451524263173,
          0.1968174666607657,
          0.08456060347714109,
          0.14789871679833783,
          0.09429462972406157,
          0.08194911954725302,
          0.15455626026289643,
          0.18494569153686852,
          0.08694472204645483,
          0.12908139747086964,
          0.23689139003640136,
          0.21756572513191608,
          0.2504951778567151,
          0.23343882954162168,
          0.2638334500565409,
          0.19328758252691672,
          0.2089975500880459,
          0.3073923842303844,
          0.2540894436263482,
          0.23777973801854208,
          0.2533932635233682,
          0.21079554255823482,
          0.28667926778161,
          0.27219028935662937,
          0.24252427372802804,
          0.2234017076103316,
          0.25890659867647364,
          0.2603544210653683,
          0.24763384609874686,
          0.20201246229934267,
          0.2579798466121387,
          0.254285871347298,
          0.26362975115517895,
          0.35135216478832765,
          0.2191325721192782,
          0.22939343778030433,
          0.14246897246352702,
          0.22613872478859434,
          0.26392649523432216,
          0.33070038769988963,
          0.21252904583006346,
          0.2398209723870299,
          0.2618357993603417,
          0.17299653087288414,
          0.36997452330700975,
          0.21807787860127562,
          0.22319248790291857,
          0.23048547373184877,
          0.2991026566887225,
          0.2848563315001058,
          0.21643009560599563,
          0.2731196537168211,
          0.28912802890889777,
          0.2607678992160554,
          0.2680821464664073,
          0.3497989974566542,
          0.25861081851130935,
          0.21710436281356815,
          0.21814770605222047,
          0.2531902932149718,
          0.5708606610481468,
          0.4916483525101052,
          0.4640038578970542,
          0.37501694741366987,
          0.27490796288706737,
          0.6349072596033473,
          0.6038624083181123,
          0.227276425128656,
          0.32323025607736805,
          0.4124556463350831,
          0.39383040677560127,
          0.4549684105410004,
          0.4363214007968301,
          0.4573279784740311,
          0.39188997059890923,
          0.37920820206229033,
          0.4718571335462197,
          0.48691665061188455,
          0.35784997519667155,
          0.4220864892674843,
          0.29401560671184396,
          0.5262306379229796,
          0.47885801410373724,
          0.5692472876540529,
          0.49662881835112205,
          0.5082285383254356,
          0.4311844622608121,
          0.32091609312805797,
          0.4090170087557067,
          0.3933373469552829,
          0.41368128673549137,
          0.4400886065245387,
          0.42476666487936027,
          0.41150986131989964,
          0.3881455179188581,
          0.4068414962575704,
          0.4334461169526083,
          0.42880521674454414,
          0.4342379119088634,
          0.33288124918905904,
          0.5027004009371286,
          0.42851093768260645,
          0.4258829282792448,
          0.3076214779270686,
          0.4879663577979922,
          0.5533640287447794,
          0.381473985680809,
          0.48532280571097114,
          0.34090346689641626,
          0.3846334838909507,
          0.6251276175273551,
          0.6062255490613199,
          0.7850452546127255,
          0.6726849523601652,
          0.6241554406233526,
          0.6398918222236547,
          0.5137745770956138,
          0.8656500747520912,
          0.5920921363156406,
          0.6979787540485646,
          0.6270014153187937,
          0.720790081609503,
          0.6412391307928531,
          0.6289593995030384,
          0.7997891250448451,
          0.7476614966088673,
          0.6431420012828618,
          0.7892705399328739,
          0.6199749801567157,
          0.6549296884796154,
          0.7230250796007052,
          0.6438026775148608,
          0.6900273912006921,
          0.6138043325964232,
          0.7169868454611241,
          0.6876532182486133,
          0.7861366198362799,
          0.8495178778742966,
          0.5841465310283608,
          0.5800737951348238,
          0.8917807838209557,
          0.7114197745042989,
          0.6784953719513045,
          0.6588676131355111,
          0.4782192861960825,
          0.7528117635994119,
          0.7103842922312738,
          0.6408518467466491,
          0.7157415063350994,
          0.5122140447988668,
          0.6648306715854558,
          0.4809169715604697,
          0.8138890386809194,
          0.6150571468064836,
          0.7454752095187854,
          0.672443524444562,
          0.6432654088470688,
          0.6449785781372966,
          0.6668294103294875,
          0.7410489261851161,
          0.6745123255498573,
          1.030757802103473,
          0.7861478539613399,
          0.9557261360831282,
          0.8637311660689128,
          0.7804368377502763,
          0.9056704557939861,
          0.9162645570438721,
          0.8626352789791025,
          0.933696988607452,
          0.8747980308910924,
          0.8357779977042641,
          0.8094384495137394,
          0.8684645257054353,
          0.8705531380098825,
          1.0170942311124278,
          0.7967985115202777,
          0.8415381721566011,
          0.6530006047153348,
          0.9500983831556316,
          0.8998547036101151,
          0.6569616256304351,
          0.792338574178828,
          0.9748155692184571,
          0.8590166073919844,
          0.7075946163192067,
          0.9646910072507026,
          0.9304419124857551,
          0.6936436806999923,
          0.8686004249807877,
          0.8659392623243856,
          0.8083526378801277,
          0.9206290933605807,
          0.8369867882699831,
          0.8761405862592422,
          0.7292386203667885,
          1.0090855204589624,
          0.8862675479486481,
          1.0050951879089116,
          0.8011135718352956,
          0.8214823088682561,
          0.7931905898374281,
          0.8406017181915619,
          0.8038526911230396,
          0.8636633170992812,
          0.8981040070804264,
          0.9453586476892276,
          0.8090459526903995,
          0.7946426215963891,
          0.791509276687794,
          0.8567601199628108,
          1.1337900643943533,
          1.1263815422761705,
          0.9709915000948667,
          1.0273095474389586,
          1.1041462900349719,
          1.2911135344534361,
          0.7994735163216614,
          1.0386833439310377,
          0.991302013023385,
          1.1075806902758034,
          0.9441641189366607,
          0.9161411543916584,
          1.0661980683835126,
          1.2111264801231034,
          1.0556839822797344,
          1.2629130757031626,
          0.9049889220830997,
          0.8616610860774346,
          1.0925925107998589,
          1.1628692996710857,
          1.2783868405705272,
          0.9468467580209328,
          0.6997085373962366,
          1.0535378169333047,
          1.058593336853159,
          0.7537640999728374,
          0.8366927878803281,
          1.1070738964793232,
          1.2429812144317065,
          1.1774488065351612,
          0.9091422197979587,
          0.8527561440804496,
          1.3371001934787337,
          0.8212450561642889,
          1.0080008305786174,
          1.0417039230141587,
          0.9667395018453102,
          1.1852292056327938,
          0.9643060487898297,
          1.0301628588846674,
          1.1067563261852582,
          1.0294864069649605,
          1.0725308732173673,
          1.1741125443079719,
          1.1814254257410914,
          0.8418156132653943,
          1.1235082557192426,
          1.0548127487093695,
          0.9215703052370999,
          0.9035758169991261,
          1.1003360648308096,
          1.309970494987317,
          1.2556611927816284,
          1.0925500589622068,
          1.3026136813972966,
          1.3268804190804437,
          1.2455071410884597,
          0.9400359218359244,
          0.8989181889145559,
          1.2286781594126905,
          1.0945248366088578,
          1.0754424193942045,
          1.078481116018838,
          1.0333953998488818,
          1.244856187562678,
          1.1895050675837358,
          1.0240711474436204,
          1.2183175674560036,
          1.2178492959991396,
          0.876981657946584,
          1.1571804437009852,
          1.0972527871048605,
          1.3530794787528158,
          1.273940995261233,
          1.140136788867925,
          1.2256952645058887,
          1.0128113784860024,
          1.3761172318642942,
          1.0126428308870221,
          1.1777223100014327,
          1.0392629476242161,
          1.2187437910222392,
          1.115541564718735,
          1.0386686323971528,
          1.2451402396761841,
          1.024853492161907,
          1.2281980857772523,
          1.250202198729596,
          1.00730440821954,
          1.224282134498703,
          0.9519531380308545,
          1.1643012244705229,
          1.294443130620441,
          1.0265593238623216,
          0.9425761087852897,
          1.1278237424050088,
          1.2315257342985846,
          1.0203162716177472,
          1.289702615828119
         ],
         "y0": " ",
         "yaxis": "y"
        }
       ],
       "layout": {
        "boxmode": "group",
        "legend": {
         "tracegroupgap": 0
        },
        "template": {
         "data": {
          "bar": [
           {
            "error_x": {
             "color": "#2a3f5f"
            },
            "error_y": {
             "color": "#2a3f5f"
            },
            "marker": {
             "line": {
              "color": "#E5ECF6",
              "width": 0.5
             },
             "pattern": {
              "fillmode": "overlay",
              "size": 10,
              "solidity": 0.2
             }
            },
            "type": "bar"
           }
          ],
          "barpolar": [
           {
            "marker": {
             "line": {
              "color": "#E5ECF6",
              "width": 0.5
             },
             "pattern": {
              "fillmode": "overlay",
              "size": 10,
              "solidity": 0.2
             }
            },
            "type": "barpolar"
           }
          ],
          "carpet": [
           {
            "aaxis": {
             "endlinecolor": "#2a3f5f",
             "gridcolor": "white",
             "linecolor": "white",
             "minorgridcolor": "white",
             "startlinecolor": "#2a3f5f"
            },
            "baxis": {
             "endlinecolor": "#2a3f5f",
             "gridcolor": "white",
             "linecolor": "white",
             "minorgridcolor": "white",
             "startlinecolor": "#2a3f5f"
            },
            "type": "carpet"
           }
          ],
          "choropleth": [
           {
            "colorbar": {
             "outlinewidth": 0,
             "ticks": ""
            },
            "type": "choropleth"
           }
          ],
          "contour": [
           {
            "colorbar": {
             "outlinewidth": 0,
             "ticks": ""
            },
            "colorscale": [
             [
              0,
              "#0d0887"
             ],
             [
              0.1111111111111111,
              "#46039f"
             ],
             [
              0.2222222222222222,
              "#7201a8"
             ],
             [
              0.3333333333333333,
              "#9c179e"
             ],
             [
              0.4444444444444444,
              "#bd3786"
             ],
             [
              0.5555555555555556,
              "#d8576b"
             ],
             [
              0.6666666666666666,
              "#ed7953"
             ],
             [
              0.7777777777777778,
              "#fb9f3a"
             ],
             [
              0.8888888888888888,
              "#fdca26"
             ],
             [
              1,
              "#f0f921"
             ]
            ],
            "type": "contour"
           }
          ],
          "contourcarpet": [
           {
            "colorbar": {
             "outlinewidth": 0,
             "ticks": ""
            },
            "type": "contourcarpet"
           }
          ],
          "heatmap": [
           {
            "colorbar": {
             "outlinewidth": 0,
             "ticks": ""
            },
            "colorscale": [
             [
              0,
              "#0d0887"
             ],
             [
              0.1111111111111111,
              "#46039f"
             ],
             [
              0.2222222222222222,
              "#7201a8"
             ],
             [
              0.3333333333333333,
              "#9c179e"
             ],
             [
              0.4444444444444444,
              "#bd3786"
             ],
             [
              0.5555555555555556,
              "#d8576b"
             ],
             [
              0.6666666666666666,
              "#ed7953"
             ],
             [
              0.7777777777777778,
              "#fb9f3a"
             ],
             [
              0.8888888888888888,
              "#fdca26"
             ],
             [
              1,
              "#f0f921"
             ]
            ],
            "type": "heatmap"
           }
          ],
          "heatmapgl": [
           {
            "colorbar": {
             "outlinewidth": 0,
             "ticks": ""
            },
            "colorscale": [
             [
              0,
              "#0d0887"
             ],
             [
              0.1111111111111111,
              "#46039f"
             ],
             [
              0.2222222222222222,
              "#7201a8"
             ],
             [
              0.3333333333333333,
              "#9c179e"
             ],
             [
              0.4444444444444444,
              "#bd3786"
             ],
             [
              0.5555555555555556,
              "#d8576b"
             ],
             [
              0.6666666666666666,
              "#ed7953"
             ],
             [
              0.7777777777777778,
              "#fb9f3a"
             ],
             [
              0.8888888888888888,
              "#fdca26"
             ],
             [
              1,
              "#f0f921"
             ]
            ],
            "type": "heatmapgl"
           }
          ],
          "histogram": [
           {
            "marker": {
             "pattern": {
              "fillmode": "overlay",
              "size": 10,
              "solidity": 0.2
             }
            },
            "type": "histogram"
           }
          ],
          "histogram2d": [
           {
            "colorbar": {
             "outlinewidth": 0,
             "ticks": ""
            },
            "colorscale": [
             [
              0,
              "#0d0887"
             ],
             [
              0.1111111111111111,
              "#46039f"
             ],
             [
              0.2222222222222222,
              "#7201a8"
             ],
             [
              0.3333333333333333,
              "#9c179e"
             ],
             [
              0.4444444444444444,
              "#bd3786"
             ],
             [
              0.5555555555555556,
              "#d8576b"
             ],
             [
              0.6666666666666666,
              "#ed7953"
             ],
             [
              0.7777777777777778,
              "#fb9f3a"
             ],
             [
              0.8888888888888888,
              "#fdca26"
             ],
             [
              1,
              "#f0f921"
             ]
            ],
            "type": "histogram2d"
           }
          ],
          "histogram2dcontour": [
           {
            "colorbar": {
             "outlinewidth": 0,
             "ticks": ""
            },
            "colorscale": [
             [
              0,
              "#0d0887"
             ],
             [
              0.1111111111111111,
              "#46039f"
             ],
             [
              0.2222222222222222,
              "#7201a8"
             ],
             [
              0.3333333333333333,
              "#9c179e"
             ],
             [
              0.4444444444444444,
              "#bd3786"
             ],
             [
              0.5555555555555556,
              "#d8576b"
             ],
             [
              0.6666666666666666,
              "#ed7953"
             ],
             [
              0.7777777777777778,
              "#fb9f3a"
             ],
             [
              0.8888888888888888,
              "#fdca26"
             ],
             [
              1,
              "#f0f921"
             ]
            ],
            "type": "histogram2dcontour"
           }
          ],
          "mesh3d": [
           {
            "colorbar": {
             "outlinewidth": 0,
             "ticks": ""
            },
            "type": "mesh3d"
           }
          ],
          "parcoords": [
           {
            "line": {
             "colorbar": {
              "outlinewidth": 0,
              "ticks": ""
             }
            },
            "type": "parcoords"
           }
          ],
          "pie": [
           {
            "automargin": true,
            "type": "pie"
           }
          ],
          "scatter": [
           {
            "fillpattern": {
             "fillmode": "overlay",
             "size": 10,
             "solidity": 0.2
            },
            "type": "scatter"
           }
          ],
          "scatter3d": [
           {
            "line": {
             "colorbar": {
              "outlinewidth": 0,
              "ticks": ""
             }
            },
            "marker": {
             "colorbar": {
              "outlinewidth": 0,
              "ticks": ""
             }
            },
            "type": "scatter3d"
           }
          ],
          "scattercarpet": [
           {
            "marker": {
             "colorbar": {
              "outlinewidth": 0,
              "ticks": ""
             }
            },
            "type": "scattercarpet"
           }
          ],
          "scattergeo": [
           {
            "marker": {
             "colorbar": {
              "outlinewidth": 0,
              "ticks": ""
             }
            },
            "type": "scattergeo"
           }
          ],
          "scattergl": [
           {
            "marker": {
             "colorbar": {
              "outlinewidth": 0,
              "ticks": ""
             }
            },
            "type": "scattergl"
           }
          ],
          "scattermapbox": [
           {
            "marker": {
             "colorbar": {
              "outlinewidth": 0,
              "ticks": ""
             }
            },
            "type": "scattermapbox"
           }
          ],
          "scatterpolar": [
           {
            "marker": {
             "colorbar": {
              "outlinewidth": 0,
              "ticks": ""
             }
            },
            "type": "scatterpolar"
           }
          ],
          "scatterpolargl": [
           {
            "marker": {
             "colorbar": {
              "outlinewidth": 0,
              "ticks": ""
             }
            },
            "type": "scatterpolargl"
           }
          ],
          "scatterternary": [
           {
            "marker": {
             "colorbar": {
              "outlinewidth": 0,
              "ticks": ""
             }
            },
            "type": "scatterternary"
           }
          ],
          "surface": [
           {
            "colorbar": {
             "outlinewidth": 0,
             "ticks": ""
            },
            "colorscale": [
             [
              0,
              "#0d0887"
             ],
             [
              0.1111111111111111,
              "#46039f"
             ],
             [
              0.2222222222222222,
              "#7201a8"
             ],
             [
              0.3333333333333333,
              "#9c179e"
             ],
             [
              0.4444444444444444,
              "#bd3786"
             ],
             [
              0.5555555555555556,
              "#d8576b"
             ],
             [
              0.6666666666666666,
              "#ed7953"
             ],
             [
              0.7777777777777778,
              "#fb9f3a"
             ],
             [
              0.8888888888888888,
              "#fdca26"
             ],
             [
              1,
              "#f0f921"
             ]
            ],
            "type": "surface"
           }
          ],
          "table": [
           {
            "cells": {
             "fill": {
              "color": "#EBF0F8"
             },
             "line": {
              "color": "white"
             }
            },
            "header": {
             "fill": {
              "color": "#C8D4E3"
             },
             "line": {
              "color": "white"
             }
            },
            "type": "table"
           }
          ]
         },
         "layout": {
          "annotationdefaults": {
           "arrowcolor": "#2a3f5f",
           "arrowhead": 0,
           "arrowwidth": 1
          },
          "autotypenumbers": "strict",
          "coloraxis": {
           "colorbar": {
            "outlinewidth": 0,
            "ticks": ""
           }
          },
          "colorscale": {
           "diverging": [
            [
             0,
             "#8e0152"
            ],
            [
             0.1,
             "#c51b7d"
            ],
            [
             0.2,
             "#de77ae"
            ],
            [
             0.3,
             "#f1b6da"
            ],
            [
             0.4,
             "#fde0ef"
            ],
            [
             0.5,
             "#f7f7f7"
            ],
            [
             0.6,
             "#e6f5d0"
            ],
            [
             0.7,
             "#b8e186"
            ],
            [
             0.8,
             "#7fbc41"
            ],
            [
             0.9,
             "#4d9221"
            ],
            [
             1,
             "#276419"
            ]
           ],
           "sequential": [
            [
             0,
             "#0d0887"
            ],
            [
             0.1111111111111111,
             "#46039f"
            ],
            [
             0.2222222222222222,
             "#7201a8"
            ],
            [
             0.3333333333333333,
             "#9c179e"
            ],
            [
             0.4444444444444444,
             "#bd3786"
            ],
            [
             0.5555555555555556,
             "#d8576b"
            ],
            [
             0.6666666666666666,
             "#ed7953"
            ],
            [
             0.7777777777777778,
             "#fb9f3a"
            ],
            [
             0.8888888888888888,
             "#fdca26"
            ],
            [
             1,
             "#f0f921"
            ]
           ],
           "sequentialminus": [
            [
             0,
             "#0d0887"
            ],
            [
             0.1111111111111111,
             "#46039f"
            ],
            [
             0.2222222222222222,
             "#7201a8"
            ],
            [
             0.3333333333333333,
             "#9c179e"
            ],
            [
             0.4444444444444444,
             "#bd3786"
            ],
            [
             0.5555555555555556,
             "#d8576b"
            ],
            [
             0.6666666666666666,
             "#ed7953"
            ],
            [
             0.7777777777777778,
             "#fb9f3a"
            ],
            [
             0.8888888888888888,
             "#fdca26"
            ],
            [
             1,
             "#f0f921"
            ]
           ]
          },
          "colorway": [
           "#636efa",
           "#EF553B",
           "#00cc96",
           "#ab63fa",
           "#FFA15A",
           "#19d3f3",
           "#FF6692",
           "#B6E880",
           "#FF97FF",
           "#FECB52"
          ],
          "font": {
           "color": "#2a3f5f"
          },
          "geo": {
           "bgcolor": "white",
           "lakecolor": "white",
           "landcolor": "#E5ECF6",
           "showlakes": true,
           "showland": true,
           "subunitcolor": "white"
          },
          "hoverlabel": {
           "align": "left"
          },
          "hovermode": "closest",
          "mapbox": {
           "style": "light"
          },
          "paper_bgcolor": "white",
          "plot_bgcolor": "#E5ECF6",
          "polar": {
           "angularaxis": {
            "gridcolor": "white",
            "linecolor": "white",
            "ticks": ""
           },
           "bgcolor": "#E5ECF6",
           "radialaxis": {
            "gridcolor": "white",
            "linecolor": "white",
            "ticks": ""
           }
          },
          "scene": {
           "xaxis": {
            "backgroundcolor": "#E5ECF6",
            "gridcolor": "white",
            "gridwidth": 2,
            "linecolor": "white",
            "showbackground": true,
            "ticks": "",
            "zerolinecolor": "white"
           },
           "yaxis": {
            "backgroundcolor": "#E5ECF6",
            "gridcolor": "white",
            "gridwidth": 2,
            "linecolor": "white",
            "showbackground": true,
            "ticks": "",
            "zerolinecolor": "white"
           },
           "zaxis": {
            "backgroundcolor": "#E5ECF6",
            "gridcolor": "white",
            "gridwidth": 2,
            "linecolor": "white",
            "showbackground": true,
            "ticks": "",
            "zerolinecolor": "white"
           }
          },
          "shapedefaults": {
           "line": {
            "color": "#2a3f5f"
           }
          },
          "ternary": {
           "aaxis": {
            "gridcolor": "white",
            "linecolor": "white",
            "ticks": ""
           },
           "baxis": {
            "gridcolor": "white",
            "linecolor": "white",
            "ticks": ""
           },
           "bgcolor": "#E5ECF6",
           "caxis": {
            "gridcolor": "white",
            "linecolor": "white",
            "ticks": ""
           }
          },
          "title": {
           "x": 0.05
          },
          "xaxis": {
           "automargin": true,
           "gridcolor": "white",
           "linecolor": "white",
           "ticks": "",
           "title": {
            "standoff": 15
           },
           "zerolinecolor": "white",
           "zerolinewidth": 2
          },
          "yaxis": {
           "automargin": true,
           "gridcolor": "white",
           "linecolor": "white",
           "ticks": "",
           "title": {
            "standoff": 15
           },
           "zerolinecolor": "white",
           "zerolinewidth": 2
          }
         }
        },
        "title": {
         "text": "Cost function of LinearRegression for various hyperparameters in train set"
        },
        "xaxis": {
         "anchor": "y",
         "domain": [
          0,
          1
         ],
         "title": {
          "text": "variable"
         }
        },
        "yaxis": {
         "anchor": "x",
         "domain": [
          0,
          1
         ],
         "title": {
          "text": "value"
         }
        }
       }
      }
     },
     "metadata": {},
     "output_type": "display_data"
    }
   ],
   "source": [
    "px.box(pd.DataFrame(train_cv), title='Cost function of LinearRegression for various hyperparameters in train set')"
   ]
  },
  {
   "cell_type": "code",
   "execution_count": 61,
   "metadata": {},
   "outputs": [
    {
     "data": {
      "application/vnd.plotly.v1+json": {
       "config": {
        "plotlyServerURL": "https://plot.ly"
       },
       "data": [
        {
         "alignmentgroup": "True",
         "hovertemplate": "variable=%{x}<br>value=%{y}<extra></extra>",
         "legendgroup": "",
         "marker": {
          "color": "#636efa"
         },
         "name": "",
         "notched": false,
         "offsetgroup": "",
         "orientation": "v",
         "showlegend": false,
         "type": "box",
         "x": [
          "landa:0.01",
          "landa:0.01",
          "landa:0.01",
          "landa:0.01",
          "landa:0.01",
          "landa:0.01",
          "landa:0.01",
          "landa:0.01",
          "landa:0.01",
          "landa:0.01",
          "landa:0.01",
          "landa:0.01",
          "landa:0.01",
          "landa:0.01",
          "landa:0.01",
          "landa:0.01",
          "landa:0.01",
          "landa:0.01",
          "landa:0.01",
          "landa:0.01",
          "landa:0.01",
          "landa:0.01",
          "landa:0.01",
          "landa:0.01",
          "landa:0.01",
          "landa:0.01",
          "landa:0.01",
          "landa:0.01",
          "landa:0.01",
          "landa:0.01",
          "landa:0.01",
          "landa:0.01",
          "landa:0.01",
          "landa:0.01",
          "landa:0.01",
          "landa:0.01",
          "landa:0.01",
          "landa:0.01",
          "landa:0.01",
          "landa:0.01",
          "landa:0.01",
          "landa:0.01",
          "landa:0.01",
          "landa:0.01",
          "landa:0.01",
          "landa:0.01",
          "landa:0.01",
          "landa:0.01",
          "landa:0.01",
          "landa:0.01",
          "landa:0.03",
          "landa:0.03",
          "landa:0.03",
          "landa:0.03",
          "landa:0.03",
          "landa:0.03",
          "landa:0.03",
          "landa:0.03",
          "landa:0.03",
          "landa:0.03",
          "landa:0.03",
          "landa:0.03",
          "landa:0.03",
          "landa:0.03",
          "landa:0.03",
          "landa:0.03",
          "landa:0.03",
          "landa:0.03",
          "landa:0.03",
          "landa:0.03",
          "landa:0.03",
          "landa:0.03",
          "landa:0.03",
          "landa:0.03",
          "landa:0.03",
          "landa:0.03",
          "landa:0.03",
          "landa:0.03",
          "landa:0.03",
          "landa:0.03",
          "landa:0.03",
          "landa:0.03",
          "landa:0.03",
          "landa:0.03",
          "landa:0.03",
          "landa:0.03",
          "landa:0.03",
          "landa:0.03",
          "landa:0.03",
          "landa:0.03",
          "landa:0.03",
          "landa:0.03",
          "landa:0.03",
          "landa:0.03",
          "landa:0.03",
          "landa:0.03",
          "landa:0.03",
          "landa:0.03",
          "landa:0.03",
          "landa:0.03",
          "landa:0.1",
          "landa:0.1",
          "landa:0.1",
          "landa:0.1",
          "landa:0.1",
          "landa:0.1",
          "landa:0.1",
          "landa:0.1",
          "landa:0.1",
          "landa:0.1",
          "landa:0.1",
          "landa:0.1",
          "landa:0.1",
          "landa:0.1",
          "landa:0.1",
          "landa:0.1",
          "landa:0.1",
          "landa:0.1",
          "landa:0.1",
          "landa:0.1",
          "landa:0.1",
          "landa:0.1",
          "landa:0.1",
          "landa:0.1",
          "landa:0.1",
          "landa:0.1",
          "landa:0.1",
          "landa:0.1",
          "landa:0.1",
          "landa:0.1",
          "landa:0.1",
          "landa:0.1",
          "landa:0.1",
          "landa:0.1",
          "landa:0.1",
          "landa:0.1",
          "landa:0.1",
          "landa:0.1",
          "landa:0.1",
          "landa:0.1",
          "landa:0.1",
          "landa:0.1",
          "landa:0.1",
          "landa:0.1",
          "landa:0.1",
          "landa:0.1",
          "landa:0.1",
          "landa:0.1",
          "landa:0.1",
          "landa:0.1",
          "landa:0.3",
          "landa:0.3",
          "landa:0.3",
          "landa:0.3",
          "landa:0.3",
          "landa:0.3",
          "landa:0.3",
          "landa:0.3",
          "landa:0.3",
          "landa:0.3",
          "landa:0.3",
          "landa:0.3",
          "landa:0.3",
          "landa:0.3",
          "landa:0.3",
          "landa:0.3",
          "landa:0.3",
          "landa:0.3",
          "landa:0.3",
          "landa:0.3",
          "landa:0.3",
          "landa:0.3",
          "landa:0.3",
          "landa:0.3",
          "landa:0.3",
          "landa:0.3",
          "landa:0.3",
          "landa:0.3",
          "landa:0.3",
          "landa:0.3",
          "landa:0.3",
          "landa:0.3",
          "landa:0.3",
          "landa:0.3",
          "landa:0.3",
          "landa:0.3",
          "landa:0.3",
          "landa:0.3",
          "landa:0.3",
          "landa:0.3",
          "landa:0.3",
          "landa:0.3",
          "landa:0.3",
          "landa:0.3",
          "landa:0.3",
          "landa:0.3",
          "landa:0.3",
          "landa:0.3",
          "landa:0.3",
          "landa:0.3",
          "landa:0.5",
          "landa:0.5",
          "landa:0.5",
          "landa:0.5",
          "landa:0.5",
          "landa:0.5",
          "landa:0.5",
          "landa:0.5",
          "landa:0.5",
          "landa:0.5",
          "landa:0.5",
          "landa:0.5",
          "landa:0.5",
          "landa:0.5",
          "landa:0.5",
          "landa:0.5",
          "landa:0.5",
          "landa:0.5",
          "landa:0.5",
          "landa:0.5",
          "landa:0.5",
          "landa:0.5",
          "landa:0.5",
          "landa:0.5",
          "landa:0.5",
          "landa:0.5",
          "landa:0.5",
          "landa:0.5",
          "landa:0.5",
          "landa:0.5",
          "landa:0.5",
          "landa:0.5",
          "landa:0.5",
          "landa:0.5",
          "landa:0.5",
          "landa:0.5",
          "landa:0.5",
          "landa:0.5",
          "landa:0.5",
          "landa:0.5",
          "landa:0.5",
          "landa:0.5",
          "landa:0.5",
          "landa:0.5",
          "landa:0.5",
          "landa:0.5",
          "landa:0.5",
          "landa:0.5",
          "landa:0.5",
          "landa:0.5",
          "landa:0.8",
          "landa:0.8",
          "landa:0.8",
          "landa:0.8",
          "landa:0.8",
          "landa:0.8",
          "landa:0.8",
          "landa:0.8",
          "landa:0.8",
          "landa:0.8",
          "landa:0.8",
          "landa:0.8",
          "landa:0.8",
          "landa:0.8",
          "landa:0.8",
          "landa:0.8",
          "landa:0.8",
          "landa:0.8",
          "landa:0.8",
          "landa:0.8",
          "landa:0.8",
          "landa:0.8",
          "landa:0.8",
          "landa:0.8",
          "landa:0.8",
          "landa:0.8",
          "landa:0.8",
          "landa:0.8",
          "landa:0.8",
          "landa:0.8",
          "landa:0.8",
          "landa:0.8",
          "landa:0.8",
          "landa:0.8",
          "landa:0.8",
          "landa:0.8",
          "landa:0.8",
          "landa:0.8",
          "landa:0.8",
          "landa:0.8",
          "landa:0.8",
          "landa:0.8",
          "landa:0.8",
          "landa:0.8",
          "landa:0.8",
          "landa:0.8",
          "landa:0.8",
          "landa:0.8",
          "landa:0.8",
          "landa:0.8",
          "landa:1",
          "landa:1",
          "landa:1",
          "landa:1",
          "landa:1",
          "landa:1",
          "landa:1",
          "landa:1",
          "landa:1",
          "landa:1",
          "landa:1",
          "landa:1",
          "landa:1",
          "landa:1",
          "landa:1",
          "landa:1",
          "landa:1",
          "landa:1",
          "landa:1",
          "landa:1",
          "landa:1",
          "landa:1",
          "landa:1",
          "landa:1",
          "landa:1",
          "landa:1",
          "landa:1",
          "landa:1",
          "landa:1",
          "landa:1",
          "landa:1",
          "landa:1",
          "landa:1",
          "landa:1",
          "landa:1",
          "landa:1",
          "landa:1",
          "landa:1",
          "landa:1",
          "landa:1",
          "landa:1",
          "landa:1",
          "landa:1",
          "landa:1",
          "landa:1",
          "landa:1",
          "landa:1",
          "landa:1",
          "landa:1",
          "landa:1"
         ],
         "x0": " ",
         "xaxis": "x",
         "y": [
          1019.4554507876494,
          437.1623133186464,
          279.63872882784585,
          1267.2283904712433,
          262.03837673821,
          659.9791082856109,
          1275.4325169672315,
          591.704652750842,
          210.09415197515844,
          378.7171541988842,
          249.34355831504277,
          289.52235286372695,
          1589.238036662334,
          326.2493260397789,
          1500.9699658363024,
          462.12689397932826,
          297.8921397521574,
          311.6182143179787,
          314.6746716846219,
          725.430527308335,
          280.54593705240296,
          601.5438931885841,
          317.3637049998843,
          4666.334755558485,
          314.4349377702053,
          253.70073244320147,
          236.13109221075499,
          467.15549450287807,
          1938.1560141832942,
          812.9197541093604,
          868.5938351715262,
          266.291123886614,
          2177.2474013459605,
          158.72317478466388,
          1063.8947732934766,
          342.5860604614171,
          268.9561166579473,
          11455.986436882087,
          446.21435605616995,
          402.0652652759504,
          553.7107367404165,
          293.0482812848886,
          441.9134754042617,
          410.3441190810207,
          968.9406705983989,
          624.3906268129602,
          460.2997560314508,
          629.3862399550841,
          253.19470049417717,
          550.0392137190904,
          333.10578404490514,
          184.35469949941702,
          9070.24927510696,
          387.74909090127136,
          4358.401500391331,
          874.2399449908578,
          370.31276013237044,
          271.5931325920737,
          255.08222406848967,
          193.9330560504995,
          4544.978251422717,
          343.62772587955243,
          1431.210791116545,
          275.63811053773463,
          1356.713369248283,
          423.2178502184965,
          219.76220169859516,
          459.5159971979304,
          373.4198254793766,
          2781.5516761822137,
          483.27341255401427,
          957.0935323742161,
          149.4694399140298,
          235.47588938200127,
          219.2189632466116,
          238.45045724499596,
          10780.105383164022,
          1410.825941741834,
          631.7057682554503,
          277.0611558543733,
          286.0890697882562,
          392.62392563236256,
          286.4191753064253,
          829.1092861704866,
          276.55134650052304,
          108717.13853940967,
          230.6523066364267,
          167.19058505031106,
          332.70396264398624,
          582.7551833436484,
          511.9670193922091,
          1379.0985742686148,
          3476.90772172765,
          240.96326315293499,
          334.81596730170895,
          224.02437339425728,
          199.1661670627768,
          2732.807316923768,
          228.08549260663227,
          763.8998864250541,
          255.44718932520553,
          167.1538138546947,
          450.8547506670878,
          208.37703319815313,
          214.7109516552063,
          220.29750898359407,
          174.85659114352725,
          159.57770653562022,
          329.54731024449654,
          511.61206445987654,
          280.2573420157547,
          253.52129070668332,
          182.01265750242706,
          540.9467947524508,
          355.0358769737298,
          670.3254036430878,
          606.1860946366119,
          457.15057137468085,
          279.222885535953,
          236.64142875840437,
          228.06869810990298,
          193.95486339551564,
          434.5927638075119,
          2336.73047860232,
          168.85075892495402,
          3698.893493297784,
          301.2833125922362,
          315.58234967904303,
          330.3092924536205,
          356.8208988412926,
          1349.2185255025956,
          246.08740897669733,
          297.62170954761893,
          194.38052635728047,
          485.8612687108199,
          280.6752937703243,
          698.2930391473017,
          230.71377917403046,
          239.70645726643167,
          639.8419296380087,
          259.3797506926091,
          813.0377432573846,
          253.07478921853678,
          557.8469459913149,
          1211.864084658283,
          689.0283269678954,
          164.75965908837904,
          221.8892898171778,
          402.3696849745533,
          336.0630906547409,
          171.91647828232763,
          2955.0968656225373,
          171.85492813968224,
          375.31253080310853,
          274.4385348920066,
          271.8230464754578,
          1157.4239296478506,
          184.2508482773076,
          209.21893757930238,
          368.78841906656737,
          298.63244428318507,
          130.0125280146067,
          430.8027665182844,
          200.40263080015293,
          168.02092779136893,
          421.3404677212887,
          990.009720463258,
          150.38046857973583,
          255.2048919799667,
          234.69712209504553,
          254.72055116478506,
          117.45557225596666,
          247.15309379597053,
          312.8320755663768,
          256.70156517530245,
          163.94827553544235,
          945.8475486277413,
          174.97811665948254,
          249.84840392539095,
          250.43390868305534,
          149.10557984803776,
          21062.659669668134,
          161.94556378388302,
          270.44632301550797,
          179.49598558408582,
          242.6257541202931,
          218.41472939938336,
          339.58180967640305,
          138.86200402031315,
          418.1891433071418,
          614.7486388285316,
          287.0579849039799,
          174.1440344047884,
          232.80523529396075,
          279.6825737529814,
          226.75323032508743,
          253.79145567349687,
          324.0432480915882,
          180.09302233704355,
          243.26825968960236,
          180.38398536191445,
          191.95362774123052,
          2382.359917152622,
          190.1536850710351,
          202.95705002474827,
          157.6736156413034,
          276.5884038380823,
          240.47999883771263,
          291.2882416754569,
          220.85543502828682,
          210.53357759188145,
          883.9961185635676,
          162.1438212269669,
          180.80062040698587,
          240.05749899066353,
          265.0137533840228,
          222.6972688186301,
          331.2736873895982,
          183.7394436183086,
          360.9264623200117,
          179.95800643402137,
          341.80245208397963,
          276.1498189842908,
          223.6402506986997,
          455.8836938577628,
          200.0193076977958,
          411.0223469174528,
          210.4629592236003,
          348.1287663131849,
          175.9773880547988,
          192.54221087279416,
          198.53263135496255,
          192.17670251736374,
          287.1577371900858,
          186.99843927322112,
          170.97175999845857,
          145.20927586352494,
          288.63148635833994,
          172.0258566459154,
          277.59375238212215,
          664.2031464182749,
          303.219129077725,
          182.81043853513336,
          155.44593201676804,
          230.04054582674536,
          182.08779395066722,
          205.43462681179093,
          197.49007023348355,
          243.74501629552404,
          338.65107401721696,
          232.71118513424108,
          169.83990285271074,
          285.24033400421166,
          174.57739626305764,
          190.9405693322827,
          239.03976428835935,
          129.7861614637911,
          181.6611617508371,
          167.1879353287102,
          223.76794015536683,
          388.16282590794737,
          199.10084317607408,
          142.05353258226964,
          218.11665501207278,
          251.98330577052502,
          279.663337242176,
          175.37747918677695,
          199.60248258617116,
          162.59727858619547,
          312.77087551232006,
          326.97862869111964,
          95.92635103394072,
          1012.2703780956622,
          242.09580395447176,
          218.11909509838046,
          241.17702032265206,
          169.99777629577957,
          178.2922671251686,
          188.9458314894115,
          416.36563998731134,
          138.52481542484068,
          258.07715653323476,
          288.46339503749977,
          166.04685293254425,
          221.51948087625632,
          263.67539133341626,
          194.58790860461218,
          212.1056428204872,
          260.999126433633,
          404.65871291001866,
          369.53114441595426,
          207.75080982607255,
          175.7188570647589,
          213.54472058890116,
          202.2238581193391,
          138.03954707608221,
          174.3612364618471,
          260.8022298872451,
          221.32442548820543,
          170.93303581553363,
          186.5230334339548,
          247.58250444633077,
          168.6570634991938,
          229.96189159007267,
          219.91017444280618,
          107.45238708130562,
          139.0420371752573,
          297.4468494119505,
          1486.2583621321605,
          238.79237051305265,
          253.18506883122157,
          233.04122941974416,
          276.35402879166065,
          231.5531447676429,
          177.95562618312326,
          191.21418673891554,
          4061.8682943783274,
          225.24370544234512,
          161.05292022485236,
          209.27639247236453,
          214.05958816999137,
          243.05515464079838,
          262.99374951977313,
          489.1726183383403,
          135.5821193100178,
          313.0785137712615,
          361.75287048678115,
          136.56732417255068,
          243.14668745479125,
          227.81676989412276,
          179.94954365784153,
          191.04766773138448,
          321.0126608063424,
          215.96860265425602,
          375.6160748588442,
          139.94097265123065,
          154.7873470722639,
          152.3059068140228,
          223.67132045536476,
          309.1071805282423,
          261.76683550806047,
          154.0542845636523,
          180.37322431276917,
          566.0049478100366,
          301.90590631265417,
          199.21631711313418,
          167.24814365760915,
          160.7195779994302,
          280.6077539833265,
          239.3893331141852
         ],
         "y0": " ",
         "yaxis": "y"
        }
       ],
       "layout": {
        "boxmode": "group",
        "legend": {
         "tracegroupgap": 0
        },
        "template": {
         "data": {
          "bar": [
           {
            "error_x": {
             "color": "#2a3f5f"
            },
            "error_y": {
             "color": "#2a3f5f"
            },
            "marker": {
             "line": {
              "color": "#E5ECF6",
              "width": 0.5
             },
             "pattern": {
              "fillmode": "overlay",
              "size": 10,
              "solidity": 0.2
             }
            },
            "type": "bar"
           }
          ],
          "barpolar": [
           {
            "marker": {
             "line": {
              "color": "#E5ECF6",
              "width": 0.5
             },
             "pattern": {
              "fillmode": "overlay",
              "size": 10,
              "solidity": 0.2
             }
            },
            "type": "barpolar"
           }
          ],
          "carpet": [
           {
            "aaxis": {
             "endlinecolor": "#2a3f5f",
             "gridcolor": "white",
             "linecolor": "white",
             "minorgridcolor": "white",
             "startlinecolor": "#2a3f5f"
            },
            "baxis": {
             "endlinecolor": "#2a3f5f",
             "gridcolor": "white",
             "linecolor": "white",
             "minorgridcolor": "white",
             "startlinecolor": "#2a3f5f"
            },
            "type": "carpet"
           }
          ],
          "choropleth": [
           {
            "colorbar": {
             "outlinewidth": 0,
             "ticks": ""
            },
            "type": "choropleth"
           }
          ],
          "contour": [
           {
            "colorbar": {
             "outlinewidth": 0,
             "ticks": ""
            },
            "colorscale": [
             [
              0,
              "#0d0887"
             ],
             [
              0.1111111111111111,
              "#46039f"
             ],
             [
              0.2222222222222222,
              "#7201a8"
             ],
             [
              0.3333333333333333,
              "#9c179e"
             ],
             [
              0.4444444444444444,
              "#bd3786"
             ],
             [
              0.5555555555555556,
              "#d8576b"
             ],
             [
              0.6666666666666666,
              "#ed7953"
             ],
             [
              0.7777777777777778,
              "#fb9f3a"
             ],
             [
              0.8888888888888888,
              "#fdca26"
             ],
             [
              1,
              "#f0f921"
             ]
            ],
            "type": "contour"
           }
          ],
          "contourcarpet": [
           {
            "colorbar": {
             "outlinewidth": 0,
             "ticks": ""
            },
            "type": "contourcarpet"
           }
          ],
          "heatmap": [
           {
            "colorbar": {
             "outlinewidth": 0,
             "ticks": ""
            },
            "colorscale": [
             [
              0,
              "#0d0887"
             ],
             [
              0.1111111111111111,
              "#46039f"
             ],
             [
              0.2222222222222222,
              "#7201a8"
             ],
             [
              0.3333333333333333,
              "#9c179e"
             ],
             [
              0.4444444444444444,
              "#bd3786"
             ],
             [
              0.5555555555555556,
              "#d8576b"
             ],
             [
              0.6666666666666666,
              "#ed7953"
             ],
             [
              0.7777777777777778,
              "#fb9f3a"
             ],
             [
              0.8888888888888888,
              "#fdca26"
             ],
             [
              1,
              "#f0f921"
             ]
            ],
            "type": "heatmap"
           }
          ],
          "heatmapgl": [
           {
            "colorbar": {
             "outlinewidth": 0,
             "ticks": ""
            },
            "colorscale": [
             [
              0,
              "#0d0887"
             ],
             [
              0.1111111111111111,
              "#46039f"
             ],
             [
              0.2222222222222222,
              "#7201a8"
             ],
             [
              0.3333333333333333,
              "#9c179e"
             ],
             [
              0.4444444444444444,
              "#bd3786"
             ],
             [
              0.5555555555555556,
              "#d8576b"
             ],
             [
              0.6666666666666666,
              "#ed7953"
             ],
             [
              0.7777777777777778,
              "#fb9f3a"
             ],
             [
              0.8888888888888888,
              "#fdca26"
             ],
             [
              1,
              "#f0f921"
             ]
            ],
            "type": "heatmapgl"
           }
          ],
          "histogram": [
           {
            "marker": {
             "pattern": {
              "fillmode": "overlay",
              "size": 10,
              "solidity": 0.2
             }
            },
            "type": "histogram"
           }
          ],
          "histogram2d": [
           {
            "colorbar": {
             "outlinewidth": 0,
             "ticks": ""
            },
            "colorscale": [
             [
              0,
              "#0d0887"
             ],
             [
              0.1111111111111111,
              "#46039f"
             ],
             [
              0.2222222222222222,
              "#7201a8"
             ],
             [
              0.3333333333333333,
              "#9c179e"
             ],
             [
              0.4444444444444444,
              "#bd3786"
             ],
             [
              0.5555555555555556,
              "#d8576b"
             ],
             [
              0.6666666666666666,
              "#ed7953"
             ],
             [
              0.7777777777777778,
              "#fb9f3a"
             ],
             [
              0.8888888888888888,
              "#fdca26"
             ],
             [
              1,
              "#f0f921"
             ]
            ],
            "type": "histogram2d"
           }
          ],
          "histogram2dcontour": [
           {
            "colorbar": {
             "outlinewidth": 0,
             "ticks": ""
            },
            "colorscale": [
             [
              0,
              "#0d0887"
             ],
             [
              0.1111111111111111,
              "#46039f"
             ],
             [
              0.2222222222222222,
              "#7201a8"
             ],
             [
              0.3333333333333333,
              "#9c179e"
             ],
             [
              0.4444444444444444,
              "#bd3786"
             ],
             [
              0.5555555555555556,
              "#d8576b"
             ],
             [
              0.6666666666666666,
              "#ed7953"
             ],
             [
              0.7777777777777778,
              "#fb9f3a"
             ],
             [
              0.8888888888888888,
              "#fdca26"
             ],
             [
              1,
              "#f0f921"
             ]
            ],
            "type": "histogram2dcontour"
           }
          ],
          "mesh3d": [
           {
            "colorbar": {
             "outlinewidth": 0,
             "ticks": ""
            },
            "type": "mesh3d"
           }
          ],
          "parcoords": [
           {
            "line": {
             "colorbar": {
              "outlinewidth": 0,
              "ticks": ""
             }
            },
            "type": "parcoords"
           }
          ],
          "pie": [
           {
            "automargin": true,
            "type": "pie"
           }
          ],
          "scatter": [
           {
            "fillpattern": {
             "fillmode": "overlay",
             "size": 10,
             "solidity": 0.2
            },
            "type": "scatter"
           }
          ],
          "scatter3d": [
           {
            "line": {
             "colorbar": {
              "outlinewidth": 0,
              "ticks": ""
             }
            },
            "marker": {
             "colorbar": {
              "outlinewidth": 0,
              "ticks": ""
             }
            },
            "type": "scatter3d"
           }
          ],
          "scattercarpet": [
           {
            "marker": {
             "colorbar": {
              "outlinewidth": 0,
              "ticks": ""
             }
            },
            "type": "scattercarpet"
           }
          ],
          "scattergeo": [
           {
            "marker": {
             "colorbar": {
              "outlinewidth": 0,
              "ticks": ""
             }
            },
            "type": "scattergeo"
           }
          ],
          "scattergl": [
           {
            "marker": {
             "colorbar": {
              "outlinewidth": 0,
              "ticks": ""
             }
            },
            "type": "scattergl"
           }
          ],
          "scattermapbox": [
           {
            "marker": {
             "colorbar": {
              "outlinewidth": 0,
              "ticks": ""
             }
            },
            "type": "scattermapbox"
           }
          ],
          "scatterpolar": [
           {
            "marker": {
             "colorbar": {
              "outlinewidth": 0,
              "ticks": ""
             }
            },
            "type": "scatterpolar"
           }
          ],
          "scatterpolargl": [
           {
            "marker": {
             "colorbar": {
              "outlinewidth": 0,
              "ticks": ""
             }
            },
            "type": "scatterpolargl"
           }
          ],
          "scatterternary": [
           {
            "marker": {
             "colorbar": {
              "outlinewidth": 0,
              "ticks": ""
             }
            },
            "type": "scatterternary"
           }
          ],
          "surface": [
           {
            "colorbar": {
             "outlinewidth": 0,
             "ticks": ""
            },
            "colorscale": [
             [
              0,
              "#0d0887"
             ],
             [
              0.1111111111111111,
              "#46039f"
             ],
             [
              0.2222222222222222,
              "#7201a8"
             ],
             [
              0.3333333333333333,
              "#9c179e"
             ],
             [
              0.4444444444444444,
              "#bd3786"
             ],
             [
              0.5555555555555556,
              "#d8576b"
             ],
             [
              0.6666666666666666,
              "#ed7953"
             ],
             [
              0.7777777777777778,
              "#fb9f3a"
             ],
             [
              0.8888888888888888,
              "#fdca26"
             ],
             [
              1,
              "#f0f921"
             ]
            ],
            "type": "surface"
           }
          ],
          "table": [
           {
            "cells": {
             "fill": {
              "color": "#EBF0F8"
             },
             "line": {
              "color": "white"
             }
            },
            "header": {
             "fill": {
              "color": "#C8D4E3"
             },
             "line": {
              "color": "white"
             }
            },
            "type": "table"
           }
          ]
         },
         "layout": {
          "annotationdefaults": {
           "arrowcolor": "#2a3f5f",
           "arrowhead": 0,
           "arrowwidth": 1
          },
          "autotypenumbers": "strict",
          "coloraxis": {
           "colorbar": {
            "outlinewidth": 0,
            "ticks": ""
           }
          },
          "colorscale": {
           "diverging": [
            [
             0,
             "#8e0152"
            ],
            [
             0.1,
             "#c51b7d"
            ],
            [
             0.2,
             "#de77ae"
            ],
            [
             0.3,
             "#f1b6da"
            ],
            [
             0.4,
             "#fde0ef"
            ],
            [
             0.5,
             "#f7f7f7"
            ],
            [
             0.6,
             "#e6f5d0"
            ],
            [
             0.7,
             "#b8e186"
            ],
            [
             0.8,
             "#7fbc41"
            ],
            [
             0.9,
             "#4d9221"
            ],
            [
             1,
             "#276419"
            ]
           ],
           "sequential": [
            [
             0,
             "#0d0887"
            ],
            [
             0.1111111111111111,
             "#46039f"
            ],
            [
             0.2222222222222222,
             "#7201a8"
            ],
            [
             0.3333333333333333,
             "#9c179e"
            ],
            [
             0.4444444444444444,
             "#bd3786"
            ],
            [
             0.5555555555555556,
             "#d8576b"
            ],
            [
             0.6666666666666666,
             "#ed7953"
            ],
            [
             0.7777777777777778,
             "#fb9f3a"
            ],
            [
             0.8888888888888888,
             "#fdca26"
            ],
            [
             1,
             "#f0f921"
            ]
           ],
           "sequentialminus": [
            [
             0,
             "#0d0887"
            ],
            [
             0.1111111111111111,
             "#46039f"
            ],
            [
             0.2222222222222222,
             "#7201a8"
            ],
            [
             0.3333333333333333,
             "#9c179e"
            ],
            [
             0.4444444444444444,
             "#bd3786"
            ],
            [
             0.5555555555555556,
             "#d8576b"
            ],
            [
             0.6666666666666666,
             "#ed7953"
            ],
            [
             0.7777777777777778,
             "#fb9f3a"
            ],
            [
             0.8888888888888888,
             "#fdca26"
            ],
            [
             1,
             "#f0f921"
            ]
           ]
          },
          "colorway": [
           "#636efa",
           "#EF553B",
           "#00cc96",
           "#ab63fa",
           "#FFA15A",
           "#19d3f3",
           "#FF6692",
           "#B6E880",
           "#FF97FF",
           "#FECB52"
          ],
          "font": {
           "color": "#2a3f5f"
          },
          "geo": {
           "bgcolor": "white",
           "lakecolor": "white",
           "landcolor": "#E5ECF6",
           "showlakes": true,
           "showland": true,
           "subunitcolor": "white"
          },
          "hoverlabel": {
           "align": "left"
          },
          "hovermode": "closest",
          "mapbox": {
           "style": "light"
          },
          "paper_bgcolor": "white",
          "plot_bgcolor": "#E5ECF6",
          "polar": {
           "angularaxis": {
            "gridcolor": "white",
            "linecolor": "white",
            "ticks": ""
           },
           "bgcolor": "#E5ECF6",
           "radialaxis": {
            "gridcolor": "white",
            "linecolor": "white",
            "ticks": ""
           }
          },
          "scene": {
           "xaxis": {
            "backgroundcolor": "#E5ECF6",
            "gridcolor": "white",
            "gridwidth": 2,
            "linecolor": "white",
            "showbackground": true,
            "ticks": "",
            "zerolinecolor": "white"
           },
           "yaxis": {
            "backgroundcolor": "#E5ECF6",
            "gridcolor": "white",
            "gridwidth": 2,
            "linecolor": "white",
            "showbackground": true,
            "ticks": "",
            "zerolinecolor": "white"
           },
           "zaxis": {
            "backgroundcolor": "#E5ECF6",
            "gridcolor": "white",
            "gridwidth": 2,
            "linecolor": "white",
            "showbackground": true,
            "ticks": "",
            "zerolinecolor": "white"
           }
          },
          "shapedefaults": {
           "line": {
            "color": "#2a3f5f"
           }
          },
          "ternary": {
           "aaxis": {
            "gridcolor": "white",
            "linecolor": "white",
            "ticks": ""
           },
           "baxis": {
            "gridcolor": "white",
            "linecolor": "white",
            "ticks": ""
           },
           "bgcolor": "#E5ECF6",
           "caxis": {
            "gridcolor": "white",
            "linecolor": "white",
            "ticks": ""
           }
          },
          "title": {
           "x": 0.05
          },
          "xaxis": {
           "automargin": true,
           "gridcolor": "white",
           "linecolor": "white",
           "ticks": "",
           "title": {
            "standoff": 15
           },
           "zerolinecolor": "white",
           "zerolinewidth": 2
          },
          "yaxis": {
           "automargin": true,
           "gridcolor": "white",
           "linecolor": "white",
           "ticks": "",
           "title": {
            "standoff": 15
           },
           "zerolinecolor": "white",
           "zerolinewidth": 2
          }
         }
        },
        "title": {
         "text": "Cost function of LinearRegression for various hyperparameters in validation set"
        },
        "xaxis": {
         "anchor": "y",
         "domain": [
          0,
          1
         ],
         "title": {
          "text": "variable"
         }
        },
        "yaxis": {
         "anchor": "x",
         "domain": [
          0,
          1
         ],
         "title": {
          "text": "value"
         },
         "type": "log"
        }
       }
      }
     },
     "metadata": {},
     "output_type": "display_data"
    }
   ],
   "source": [
    "px.box(pd.DataFrame(valid_cv), log_y=True ,title='Cost function of LinearRegression for various hyperparameters in validation set')"
   ]
  },
  {
   "cell_type": "code",
   "execution_count": null,
   "metadata": {},
   "outputs": [],
   "source": []
  }
 ],
 "metadata": {
  "kernelspec": {
   "display_name": "vision",
   "language": "python",
   "name": "python3"
  },
  "language_info": {
   "codemirror_mode": {
    "name": "ipython",
    "version": 3
   },
   "file_extension": ".py",
   "mimetype": "text/x-python",
   "name": "python",
   "nbconvert_exporter": "python",
   "pygments_lexer": "ipython3",
   "version": "3.10.9"
  },
  "vscode": {
   "interpreter": {
    "hash": "eaa10527dfc9253fc90f1d39a3af52c21f4b80574df8c68f3e5a5f27ffae080f"
   }
  }
 },
 "nbformat": 4,
 "nbformat_minor": 4
}
