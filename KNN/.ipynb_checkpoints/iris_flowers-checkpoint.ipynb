{
 "cells": [
  {
   "cell_type": "markdown",
   "id": "18e9c0cc-379b-4088-bcc7-6a4abfe7da74",
   "metadata": {},
   "source": [
    "<h1 align=center style=\"line-height:200%;font-family:vazir;color:#0099cc\">\n",
    "<font face=\"vazir\" color=\"#0099cc\">\n",
    "K Nierest Neighbors\n",
    "</font>\n",
    "</h1>"
   ]
  },
  {
   "cell_type": "markdown",
   "id": "3913e7e1-108c-4825-b3ae-229561bb9fdd",
   "metadata": {},
   "source": [
    "<h2 align=right style=\"line-height:200%;font-family:vazir;color:#0099cc\">\n",
    "<font face=\"vazir\" color=\"#0099cc\">\n",
    "بخش اول - اضافه کردن کتابخانه های لازم\n",
    "</font>\n",
    "</h2>"
   ]
  },
  {
   "cell_type": "code",
   "execution_count": 3,
   "id": "f3e57a7e-f650-417b-ad46-3865e4edfd9d",
   "metadata": {},
   "outputs": [],
   "source": [
    "import numpy as np\n",
    "from scipy import stats"
   ]
  },
  {
   "cell_type": "markdown",
   "id": "cb3b201d-b4a9-4600-b78b-55c9486f7959",
   "metadata": {},
   "source": [
    "<h2 align=right style=\"line-height:200%;font-family:vazir;color:#0099cc\">\n",
    "<font face=\"vazir\" color=\"#0099cc\">\n",
    "بخش اول - خواندن داده\n",
    "</font>\n",
    "</h2>"
   ]
  },
  {
   "cell_type": "code",
   "execution_count": 4,
   "id": "bec74e2c-8f1d-4e3e-8f21-59c0d4c728d1",
   "metadata": {},
   "outputs": [],
   "source": [
    "X_train = np.load('irises.npy')\n",
    "X_valid = np.load('new_irises.npy')\n",
    "y_train = np.load('types.npy')\n",
    "y_valid = np.load('new_types.npy')"
   ]
  },
  {
   "cell_type": "markdown",
   "id": "67d7529f",
   "metadata": {},
   "source": [
    "<h2 align=right style=\"line-height:200%;font-family:vazir;color:#0099cc\">\n",
    "<font face=\"vazir\" color=\"#0099cc\">\n",
    "بخش دوم - محاسبه فاصله‌ها\n",
    "</font>\n",
    "</h2>"
   ]
  },
  {
   "cell_type": "code",
   "execution_count": 5,
   "id": "39b745a5",
   "metadata": {},
   "outputs": [],
   "source": [
    "def calculateDistance_two_loops(new_points, train_points):\n",
    "    testDataLen, trainDataLen = len(new_points), len(points)\n",
    "    distance = np.zeros((testDataLen, trainDataLen))\n",
    "    for i in range(testDataLen):\n",
    "        for j in range(trainDataLen):\n",
    "            distance[i, j] = np.sqrt(np.sum((new_points[i] - points[j]) ** 2))\n",
    "    return distance"
   ]
  },
  {
   "cell_type": "markdown",
   "id": "d9df23ca-7698-4c2c-ad37-539b59072c15",
   "metadata": {},
   "source": [
    "<p dir=rtl style=\"direction: rtl;text-align: right;line-height:200%;font-family:vazir;font-size:medium\">\n",
    "<font face=\"vazir\" size=3>\n",
    "در ادامه، همین کار را به کمک یک حلقه در تابع <code>calc_one_loop</code>انجام می‌دهیم \n",
    "</font>\n",
    "</p>"
   ]
  },
  {
   "cell_type": "code",
   "execution_count": 6,
   "id": "021a9f1c",
   "metadata": {},
   "outputs": [],
   "source": [
    "def calc_one_loop(new_points, train_points):\n",
    "    testDataLen, trainDataLen = len(new_points), len(points)   \n",
    "    distance = np.zeros((testDataLen, trainDataLen))\n",
    "    for i in range(testDataLen):\n",
    "        distance[i] = np.sqrt(np.sum((new_points[i] - points) ** 2 , axis=1))\n",
    "    return distance"
   ]
  },
  {
   "cell_type": "markdown",
   "id": "e20fa792-fa8d-4194-8958-b85659164f13",
   "metadata": {},
   "source": [
    "<p dir=rtl style=\"direction: rtl;text-align: right;line-height:200%;font-family:vazir;font-size:medium\">\n",
    "<font face=\"vazir\" size=3>\n",
    "        در نهایت همین کار را بدون حلقه در تابع <code>calc_no_loop</code> انجام می‌دهیم \n",
    "</font>\n",
    "</p>"
   ]
  },
  {
   "cell_type": "code",
   "execution_count": 8,
   "id": "f3e881e6",
   "metadata": {},
   "outputs": [
    {
     "data": {
      "text/plain": [
       "array([[0.14142136, 0.60827625, 0.50990195, ..., 4.33012702, 4.50444225,\n",
       "        4.67867503],\n",
       "       [0.46904158, 0.17320508, 0.31622777, ..., 4.22018957, 4.45757782,\n",
       "        4.67225855],\n",
       "       [0.88317609, 1.36014705, 1.36381817, ..., 4.45308882, 4.55302098,\n",
       "        4.75078941],\n",
       "       ...,\n",
       "       [4.79687398, 4.86004115, 5.02692749, ..., 0.9591663 , 0.46904158,\n",
       "        0.78740079],\n",
       "       [5.13614642, 5.20672642, 5.35350353, ..., 1.28452326, 0.79372539,\n",
       "        0.6244998 ],\n",
       "       [4.14004831, 4.15331193, 4.29883705, ..., 0.65574385, 0.64031242,\n",
       "        0.76811457]])"
      ]
     },
     "execution_count": 8,
     "metadata": {},
     "output_type": "execute_result"
    }
   ],
   "source": [
    "def calc_no_loop(new_points, points):\n",
    "    testRow , testCol = new_points.shape\n",
    "    trainRow , trainCol = points.shape\n",
    "    modifiedTest = new_points.reshape((testRow , 1 , testCol))\n",
    "    modifiedTrain = points.reshape((1,trainRow,trainCol))\n",
    "    return  np.sqrt(np.sum((modifiedTest - modifiedTrain)**2 ,axis=2))\n",
    "d = calc_no_loop(X_valid , X_train)\n",
    "d"
   ]
  },
  {
   "cell_type": "markdown",
   "id": "c0f24d8d-e976-44ea-9c9f-14fe5455a6a9",
   "metadata": {},
   "source": [
    "<h2 dir = rtl align=right style=\"line-height:200%;font-family:vazir;color:#0099cc\">\n",
    "<font face=\"vazir\" color=\"#0099cc\">\n",
    "بخش سوم - پیدا کردن <code>k</code> نزدیک‌ترین همسایه\n",
    "</font>\n",
    "</h2>"
   ]
  },
  {
   "cell_type": "code",
   "execution_count": 11,
   "id": "e0423a6e",
   "metadata": {},
   "outputs": [],
   "source": [
    "def findKNearest(distance , k):\n",
    "    kNearest = np.argpartition(d , k)[: , :k]\n",
    "    return kNearest\n",
    "kn = findKNearest(d , 10)"
   ]
  },
  {
   "cell_type": "markdown",
   "id": "32ded472",
   "metadata": {},
   "source": [
    "<h2 dir = rtl align=right style=\"line-height:200%;font-family:vazir;color:#0099cc\">\n",
    "<font face=\"vazir\" color=\"#0099cc\">\n",
    "بخش چهارم - پیدا کردن نوع <code>k</code> نزدیک‌ترین همسایه\n",
    "</font>\n",
    "</h2>"
   ]
  },
  {
   "cell_type": "code",
   "execution_count": 12,
   "id": "22edbad2",
   "metadata": {},
   "outputs": [],
   "source": [
    "def findKnearestTypes(types , kNearest):\n",
    "    return types[kNearest]\n",
    "knt = findKnearestTypes(y_train , kn)"
   ]
  },
  {
   "cell_type": "code",
   "execution_count": 13,
   "id": "56f71418",
   "metadata": {},
   "outputs": [
    {
     "data": {
      "text/plain": [
       "array([0, 0, 0, 0, 0, 0, 0, 0, 0, 0, 1, 1, 1, 1, 1, 1, 1, 1, 1, 1, 2, 2,\n",
       "       2, 2, 2, 2, 2, 2, 2, 2], dtype=int64)"
      ]
     },
     "execution_count": 13,
     "metadata": {},
     "output_type": "execute_result"
    }
   ],
   "source": [
    "def getPridictions(kNearestTypes , testSize):\n",
    "    return stats.mode(kNearestTypes, axis=1).mode.reshape(testSize)\n",
    "y_pred = getPridictions(knt , len(y_valid))\n",
    "y_pred"
   ]
  },
  {
   "cell_type": "markdown",
   "id": "4c7ad31c-4c4d-434e-a077-2332497a9a30",
   "metadata": {},
   "source": [
    "<h2 align=right style=\"line-height:200%;font-family:vazir;color:#0099cc\">\n",
    "<font face=\"vazir\" color=\"#0099cc\">\n",
    "بخش آخر - محاسبه دقت پیش بینی ها\n",
    "</font>\n",
    "</h2>"
   ]
  },
  {
   "cell_type": "code",
   "execution_count": 14,
   "id": "57c509b3-3e52-4946-a855-8ca8a6304079",
   "metadata": {},
   "outputs": [
    {
     "data": {
      "text/plain": [
       "100.0"
      ]
     },
     "execution_count": 14,
     "metadata": {},
     "output_type": "execute_result"
    }
   ],
   "source": [
    "def calculateAccuracy(pred , valid):\n",
    "    return np.sum(pred == valid) / len(valid) * 100\n",
    "calculateAccuracy(y_pred , y_valid)"
   ]
  },
  {
   "cell_type": "code",
   "execution_count": null,
   "id": "399fa288-fa75-4449-935b-ef15fcb42b08",
   "metadata": {},
   "outputs": [],
   "source": []
  }
 ],
 "metadata": {
  "interpreter": {
   "hash": "a1a46404003b1888471f66733c8ff43ecbbd22069e04669a0d47e7a2f84d0bb4"
  },
  "kernelspec": {
   "display_name": "Python 3",
   "language": "python",
   "name": "python3"
  },
  "language_info": {
   "codemirror_mode": {
    "name": "ipython",
    "version": 3
   },
   "file_extension": ".py",
   "mimetype": "text/x-python",
   "name": "python",
   "nbconvert_exporter": "python",
   "pygments_lexer": "ipython3",
   "version": "3.9.5"
  }
 },
 "nbformat": 4,
 "nbformat_minor": 5
}
