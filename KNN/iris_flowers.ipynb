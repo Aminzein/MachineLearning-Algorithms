{
 "cells": [
  {
   "cell_type": "markdown",
   "id": "18e9c0cc-379b-4088-bcc7-6a4abfe7da74",
   "metadata": {},
   "source": [
    "<h1 align=center style=\"line-height:200%;font-family:vazir;color:#0099cc\">\n",
    "<font face=\"vazir\" color=\"#0099cc\">\n",
    "K Nierest Neighbors\n",
    "</font>\n",
    "</h1>"
   ]
  },
  {
   "cell_type": "markdown",
   "id": "65150503-1103-480f-8c22-7a61f7bfe6e8",
   "metadata": {},
   "source": [
    "<h2 align=right style=\"line-height:200%;font-family:vazir;color:#0099cc\">\n",
    "<font face=\"vazir\" color=\"#0099cc\">\n",
    "بخش اول - اضافه کردن کتابخانه های لازم\n",
    "</font>\n",
    "</h2>"
   ]
  },
  {
   "cell_type": "code",
   "execution_count": 2,
   "id": "f3e57a7e-f650-417b-ad46-3865e4edfd9d",
   "metadata": {},
   "outputs": [],
   "source": [
    "import numpy as np\n",
    "from scipy import stats"
   ]
  },
  {
   "cell_type": "markdown",
   "id": "67d7529f",
   "metadata": {},
   "source": [
    "<h2 align=right style=\"line-height:200%;font-family:vazir;color:#0099cc\">\n",
    "<font face=\"vazir\" color=\"#0099cc\">\n",
    "بخش دوم - محاسبه فاصله‌ها\n",
    "</font>\n",
    "</h2>"
   ]
  },
  {
   "cell_type": "code",
   "execution_count": 6,
   "id": "39b745a5",
   "metadata": {},
   "outputs": [],
   "source": [
    "def calculateDistance_two_loops(new_points, train_points):\n",
    "    testDataLen, trainDataLen = len(new_points), len(points)\n",
    "    distance = np.zeros((testDataLen, trainDataLen))\n",
    "    for i in range(testDataLen):\n",
    "        for j in range(trainDataLen):\n",
    "            distance[i, j] = np.sqrt(np.sum((new_points[i] - points[j]) ** 2))\n",
    "    return distance"
   ]
  },
  {
   "cell_type": "markdown",
   "id": "d9df23ca-7698-4c2c-ad37-539b59072c15",
   "metadata": {},
   "source": [
    "<p dir=rtl style=\"direction: rtl;text-align: right;line-height:200%;font-family:vazir;font-size:medium\">\n",
    "<font face=\"vazir\" size=3>\n",
    "در ادامه، همین کار را به کمک یک حلقه در تابع <code>calc_one_loop</code>انجام می‌دهیم \n",
    "</font>\n",
    "</p>"
   ]
  },
  {
   "cell_type": "code",
   "execution_count": 7,
   "id": "021a9f1c",
   "metadata": {},
   "outputs": [],
   "source": [
    "def calc_one_loop(new_points, train_points):\n",
    "    testDataLen, trainDataLen = len(new_points), len(points)   \n",
    "    distance = np.zeros((testDataLen, trainDataLen))\n",
    "    for i in range(testDataLen):\n",
    "        distance[i] = np.sqrt(np.sum((new_points[i] - points) ** 2 , axis=1))\n",
    "    return distance"
   ]
  },
  {
   "cell_type": "markdown",
   "id": "e20fa792-fa8d-4194-8958-b85659164f13",
   "metadata": {},
   "source": [
    "<p dir=rtl style=\"direction: rtl;text-align: right;line-height:200%;font-family:vazir;font-size:medium\">\n",
    "<font face=\"vazir\" size=3>\n",
    "        در نهایت همین کار را بدون حلقه در تابع <code>calc_no_loop</code> انجام می‌دهیم \n",
    "</font>\n",
    "</p>"
   ]
  },
  {
   "cell_type": "code",
   "execution_count": 54,
   "id": "f3e881e6",
   "metadata": {},
   "outputs": [],
   "source": [
    "def calc_no_loop(new_points, points):\n",
    "    testRow , testCol = new_points.shape\n",
    "    trainRow , trainCol = points.shape\n",
    "    modifiedTest = new_points.reshape((testRow , 1 , testCol))\n",
    "    modifiedTrain = points.reshape((1,trainRow,trainCol))\n",
    "    return  np.sqrt(np.sum((modifiedTest - modifiedTrain)**2 ,axis=2))"
   ]
  },
  {
   "cell_type": "markdown",
   "id": "c0f24d8d-e976-44ea-9c9f-14fe5455a6a9",
   "metadata": {},
   "source": [
    "<h2 dir = rtl align=right style=\"line-height:200%;font-family:vazir;color:#0099cc\">\n",
    "<font face=\"vazir\" color=\"#0099cc\">\n",
    "بخش سوم - پیدا کردن <code>k</code> نزدیک‌ترین همسایه\n",
    "</font>\n",
    "</h2>"
   ]
  },
  {
   "cell_type": "code",
   "execution_count": 8,
   "id": "e0423a6e",
   "metadata": {},
   "outputs": [],
   "source": [
    "def findKNearest(distance , k):\n",
    "    kNearest = np.argpartition(d , k)[: , :k]\n",
    "    return kNearest"
   ]
  },
  {
   "cell_type": "markdown",
   "id": "32ded472",
   "metadata": {},
   "source": [
    "<h2 dir = rtl align=right style=\"line-height:200%;font-family:vazir;color:#0099cc\">\n",
    "<font face=\"vazir\" color=\"#0099cc\">\n",
    "بخش چهارم - پیدا کردن نوع <code>k</code> نزدیک‌ترین همسایه\n",
    "</font>\n",
    "</h2>"
   ]
  },
  {
   "cell_type": "code",
   "execution_count": 10,
   "id": "22edbad2",
   "metadata": {},
   "outputs": [],
   "source": [
    "def findKnearestTypes(types , kNearest):\n",
    "    return types[kNearest]"
   ]
  },
  {
   "cell_type": "code",
   "execution_count": 12,
   "id": "56f71418",
   "metadata": {},
   "outputs": [],
   "source": [
    "def getPridictions(kNearestTypes , testSize):\n",
    "    return stats.mode(kNearestTypes, axis=1).mode.reshape(testSize)"
   ]
  },
  {
   "cell_type": "markdown",
   "id": "2008b3ad-7d71-41e9-b8ec-e18c6b2d3029",
   "metadata": {},
   "source": [
    "<h2 dir = rtl align=right style=\"line-height:200%;font-family:vazir;color:#0099cc\">\n",
    "<font face=\"vazir\" color=\"#0099cc\">\n",
    "بخش پایانی - کنار هم قرار دادن توابع در یک کلاس\n",
    "</font>\n",
    "</h2>"
   ]
  },
  {
   "cell_type": "code",
   "execution_count": null,
   "id": "6de4145f-9061-44d5-b27e-6fbc0456c4da",
   "metadata": {},
   "outputs": [],
   "source": []
  }
 ],
 "metadata": {
  "interpreter": {
   "hash": "a1a46404003b1888471f66733c8ff43ecbbd22069e04669a0d47e7a2f84d0bb4"
  },
  "kernelspec": {
   "display_name": "Python 3",
   "language": "python",
   "name": "python3"
  },
  "language_info": {
   "codemirror_mode": {
    "name": "ipython",
    "version": 3
   },
   "file_extension": ".py",
   "mimetype": "text/x-python",
   "name": "python",
   "nbconvert_exporter": "python",
   "pygments_lexer": "ipython3",
   "version": "3.9.5"
  }
 },
 "nbformat": 4,
 "nbformat_minor": 5
}
