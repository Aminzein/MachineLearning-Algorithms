{
 "cells": [
  {
   "cell_type": "markdown",
   "id": "acc137fd",
   "metadata": {},
   "source": [
    "<h1 align=center style=\"line-height:200%;font-family:vazir;color:#0099cc\">\n",
    "<font face=\"vazir\" color=\"#0099cc\">\n",
    "گل‌های زنبق\n",
    "</font>\n",
    "</h1>"
   ]
  },
  {
   "cell_type": "markdown",
   "id": "267e3517",
   "metadata": {},
   "source": [
    "<h2 align=right style=\"line-height:200%;font-family:vazir;color:#0099cc\">\n",
    "<font face=\"vazir\" color=\"#0099cc\">\n",
    "بخش اول - بارگیری داده\n",
    "</font>\n",
    "</h2>"
   ]
  },
  {
   "cell_type": "markdown",
   "id": "813662f2",
   "metadata": {},
   "source": [
    "<p dir=rtl style=\"direction: rtl;text-align: right;line-height:200%;font-family:vazir;font-size:medium\">\n",
    "<font face=\"vazir\" size=3>\n",
    "ابتدا آرایه‌های مورد نیازمان را بارگیری می‌کنیم. هم‌چنین تعداد نمونه‌های آموزش را <code>n</code> و تعداد نمونه‌های آزمون را <code>m</code> می‌نامیم. \n",
    "</font>\n",
    "</p>"
   ]
  },
  {
   "cell_type": "code",
   "execution_count": 51,
   "id": "cece44e9",
   "metadata": {},
   "outputs": [
    {
     "name": "stdout",
     "output_type": "stream",
     "text": [
      "(120, 4)\n",
      "(120,)\n",
      "(30, 4)\n"
     ]
    }
   ],
   "source": [
    "import numpy as np\n",
    "irises = np.load('irises.npy')\n",
    "types = np.load('types.npy')\n",
    "new_irises = np.load('new_irises.npy')\n",
    "print(irises.shape)\n",
    "print(types.shape)\n",
    "print(new_irises.shape)\n",
    "n, m = len(irises), len(new_irises)"
   ]
  },
  {
   "cell_type": "markdown",
   "id": "67d7529f",
   "metadata": {},
   "source": [
    "<h2 align=right style=\"line-height:200%;font-family:vazir;color:#0099cc\">\n",
    "<font face=\"vazir\" color=\"#0099cc\">\n",
    "بخش دوم - محاسبه فاصله‌ها\n",
    "</font>\n",
    "</h2>"
   ]
  },
  {
   "cell_type": "markdown",
   "id": "3cf3695a",
   "metadata": {},
   "source": [
    "<p dir=rtl style=\"direction: rtl;text-align: right;line-height:200%;font-family:vazir;font-size:medium\">\n",
    "<font face=\"vazir\" size=3>\n",
    "ابتدا با کمک دو حلقه در تابع <code>calc_two_loops</code>، مجذور فاصله‌ها را محاسبه کرده و برمی‌گردانیم. برای این منظور کافیست عبارتی را جلوی تساوی قرار دهید که برابر با مجذور فاصله دو نقطه <code>new_points[i]</code> و <code>points[j]</code> است (چون جذر گرفتن تاثیری بر فاصله نسبی نقطه‌ها ندارد، به مجذور فاصله اکتفا می‌کنیم).\n",
    "</font>\n",
    "</p>"
   ]
  },
  {
   "cell_type": "code",
   "execution_count": 52,
   "id": "39b745a5",
   "metadata": {},
   "outputs": [],
   "source": [
    "def calc_two_loops(new_points, points):\n",
    "    m, n = len(new_points), len(points)\n",
    "    d = np.zeros((m, n))\n",
    "    for i in range(m):\n",
    "        for j in range(n):\n",
    "            d[i, j] = np.sum((new_points[i] - points[j]) ** 2)\n",
    "    return d"
   ]
  },
  {
   "cell_type": "markdown",
   "id": "0a51f012",
   "metadata": {},
   "source": [
    "<p dir=rtl style=\"direction: rtl;text-align: right;line-height:200%;font-family:vazir;font-size:medium\">\n",
    "<font face=\"vazir\" size=3>\n",
    "در ادامه، همین کار را به کمک یک حلقه در تابع <code>calc_one_loop</code> انجام می‌دهیم. این بار جلوی تساوی، عبارتی را بنویسید که سطر <code>i</code>ام آرایه مجذور فاصله‌ها را نتیجه دهد.\n",
    "</font>\n",
    "</p>"
   ]
  },
  {
   "cell_type": "code",
   "execution_count": 53,
   "id": "021a9f1c",
   "metadata": {},
   "outputs": [],
   "source": [
    "def calc_one_loop(new_points, points):\n",
    "    m, n = len(new_points), len(points)    \n",
    "    d = np.zeros((m, n))\n",
    "    for i in range(m):\n",
    "        d[i] = np.sum((new_points[i] - points) ** 2 , axis=1)\n",
    "    return d"
   ]
  },
  {
   "cell_type": "markdown",
   "id": "c3353550",
   "metadata": {},
   "source": [
    "<p dir=rtl style=\"direction: rtl;text-align: right;line-height:200%;font-family:vazir;font-size:medium\">\n",
    "<font face=\"vazir\" size=3>\n",
    "        در نهایت همین کار را بدون حلقه در تابع <code>calc_no_loop</code> انجام می‌دهیم. این بار جلوی <code>return</code>، عبارتی را در یک خط بنویسید که حاصل آن کل آرایه مجذور فاصله‌ها باشد!\n",
    "        <br>\n",
    "راهنمایی: در این بخش و بخش قبلی باید از خاصیت پخش آرایه‌ها استفاده کنید. برای این منظور، می‌توانید آرایه‌ها را بازآرایی کنید.\n",
    "</font>\n",
    "</p>"
   ]
  },
  {
   "cell_type": "code",
   "execution_count": 54,
   "id": "f3e881e6",
   "metadata": {},
   "outputs": [],
   "source": [
    "def calc_no_loop(new_points, points):\n",
    "    new_shp = new_points.shape\n",
    "    shp = points.shape\n",
    "    return  np.sum((new_points.reshape((new_shp[0] , -1 , new_shp[1])) - points.reshape((-1,shp[0],shp[1])))**2 ,axis=2)"
   ]
  },
  {
   "cell_type": "markdown",
   "id": "726d2ca6",
   "metadata": {},
   "source": [
    "<p dir=rtl style=\"direction: rtl;text-align: right;line-height:200%;font-family:vazir;font-size:medium\">\n",
    "<font face=\"vazir\" size=3>\n",
    "ممکن است ساختن آرایه فاصله‌ها بدون حلقه، پیچیده به نظر برسد. اما استفاده از خاصیت پخش آرایه‌ها به جای استفاده از حلقه هم باعث سریع‌تر شدن کد و هم کوتاه‌تر شدن آن می‌شود و خوب است به آن عادت کنید. سریع‌تر شدن کد را می‌توانید با ورودی دادن آرایه‌های بزرگ بیازمایید.         \n",
    "</font>\n",
    "</p>"
   ]
  },
  {
   "cell_type": "markdown",
   "id": "4a1eaa36",
   "metadata": {},
   "source": [
    "<p dir=rtl style=\"direction: rtl;text-align: right;line-height:200%;font-family:vazir;font-size:medium\">\n",
    "<font face=\"vazir\" size=3>\n",
    "محاسبه آرایه فاصله‌ها به سه روش فوق، نباید تفاوتی در نتیجه حاصل کند. از این رو کد زیر را اجرا کنید تا از برابر بودن خروجی سه تابع فوق اطمینان حاصل کنید. از این به بعد از آرایه ‍<code>d</code> به عنوان آرایه فاصله‌ها استفاده می‌کنیم.\n",
    "</font>\n",
    "</p>"
   ]
  },
  {
   "cell_type": "code",
   "execution_count": 55,
   "id": "6b3eda6e",
   "metadata": {},
   "outputs": [
    {
     "name": "stdout",
     "output_type": "stream",
     "text": [
      "Fine!\n"
     ]
    }
   ],
   "source": [
    "d2 = calc_two_loops(new_irises, irises)\n",
    "d1 = calc_one_loop(new_irises, irises)\n",
    "d = calc_no_loop(new_irises, irises)\n",
    "\n",
    "if np.allclose(d, d1, 1e-5) and np.allclose(d, d2, 1e-5):\n",
    "    print('Fine!')\n",
    "else:\n",
    "    print('There is something wrong!')"
   ]
  },
  {
   "cell_type": "markdown",
   "id": "f1a35b10",
   "metadata": {},
   "source": [
    "<h2 dir = rtl align=right style=\"line-height:200%;font-family:vazir;color:#0099cc\">\n",
    "<font face=\"vazir\" color=\"#0099cc\">\n",
    "بخش سوم - پیدا کردن <code>k</code> نزدیک‌ترین همسایه\n",
    "</font>\n",
    "</h2>"
   ]
  },
  {
   "cell_type": "markdown",
   "id": "da6315e4",
   "metadata": {},
   "source": [
    "<p dir=rtl style=\"direction: rtl;text-align: right;line-height:200%;font-family:vazir;font-size:medium\">\n",
    "<font face=\"vazir\" size=3>\n",
    "در ادامه، مقدار <code>k</code> را برابر ۱۰ قرار داده‌ایم. حال در برابر تساوی عبارتی بنویسید که آرایه‌ای <code>(m, k)</code> را خروجی دهد و در سطر <code>i</code> آن شماره <code>j</code> قرار گیرد اگر <code>irises[j]</code> جزو <code>k</code> تا نزدیک‌ترین نمونه آموزش به <code>new_irises[i]</code> باشد.\n",
    "        <br>\n",
    "راهنمایی: در مورد تابع <code>argpartition</code> نامپای و تفاوت آن با تابع <code>partition</code> که در این فصل آموختیم، تحقیق کنید.\n",
    "</font>\n",
    "</p>"
   ]
  },
  {
   "cell_type": "code",
   "execution_count": 56,
   "id": "e0423a6e",
   "metadata": {},
   "outputs": [
    {
     "data": {
      "text/plain": [
       "array([[  6,  14,   0,  32,  22,  17,  39,  21,  23,  37],\n",
       "       [ 10,   1,  30,  24,  20,   2,  36,   3,   6,  28],\n",
       "       [ 27,  13,   8,  39,   4,  29,  15,  12,  26,  25],\n",
       "       [ 14,  17,   0,  39,  37,  22,   8,  32,  26,  13],\n",
       "       [ 21,  20,  30,   3,   9,  24,   6,  19,  35,   5],\n",
       "       [ 10,   1,   2,   3,  38,   5,  36,  30,  24,   9],\n",
       "       [ 10,   1,  30,  24,  20,   2,  36,   3,   6,  28],\n",
       "       [  0,   6,  22,  23,  21,  14,   9,  32,  17,  39],\n",
       "       [ 39,  35,  17,  22,   4,  21,  37,  19,   8,  16],\n",
       "       [ 28,   6,  23,   0,  14,  21,  30,  32,  22,   9],\n",
       "       [ 47,  73,  69,  61,  52,  51,  41,  60, 101,  58],\n",
       "       [ 71,  43,  65,  64,  77,  72,  66,  76,  74,  54],\n",
       "       [ 71,  65,  74,  64,  66,  77,  76,  54,  57,  49],\n",
       "       [ 64,  65,  74,  66,  43,  50,  54,  72,  77,  71],\n",
       "       [ 78,  60,  47,  41,  73,  52,  63,  57,  51,  59],\n",
       "       [ 74,  65,  54,  64,  66,  43,  50,  57,  71,  75],\n",
       "       [ 77,  71,  44,  53,  72,  76,  49,  97,  56,  63],\n",
       "       [ 72,  66,  64,  74,  43,  65,  77,  54,  71,  76],\n",
       "       [ 77,  74,  44,  72,  71,  76,  54,  66,  43,  53],\n",
       "       [ 66,  54,  71,  76,  77,  74,  49,  57,  44,  72],\n",
       "       [ 90, 103, 106,  96, 112, 115,  93, 110,  83,  80],\n",
       "       [ 82,  96, 100, 108,  94, 115, 112, 105,  80,  84],\n",
       "       [111,  92,  97, 117,  81, 114, 102,  91, 101,  56],\n",
       "       [107,  67,  81, 117,  58, 114,  91,  99,  55,  70],\n",
       "       [110,  82,  90,  92,  96, 115,  93, 109, 112, 103],\n",
       "       [100, 104,  82,  86,  96,  93,  90,  87, 115, 110],\n",
       "       [107,  83,  87,  89,  67,  93,  58, 110,  81, 114],\n",
       "       [113,  90, 118, 112, 116,  96,  93,  82,  88,  92],\n",
       "       [115,  96, 112, 109,  80,  90,  92, 116, 119, 106],\n",
       "       [114, 102, 111,  81,  97,  67,  56, 107,  99, 101]], dtype=int64)"
      ]
     },
     "execution_count": 56,
     "metadata": {},
     "output_type": "execute_result"
    }
   ],
   "source": [
    "k = 10\n",
    "k_nearest = np.argpartition(d , k)[: , :k]\n",
    "k_nearest"
   ]
  },
  {
   "cell_type": "markdown",
   "id": "32ded472",
   "metadata": {},
   "source": [
    "<h2 dir = rtl align=right style=\"line-height:200%;font-family:vazir;color:#0099cc\">\n",
    "<font face=\"vazir\" color=\"#0099cc\">\n",
    "بخش چهارم - پیدا کردن نوع <code>k</code> نزدیک‌ترین همسایه\n",
    "</font>\n",
    "</h2>"
   ]
  },
  {
   "cell_type": "markdown",
   "id": "34e63fc0",
   "metadata": {},
   "source": [
    "<p dir=rtl style=\"direction: rtl;text-align: right;line-height:200%;font-family:vazir;font-size:medium\">\n",
    "<font face=\"vazir\" size=3>\n",
    "حالا آرایه <code>k_nearest_types</code> را در یک خط مقداردهی کنید؛ طوری که هم‌شکل <code>k_nearest</code> باشد، اما به جای شماره هر نمونه آموزش شناسه نوع آن قرار گیرد.        \n",
    "</font>\n",
    "</p>"
   ]
  },
  {
   "cell_type": "code",
   "execution_count": 57,
   "id": "22edbad2",
   "metadata": {},
   "outputs": [
    {
     "data": {
      "text/plain": [
       "array([[0, 0, 0, 0, 0, 0, 0, 0, 0, 0],\n",
       "       [0, 0, 0, 0, 0, 0, 0, 0, 0, 0],\n",
       "       [0, 0, 0, 0, 0, 0, 0, 0, 0, 0],\n",
       "       [0, 0, 0, 0, 0, 0, 0, 0, 0, 0],\n",
       "       [0, 0, 0, 0, 0, 0, 0, 0, 0, 0],\n",
       "       [0, 0, 0, 0, 0, 0, 0, 0, 0, 0],\n",
       "       [0, 0, 0, 0, 0, 0, 0, 0, 0, 0],\n",
       "       [0, 0, 0, 0, 0, 0, 0, 0, 0, 0],\n",
       "       [0, 0, 0, 0, 0, 0, 0, 0, 0, 0],\n",
       "       [0, 0, 0, 0, 0, 0, 0, 0, 0, 0],\n",
       "       [1, 1, 1, 1, 1, 1, 1, 1, 2, 1],\n",
       "       [1, 1, 1, 1, 1, 1, 1, 1, 1, 1],\n",
       "       [1, 1, 1, 1, 1, 1, 1, 1, 1, 1],\n",
       "       [1, 1, 1, 1, 1, 1, 1, 1, 1, 1],\n",
       "       [1, 1, 1, 1, 1, 1, 1, 1, 1, 1],\n",
       "       [1, 1, 1, 1, 1, 1, 1, 1, 1, 1],\n",
       "       [1, 1, 1, 1, 1, 1, 1, 2, 1, 1],\n",
       "       [1, 1, 1, 1, 1, 1, 1, 1, 1, 1],\n",
       "       [1, 1, 1, 1, 1, 1, 1, 1, 1, 1],\n",
       "       [1, 1, 1, 1, 1, 1, 1, 1, 1, 1],\n",
       "       [2, 2, 2, 2, 2, 2, 2, 2, 2, 2],\n",
       "       [2, 2, 2, 2, 2, 2, 2, 2, 2, 2],\n",
       "       [2, 2, 2, 2, 2, 2, 2, 2, 2, 1],\n",
       "       [2, 1, 2, 2, 1, 2, 2, 2, 1, 1],\n",
       "       [2, 2, 2, 2, 2, 2, 2, 2, 2, 2],\n",
       "       [2, 2, 2, 2, 2, 2, 2, 2, 2, 2],\n",
       "       [2, 2, 2, 2, 1, 2, 1, 2, 2, 2],\n",
       "       [2, 2, 2, 2, 2, 2, 2, 2, 2, 2],\n",
       "       [2, 2, 2, 2, 2, 2, 2, 2, 2, 2],\n",
       "       [2, 2, 2, 2, 2, 1, 1, 2, 2, 2]], dtype=int64)"
      ]
     },
     "execution_count": 57,
     "metadata": {},
     "output_type": "execute_result"
    }
   ],
   "source": [
    "k_nearest_types = types[k_nearest]\n",
    "k_nearest_types"
   ]
  },
  {
   "cell_type": "markdown",
   "id": "7ddb2cdb",
   "metadata": {},
   "source": [
    "<h2 align=right style=\"line-height:200%;font-family:vazir;color:#0099cc\">\n",
    "<font face=\"vazir\" color=\"#0099cc\">\n",
    "بخش پنجم - تعیین نوع گل‌ها\n",
    "</font>\n",
    "</h2>"
   ]
  },
  {
   "cell_type": "markdown",
   "id": "637d0df2",
   "metadata": {},
   "source": [
    "<p dir=rtl style=\"direction: rtl;text-align: right;line-height:200%;font-family:vazir;font-size:medium\">\n",
    "<font face=\"vazir\" size=3>\n",
    "در نهایت، باید آرایه <code>predicted_types</code> به طول <code>m</code> را بسازیم که در خانه <code>predicted_types[i]</code>، پرتکرارترین شناسه در <code>k_nearest_types[i]</code> به عنوان شناسه نوع پیش‌بینی شده برای <code>new_irises[i]</code> قرار می‌گیرد. این کار را به کمک تابع <code>mode</code> که داخل کتابخانه <code>scipy</code> قرار دارد، انجام داده‌ایم.\n",
    "</font>\n",
    "</p>"
   ]
  },
  {
   "cell_type": "code",
   "execution_count": 58,
   "id": "63421504",
   "metadata": {},
   "outputs": [],
   "source": [
    "from scipy import stats"
   ]
  },
  {
   "cell_type": "code",
   "execution_count": 59,
   "id": "56f71418",
   "metadata": {},
   "outputs": [
    {
     "data": {
      "text/plain": [
       "array([0, 0, 0, 0, 0, 0, 0, 0, 0, 0, 1, 1, 1, 1, 1, 1, 1, 1, 1, 1, 2, 2,\n",
       "       2, 2, 2, 2, 2, 2, 2, 2], dtype=int64)"
      ]
     },
     "execution_count": 59,
     "metadata": {},
     "output_type": "execute_result"
    }
   ],
   "source": [
    "predicted_types = stats.mode(k_nearest_types, axis=1).mode.reshape(m)\n",
    "predicted_types"
   ]
  },
  {
   "cell_type": "markdown",
   "id": "1237953f",
   "metadata": {},
   "source": [
    "<p dir=rtl style=\"direction: rtl;text-align: right;line-height:200%;font-family:vazir;font-size:medium\">\n",
    "<font face=\"vazir\" size=3>\n",
    "پس از آن، آرایه <code>new_types</code> بارگیری شده‌است که حاوی جواب‌های درست است. از روی آن، دقت دسته‌بندی‌ را محاسبه و در متغیر <code>accuracy</code> ذخیره کنید. دقت دسته‌بندی برابر با تعداد پیش‌بینی‌های درست تقسیم بر تعداد نمونه‌های آزمون است. اگر مراحل کار را درست انجام داده‌باشید، دقت باید برابر ۱ باشد (یعنی دسته‌بند همه نوع گل‌ها را درست پیش‌بینی می‌کند).\n",
    "</font>\n",
    "</p>"
   ]
  },
  {
   "cell_type": "code",
   "execution_count": 60,
   "id": "6c855388",
   "metadata": {},
   "outputs": [
    {
     "name": "stdout",
     "output_type": "stream",
     "text": [
      "Accuracy: 1.0\n"
     ]
    }
   ],
   "source": [
    "new_types = np.load('new_types.npy')\n",
    "accuracy = np.sum(predicted_types == new_types) / 30\n",
    "print('Accuracy:', accuracy)"
   ]
  },
  {
   "cell_type": "markdown",
   "id": "d6351c78",
   "metadata": {},
   "source": [
    "<p dir=rtl style=\"direction: rtl;text-align: right;line-height:200%;font-family:vazir;font-size:medium\">\n",
    "<font face=\"vazir\" size=3>\n",
    "به کمک سلول زیر، کد خود را به همراه جوابتان فشرده کرده و فایل result.zip را درون سامانه بارگذاری کنید.\n",
    "</font>\n",
    "</p>"
   ]
  },
  {
   "cell_type": "markdown",
   "id": "18b1bc75",
   "metadata": {},
   "source": [
    "<h2 align=right style=\"line-height:200%;font-family:vazir;color:#0099cc\">\n",
    "<font face=\"vazir\" color=\"#0099cc\">\n",
    "<b>سلول جواب‌ساز</b>\n",
    "</font>\n",
    "</h2>"
   ]
  },
  {
   "cell_type": "code",
   "execution_count": 62,
   "id": "76ccca15",
   "metadata": {},
   "outputs": [
    {
     "name": "stdin",
     "output_type": "stream",
     "text": [
      "File `calc_two_loops.py` exists. Overwrite (y/[N])?   y\n"
     ]
    },
    {
     "name": "stdout",
     "output_type": "stream",
     "text": [
      "The following commands were written to file `calc_two_loops.py`:\n",
      "import numpy as np\n",
      "def calc_two_loops(new_points, points):\n",
      "    m, n = len(new_points), len(points)\n",
      "    d = np.zeros((m, n))\n",
      "    for i in range(m):\n",
      "        for j in range(n):\n",
      "            d[i, j] = np.sum((new_points[i] - points[j]) ** 2)\n",
      "    return d\n",
      "\n"
     ]
    },
    {
     "name": "stdin",
     "output_type": "stream",
     "text": [
      "File `calc_one_loop.py` exists. Overwrite (y/[N])?   y\n"
     ]
    },
    {
     "name": "stdout",
     "output_type": "stream",
     "text": [
      "The following commands were written to file `calc_one_loop.py`:\n",
      "import numpy as np\n",
      "def calc_one_loop(new_points, points):\n",
      "    m, n = len(new_points), len(points)    \n",
      "    d = np.zeros((m, n))\n",
      "    for i in range(m):\n",
      "        d[i] = np.sum((new_points[i] - points) ** 2 , axis=1)\n",
      "    return d\n",
      "\n"
     ]
    },
    {
     "name": "stdin",
     "output_type": "stream",
     "text": [
      "File `calc_no_loop.py` exists. Overwrite (y/[N])?   y\n"
     ]
    },
    {
     "name": "stdout",
     "output_type": "stream",
     "text": [
      "The following commands were written to file `calc_no_loop.py`:\n",
      "import numpy as np\n",
      "def calc_no_loop(new_points, points):\n",
      "    new_shp = new_points.shape\n",
      "    shp = points.shape\n",
      "    return  np.sum((new_points.reshape((new_shp[0] , -1 , new_shp[1])) - points.reshape((-1,shp[0],shp[1])))**2 ,axis=2)\n",
      "\n",
      "File Paths:\n",
      "['calc_two_loops.py', 'calc_one_loop.py', 'calc_no_loop.py', 'answers.npz', 'iris_flowers.ipynb']\n"
     ]
    }
   ],
   "source": [
    "import zipfile\n",
    "from inspect import getsource\n",
    "\n",
    "np.savez(\"answers.npz\", k_nearest = k_nearest, k_nearest_types = k_nearest_types, predicted_types = predicted_types)\n",
    "\n",
    "def compress(file_names):\n",
    "    print(\"File Paths:\")\n",
    "    print(file_names)\n",
    "    # Select the compression mode ZIP_DEFLATED for compression\n",
    "    # or zipfile.ZIP_STORED to just store the file\n",
    "    compression = zipfile.ZIP_DEFLATED\n",
    "    # create the zip file first parameter path/name, second mode\n",
    "    with zipfile.ZipFile(\"result.zip\", mode=\"w\") as zf:\n",
    "        for file_name in file_names:\n",
    "            # Add file to the zip file\n",
    "            # first parameter file to zip, second filename in zip\n",
    "            zf.write('./' + file_name, file_name, compress_type=compression)\n",
    "\n",
    "imp = 'import numpy as np\\n'\n",
    "%save calc_two_loops imp + getsource(calc_two_loops)\n",
    "%save calc_one_loop imp + getsource(calc_one_loop)\n",
    "%save calc_no_loop imp + getsource(calc_no_loop)\n",
    "\n",
    "file_names = [\"calc_two_loops.py\", \"calc_one_loop.py\", \"calc_no_loop.py\",\n",
    "              \"answers.npz\", \"iris_flowers.ipynb\"]\n",
    "compress(file_names)"
   ]
  },
  {
   "cell_type": "code",
   "execution_count": null,
   "id": "41b8dbf6-223a-4ae2-8399-2afabdd0e11f",
   "metadata": {},
   "outputs": [],
   "source": []
  },
  {
   "cell_type": "code",
   "execution_count": 6,
   "id": "e65739a7-f2e8-4ddb-a09f-90391a407c04",
   "metadata": {},
   "outputs": [
    {
     "data": {
      "text/plain": [
       "array([[ 0,  1,  2,  3],\n",
       "       [ 4,  5,  6,  7],\n",
       "       [ 8,  9, 10, 11]])"
      ]
     },
     "execution_count": 6,
     "metadata": {},
     "output_type": "execute_result"
    }
   ],
   "source": [
    "left = np.arange(12).reshape((3,4))\n",
    "left"
   ]
  },
  {
   "cell_type": "code",
   "execution_count": 7,
   "id": "2a25641f-9193-401a-b91e-b85ae85cd147",
   "metadata": {},
   "outputs": [],
   "source": [
    "right = np.arange(48).reshape((12,4))"
   ]
  },
  {
   "cell_type": "code",
   "execution_count": 8,
   "id": "6dd10410-92fc-4c03-ab9e-3d72f96c7262",
   "metadata": {},
   "outputs": [
    {
     "data": {
      "text/plain": [
       "array([[ 0,  1,  2,  3],\n",
       "       [ 4,  5,  6,  7],\n",
       "       [ 8,  9, 10, 11],\n",
       "       [12, 13, 14, 15],\n",
       "       [16, 17, 18, 19],\n",
       "       [20, 21, 22, 23],\n",
       "       [24, 25, 26, 27],\n",
       "       [28, 29, 30, 31],\n",
       "       [32, 33, 34, 35],\n",
       "       [36, 37, 38, 39],\n",
       "       [40, 41, 42, 43],\n",
       "       [44, 45, 46, 47]])"
      ]
     },
     "execution_count": 8,
     "metadata": {},
     "output_type": "execute_result"
    }
   ],
   "source": [
    "right"
   ]
  },
  {
   "cell_type": "code",
   "execution_count": 9,
   "id": "6f42e0e3-6537-4537-8097-25bc6551ecd3",
   "metadata": {},
   "outputs": [
    {
     "ename": "ValueError",
     "evalue": "operands could not be broadcast together with shapes (3,4) (12,4) ",
     "output_type": "error",
     "traceback": [
      "\u001b[1;31m---------------------------------------------------------------------------\u001b[0m",
      "\u001b[1;31mValueError\u001b[0m                                Traceback (most recent call last)",
      "\u001b[1;32m<ipython-input-9-67b7c1ca55ea>\u001b[0m in \u001b[0;36m<module>\u001b[1;34m\u001b[0m\n\u001b[1;32m----> 1\u001b[1;33m \u001b[0mleft\u001b[0m \u001b[1;33m-\u001b[0m \u001b[0mright\u001b[0m\u001b[1;33m\u001b[0m\u001b[1;33m\u001b[0m\u001b[0m\n\u001b[0m",
      "\u001b[1;31mValueError\u001b[0m: operands could not be broadcast together with shapes (3,4) (12,4) "
     ]
    }
   ],
   "source": [
    "left - right"
   ]
  },
  {
   "cell_type": "code",
   "execution_count": 10,
   "id": "956ccfbc-d894-4def-8af0-edb995eec7fd",
   "metadata": {},
   "outputs": [
    {
     "data": {
      "text/plain": [
       "(12, 1, 4)"
      ]
     },
     "execution_count": 10,
     "metadata": {},
     "output_type": "execute_result"
    }
   ],
   "source": [
    "right[: , None].shape"
   ]
  },
  {
   "cell_type": "code",
   "execution_count": 13,
   "id": "9a3b49e1-0478-4a09-9217-3f116689be9a",
   "metadata": {},
   "outputs": [],
   "source": [
    "r2 = right.reshape((-1,12,4))"
   ]
  },
  {
   "cell_type": "code",
   "execution_count": 14,
   "id": "1485e0c9-5f74-4381-8335-45c4d07590d0",
   "metadata": {},
   "outputs": [
    {
     "data": {
      "text/plain": [
       "array([[[ 0,  1,  2,  3],\n",
       "        [ 4,  5,  6,  7],\n",
       "        [ 8,  9, 10, 11],\n",
       "        [12, 13, 14, 15],\n",
       "        [16, 17, 18, 19],\n",
       "        [20, 21, 22, 23],\n",
       "        [24, 25, 26, 27],\n",
       "        [28, 29, 30, 31],\n",
       "        [32, 33, 34, 35],\n",
       "        [36, 37, 38, 39],\n",
       "        [40, 41, 42, 43],\n",
       "        [44, 45, 46, 47]]])"
      ]
     },
     "execution_count": 14,
     "metadata": {},
     "output_type": "execute_result"
    }
   ],
   "source": [
    "r2"
   ]
  },
  {
   "cell_type": "code",
   "execution_count": 15,
   "id": "af5fcdc8-18e6-4c68-ae54-f17ceff2724a",
   "metadata": {},
   "outputs": [],
   "source": [
    "l2 = left.reshape((3,1,4))"
   ]
  },
  {
   "cell_type": "code",
   "execution_count": 16,
   "id": "84c91ba0-c0a9-4454-bfe8-b70988141438",
   "metadata": {},
   "outputs": [
    {
     "data": {
      "text/plain": [
       "array([[[ 0,  1,  2,  3]],\n",
       "\n",
       "       [[ 4,  5,  6,  7]],\n",
       "\n",
       "       [[ 8,  9, 10, 11]]])"
      ]
     },
     "execution_count": 16,
     "metadata": {},
     "output_type": "execute_result"
    }
   ],
   "source": [
    "l2"
   ]
  },
  {
   "cell_type": "code",
   "execution_count": 17,
   "id": "2bdc3133-64f6-416a-b9b7-e99699fdd44c",
   "metadata": {},
   "outputs": [
    {
     "ename": "ValueError",
     "evalue": "can only specify one unknown dimension",
     "output_type": "error",
     "traceback": [
      "\u001b[1;31m---------------------------------------------------------------------------\u001b[0m",
      "\u001b[1;31mValueError\u001b[0m                                Traceback (most recent call last)",
      "\u001b[1;32m<ipython-input-17-ce67a3394c02>\u001b[0m in \u001b[0;36m<module>\u001b[1;34m\u001b[0m\n\u001b[1;32m----> 1\u001b[1;33m \u001b[0ml\u001b[0m \u001b[1;33m=\u001b[0m \u001b[0mleft\u001b[0m\u001b[1;33m.\u001b[0m\u001b[0mreshape\u001b[0m\u001b[1;33m(\u001b[0m\u001b[1;33m(\u001b[0m\u001b[1;33m-\u001b[0m\u001b[1;36m1\u001b[0m\u001b[1;33m,\u001b[0m\u001b[1;33m-\u001b[0m\u001b[1;36m1\u001b[0m\u001b[1;33m,\u001b[0m\u001b[1;33m-\u001b[0m\u001b[1;36m1\u001b[0m\u001b[1;33m)\u001b[0m\u001b[1;33m)\u001b[0m\u001b[1;33m\u001b[0m\u001b[1;33m\u001b[0m\u001b[0m\n\u001b[0m",
      "\u001b[1;31mValueError\u001b[0m: can only specify one unknown dimension"
     ]
    }
   ],
   "source": [
    "l = left.reshape((-1,-1,-1))"
   ]
  },
  {
   "cell_type": "code",
   "execution_count": 20,
   "id": "c299c458-99fc-435b-9d8b-9a13431a3b82",
   "metadata": {},
   "outputs": [],
   "source": [
    " res = l2 - r2"
   ]
  },
  {
   "cell_type": "code",
   "execution_count": 21,
   "id": "cdb6e378-13b9-4340-b0fb-7f6f2c4e8d5b",
   "metadata": {},
   "outputs": [
    {
     "data": {
      "text/plain": [
       "(3, 12, 4)"
      ]
     },
     "execution_count": 21,
     "metadata": {},
     "output_type": "execute_result"
    }
   ],
   "source": [
    "res.shape"
   ]
  },
  {
   "cell_type": "code",
   "execution_count": 24,
   "id": "482e06df-2b10-4ff7-b64a-983e86aa2ef5",
   "metadata": {},
   "outputs": [],
   "source": [
    "res2 = np.sum(res , axis=2)"
   ]
  },
  {
   "cell_type": "code",
   "execution_count": 25,
   "id": "7fe65f18-cf90-4335-9488-fe93021ed9d9",
   "metadata": {},
   "outputs": [
    {
     "data": {
      "text/plain": [
       "(3, 12)"
      ]
     },
     "execution_count": 25,
     "metadata": {},
     "output_type": "execute_result"
    }
   ],
   "source": [
    "res2.shape"
   ]
  },
  {
   "cell_type": "code",
   "execution_count": 33,
   "id": "d5457f8b-db37-4db6-903c-45baaac98efd",
   "metadata": {},
   "outputs": [
    {
     "data": {
      "text/plain": [
       "(30, 120)"
      ]
     },
     "execution_count": 33,
     "metadata": {},
     "output_type": "execute_result"
    }
   ],
   "source": [
    "np.argpartition(d , 10).shape"
   ]
  },
  {
   "cell_type": "code",
   "execution_count": 41,
   "id": "db938ade-6dba-4b9f-bfd4-5416c095d05c",
   "metadata": {},
   "outputs": [],
   "source": [
    "a = np.array([1,2,3,4])\n",
    "ind = np.array([[0,2] , [1,3]])\n"
   ]
  },
  {
   "cell_type": "code",
   "execution_count": 42,
   "id": "36dd0ec7-b867-4e15-8298-1887c1743ded",
   "metadata": {},
   "outputs": [
    {
     "data": {
      "text/plain": [
       "array([[1, 3],\n",
       "       [2, 4]])"
      ]
     },
     "execution_count": 42,
     "metadata": {},
     "output_type": "execute_result"
    }
   ],
   "source": [
    "a[ind]"
   ]
  },
  {
   "cell_type": "code",
   "execution_count": 40,
   "id": "33fd1845-b6e8-436f-9ac1-c7b14ac15a61",
   "metadata": {},
   "outputs": [
    {
     "data": {
      "text/plain": [
       "array([[[1, 3],\n",
       "        [2, 4]]])"
      ]
     },
     "execution_count": 40,
     "metadata": {},
     "output_type": "execute_result"
    }
   ],
   "source": [
    "a.reshape((1,4))[: , ind]"
   ]
  },
  {
   "cell_type": "code",
   "execution_count": null,
   "id": "cf095824-5464-41fc-86df-8c26e3d335d0",
   "metadata": {},
   "outputs": [],
   "source": []
  }
 ],
 "metadata": {
  "interpreter": {
   "hash": "a1a46404003b1888471f66733c8ff43ecbbd22069e04669a0d47e7a2f84d0bb4"
  },
  "kernelspec": {
   "display_name": "Python 3",
   "language": "python",
   "name": "python3"
  },
  "language_info": {
   "codemirror_mode": {
    "name": "ipython",
    "version": 3
   },
   "file_extension": ".py",
   "mimetype": "text/x-python",
   "name": "python",
   "nbconvert_exporter": "python",
   "pygments_lexer": "ipython3",
   "version": "3.9.5"
  }
 },
 "nbformat": 4,
 "nbformat_minor": 5
}
