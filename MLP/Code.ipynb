{
 "cells": [
  {
   "attachments": {},
   "cell_type": "markdown",
   "metadata": {},
   "source": [
    "## Import Necessary Libraries"
   ]
  },
  {
   "cell_type": "code",
   "execution_count": 3,
   "metadata": {},
   "outputs": [],
   "source": [
    "import numpy as np\n",
    "import pandas as pd\n",
    "import plotly.express as px"
   ]
  },
  {
   "attachments": {},
   "cell_type": "markdown",
   "metadata": {},
   "source": [
    "## Activation Functions `ReLU` and `Softmax`"
   ]
  },
  {
   "cell_type": "code",
   "execution_count": 4,
   "metadata": {},
   "outputs": [],
   "source": [
    "class ReLU:\n",
    "\n",
    "    def __init__(self):\n",
    "        self.state = None\n",
    "\n",
    "    def forward(self, x):\n",
    "        forward = np.where(x < 0, 0, x)\n",
    "        self.state = forward\n",
    "        return forward\n",
    "\n",
    "    def derivative(self):\n",
    "        derivative = np.where(self.state < 0, 0, 1)\n",
    "        return derivative\n",
    "    \n",
    "    def __call__(self, x):\n",
    "        return self.forward(x)\n",
    "    \n",
    "    \n",
    "class Softmax:\n",
    "    \n",
    "    def __init__(self):\n",
    "        self.state = None\n",
    "    \n",
    "    def forward(self, z):\n",
    "        return np.exp(z) / np.sum(np.exp(z), axis=1, keepdims=True)\n",
    "    \n",
    "    def __call__(self, z):\n",
    "        return self.forward(z)\n",
    "        "
   ]
  },
  {
   "attachments": {},
   "cell_type": "markdown",
   "metadata": {},
   "source": [
    "## `Layer` is implementing a Linear Layer"
   ]
  },
  {
   "cell_type": "code",
   "execution_count": 5,
   "metadata": {},
   "outputs": [],
   "source": [
    "class Layer:\n",
    "\n",
    "    def init_weights(self):\n",
    "        self.w = np.random.normal(self.mu, self.std, size=(self.out_features, self.in_features))\n",
    "        self.b = np.random.normal(self.mu, self.std, size=(1, self.out_features))\n",
    "\n",
    "\n",
    "    def __init__(self, in_features, out_features, mu=0):\n",
    "        self.in_features = in_features\n",
    "        self.out_features = out_features\n",
    "        self.std = np.sqrt(2/self.in_features)\n",
    "        self.mu = mu\n",
    "        self.init_weights()\n",
    "\n",
    "    def forward(self, x):\n",
    "        self.x = x\n",
    "        self.batch_size = x.shape[0]\n",
    "        z = np.dot(x, self.w.T) + self.b\n",
    "        return z\n",
    "    \n",
    "    def backward(self, gradient, lamda):\n",
    "        self.dw = (np.dot(gradient.T, self.x) / self.batch_size) + lamda * self.w\n",
    "        self.db = np.sum(gradient, axis=0, keepdims=True) / self.batch_size\n",
    "        dx = np.dot(gradient, self.w)\n",
    "        return dx\n",
    "    \n",
    "    def step(self, lr):\n",
    "        self.w += -1 * (lr * self.dw)\n",
    "        self.b += -1 * (lr * self.db)\n",
    "\n",
    "    \n"
   ]
  },
  {
   "attachments": {},
   "cell_type": "markdown",
   "metadata": {},
   "source": [
    "## Define Cost Function `Cross Entropy`"
   ]
  },
  {
   "cell_type": "code",
   "execution_count": 6,
   "metadata": {},
   "outputs": [],
   "source": [
    "class CrossEntropy:\n",
    "\n",
    "    def derivative(self, output, labels):\n",
    "        return output - labels\n",
    "    \n",
    "    def compute_cost(self, y, output, layers, lamda):\n",
    "        cross = -1 * np.mean(np.sum(y * np.log(output), axis=1))\n",
    "        L2_reg = 0\n",
    "        for i in range(len(layers)):\n",
    "            L2_reg += np.sum(layers[i].w ** 2)\n",
    "        return cross + (lamda /(2 * len(y))) * L2_reg"
   ]
  },
  {
   "attachments": {},
   "cell_type": "markdown",
   "metadata": {},
   "source": [
    "## Implementation of MLP"
   ]
  },
  {
   "cell_type": "code",
   "execution_count": 29,
   "metadata": {},
   "outputs": [],
   "source": [
    "class MLP:\n",
    "\n",
    "\n",
    "    def initialize_layers(self):\n",
    "        self.linear_layers = []\n",
    "        for k in range(self.n_layers):\n",
    "            in_features, out_features = self.layer_dims[k]\n",
    "            self.linear_layers.append(Layer(in_features, out_features))\n",
    "\n",
    "\n",
    "    def __init__(self, layer_dims:list, activations:list, lr:int, criterion, lamda:int):\n",
    "        self.layer_dims = layer_dims\n",
    "        self.n_layers = len(layer_dims)\n",
    "        self.activations = activations\n",
    "        self.lr = lr\n",
    "        self.criterion = criterion\n",
    "        self.lamda = lamda\n",
    "        self.output = None\n",
    "        self.initialize_layers()\n",
    "\n",
    "    def forward(self, x):\n",
    "        forward_input = x\n",
    "        for k in range(self.n_layers):\n",
    "            output = self.linear_layers[k].forward(forward_input)\n",
    "            output = self.activations[k](output)\n",
    "            forward_input = output \n",
    "        return output\n",
    "\n",
    "   \n",
    "    def backward(self, output, labels, lamda):\n",
    "        global_derivative = self.criterion.derivative(output, labels)\n",
    "        for k in reversed(range(len(self.linear_layers))):\n",
    "            if k < self.n_layers-1:\n",
    "                global_derivative *=  self.activations[k].derivative()\n",
    "            linear_backward = self.linear_layers[k].backward(global_derivative, lamda)\n",
    "            global_derivative = linear_backward\n",
    "        return global_derivative\n",
    "    \n",
    "    def step(self):\n",
    "        for layer in self.linear_layers:\n",
    "            layer.step(self.lr)\n",
    "    \n",
    "    \n",
    "    def fit(self, batches, epoch, x_val, y_val, Print=True):\n",
    "        batch_mean_costs = []\n",
    "        validation_costs = []\n",
    "        for epoch_no in range(epoch):\n",
    "            batch_costs = []\n",
    "            for x_batch, y_batch in batches:\n",
    "                output = self.forward(x_batch)\n",
    "                cost = self.criterion.compute_cost(y_batch, output, self.linear_layers, self.lamda)\n",
    "                self.backward(output, y_batch, self.lamda)\n",
    "                self.step()\n",
    "                batch_costs.append(cost)\n",
    "            y_val_pred = self.forward(x_val)\n",
    "            val_cost = self.criterion.compute_cost(y_val, y_val_pred, self.linear_layers, self.lamda)\n",
    "            batch_mean_costs.append(np.mean(batch_costs))\n",
    "            validation_costs.append(val_cost)\n",
    "            if Print:\n",
    "                print(f'train cost in epoch {epoch_no} is : {np.mean(batch_costs)}, ------ , valid cost : {val_cost}')\n",
    "        return batch_mean_costs, validation_costs\n",
    "    \n",
    "    def predict(self, x):\n",
    "        return np.argmax(self.forward(x), axis=1)\n",
    "\n",
    "    def total_loss(self, labels):\n",
    "        return self.criterion(self.output, labels).sum()\n",
    "\n",
    "    def __call__(self, x):\n",
    "        return self.forward(x)\n"
   ]
  },
  {
   "attachments": {},
   "cell_type": "markdown",
   "metadata": {},
   "source": [
    "## Functions to PreProcess the Data"
   ]
  },
  {
   "cell_type": "code",
   "execution_count": 14,
   "metadata": {},
   "outputs": [],
   "source": [
    "def split_batch(x, y, batch_size):\n",
    "    dt = np.concatenate([x, y] , axis=1)\n",
    "    np.random.shuffle(dt)\n",
    "    length = len(dt) // batch_size\n",
    "    batches = []\n",
    "    for batch_n in range(length):\n",
    "        row_start, row_end = batch_n * batch_size, (batch_n + 1) * batch_size\n",
    "        x_batch, y_batch = dt[row_start:row_end, :-10], dt[row_start:row_end, -10:]\n",
    "        batches.append((x_batch, y_batch))\n",
    "    return batches"
   ]
  },
  {
   "cell_type": "code",
   "execution_count": 15,
   "metadata": {},
   "outputs": [],
   "source": [
    "def one_hot_encode(label):\n",
    "    label = label.astype(int)\n",
    "    result = np.zeros(shape=(len(label), 10))\n",
    "    for i in range(len(label)):\n",
    "        result[i, label[i,0]] = 1\n",
    "    return result"
   ]
  },
  {
   "attachments": {},
   "cell_type": "markdown",
   "metadata": {},
   "source": [
    "## Read and PreProcess the DataSet"
   ]
  },
  {
   "cell_type": "code",
   "execution_count": 16,
   "metadata": {},
   "outputs": [],
   "source": [
    "with open('MNIST/train.npy', 'rb') as f:\n",
    "    x_train = np.load(f, allow_pickle=True)\n",
    "    y_train = np.load(f, allow_pickle=True).reshape((-1,1)).astype(int)\n",
    "    \n",
    "with open('MNIST/val.npy', 'rb') as f:\n",
    "    x_val = np.load(f, allow_pickle=True)\n",
    "    y_val = np.load(f, allow_pickle=True).reshape((-1,1)).astype(int)\n",
    "    \n",
    "with open('MNIST/test.npy', 'rb') as f:\n",
    "    x_test = np.load(f, allow_pickle=True)\n",
    "    y_test = np.load(f, allow_pickle=True)"
   ]
  },
  {
   "cell_type": "code",
   "execution_count": 17,
   "metadata": {},
   "outputs": [],
   "source": [
    "x_train = x_train / 255\n",
    "x_val = x_val / 255\n",
    "x_test = x_test / 255"
   ]
  },
  {
   "cell_type": "code",
   "execution_count": 18,
   "metadata": {},
   "outputs": [],
   "source": [
    "y_train = one_hot_encode(y_train)\n",
    "y_val = one_hot_encode(y_val)"
   ]
  },
  {
   "attachments": {},
   "cell_type": "markdown",
   "metadata": {},
   "source": [
    "## Define The Network and Run it"
   ]
  },
  {
   "cell_type": "code",
   "execution_count": 19,
   "metadata": {},
   "outputs": [
    {
     "name": "stdout",
     "output_type": "stream",
     "text": [
      "train cost in epoch 0 is : 0.8544293475629804, ------ , valid cost : 0.5845370626222814\n",
      "train cost in epoch 1 is : 0.5954809953620532, ------ , valid cost : 0.5140353723413784\n",
      "train cost in epoch 2 is : 0.542572069113794, ------ , valid cost : 0.4923875334361744\n",
      "train cost in epoch 3 is : 0.5188174245406463, ------ , valid cost : 0.4807585996301968\n",
      "train cost in epoch 4 is : 0.5048924286478808, ------ , valid cost : 0.47336279640513745\n",
      "train cost in epoch 5 is : 0.4960173907179948, ------ , valid cost : 0.4691195753346706\n",
      "train cost in epoch 6 is : 0.4901874544995113, ------ , valid cost : 0.46690305674433735\n",
      "train cost in epoch 7 is : 0.4862095231510532, ------ , valid cost : 0.4655901410120334\n",
      "train cost in epoch 8 is : 0.483595929557341, ------ , valid cost : 0.46505925305641244\n",
      "train cost in epoch 9 is : 0.4819777488033443, ------ , valid cost : 0.46530217393886203\n",
      "train cost in epoch 10 is : 0.4810544139094572, ------ , valid cost : 0.4659194168401588\n",
      "train cost in epoch 11 is : 0.4807554639283392, ------ , valid cost : 0.4668599000129769\n",
      "train cost in epoch 12 is : 0.4810152808811349, ------ , valid cost : 0.4680705206053122\n",
      "train cost in epoch 13 is : 0.4816645171302362, ------ , valid cost : 0.46941930233379087\n",
      "train cost in epoch 14 is : 0.48262201652837095, ------ , valid cost : 0.4709403735132065\n"
     ]
    }
   ],
   "source": [
    "np.random.seed(42)\n",
    "layers_dim = [(784, 32), (32, 32), (32, 32),(32, 10)]\n",
    "activations = [ReLU(), ReLU(), ReLU(), Softmax()]\n",
    "criterion = CrossEntropy()\n",
    "m = MLP(layers_dim, activations, 0.01, criterion, 0.01)\n",
    "batches = split_batch(x_train, y_train, 32)\n",
    "train_hiss, valid_hiss = m.fit(batches, 15, x_val, y_val)"
   ]
  },
  {
   "cell_type": "code",
   "execution_count": 20,
   "metadata": {},
   "outputs": [
    {
     "data": {
      "application/vnd.plotly.v1+json": {
       "config": {
        "plotlyServerURL": "https://plot.ly"
       },
       "data": [
        {
         "hovertemplate": "x=%{x}<br>y=%{y}<extra></extra>",
         "legendgroup": "",
         "line": {
          "color": "#636efa",
          "dash": "solid"
         },
         "marker": {
          "symbol": "circle"
         },
         "mode": "lines",
         "name": "",
         "orientation": "v",
         "showlegend": false,
         "type": "scatter",
         "x": [
          0,
          1,
          2,
          3,
          4,
          5,
          6,
          7,
          8,
          9,
          10,
          11,
          12,
          13,
          14
         ],
         "xaxis": "x",
         "y": [
          0.8544293475629804,
          0.5954809953620532,
          0.542572069113794,
          0.5188174245406463,
          0.5048924286478808,
          0.4960173907179948,
          0.4901874544995113,
          0.4862095231510532,
          0.483595929557341,
          0.4819777488033443,
          0.4810544139094572,
          0.4807554639283392,
          0.4810152808811349,
          0.4816645171302362,
          0.48262201652837095
         ],
         "yaxis": "y"
        },
        {
         "name": "Validation",
         "type": "scatter",
         "x": [
          0,
          1,
          2,
          3,
          4,
          5,
          6,
          7,
          8,
          9,
          10,
          11,
          12,
          13,
          14
         ],
         "y": [
          0.5845370626222814,
          0.5140353723413784,
          0.4923875334361744,
          0.4807585996301968,
          0.47336279640513745,
          0.4691195753346706,
          0.46690305674433735,
          0.4655901410120334,
          0.46505925305641244,
          0.46530217393886203,
          0.4659194168401588,
          0.4668599000129769,
          0.4680705206053122,
          0.46941930233379087,
          0.4709403735132065
         ]
        }
       ],
       "layout": {
        "legend": {
         "tracegroupgap": 0
        },
        "template": {
         "data": {
          "bar": [
           {
            "error_x": {
             "color": "#2a3f5f"
            },
            "error_y": {
             "color": "#2a3f5f"
            },
            "marker": {
             "line": {
              "color": "#E5ECF6",
              "width": 0.5
             },
             "pattern": {
              "fillmode": "overlay",
              "size": 10,
              "solidity": 0.2
             }
            },
            "type": "bar"
           }
          ],
          "barpolar": [
           {
            "marker": {
             "line": {
              "color": "#E5ECF6",
              "width": 0.5
             },
             "pattern": {
              "fillmode": "overlay",
              "size": 10,
              "solidity": 0.2
             }
            },
            "type": "barpolar"
           }
          ],
          "carpet": [
           {
            "aaxis": {
             "endlinecolor": "#2a3f5f",
             "gridcolor": "white",
             "linecolor": "white",
             "minorgridcolor": "white",
             "startlinecolor": "#2a3f5f"
            },
            "baxis": {
             "endlinecolor": "#2a3f5f",
             "gridcolor": "white",
             "linecolor": "white",
             "minorgridcolor": "white",
             "startlinecolor": "#2a3f5f"
            },
            "type": "carpet"
           }
          ],
          "choropleth": [
           {
            "colorbar": {
             "outlinewidth": 0,
             "ticks": ""
            },
            "type": "choropleth"
           }
          ],
          "contour": [
           {
            "colorbar": {
             "outlinewidth": 0,
             "ticks": ""
            },
            "colorscale": [
             [
              0,
              "#0d0887"
             ],
             [
              0.1111111111111111,
              "#46039f"
             ],
             [
              0.2222222222222222,
              "#7201a8"
             ],
             [
              0.3333333333333333,
              "#9c179e"
             ],
             [
              0.4444444444444444,
              "#bd3786"
             ],
             [
              0.5555555555555556,
              "#d8576b"
             ],
             [
              0.6666666666666666,
              "#ed7953"
             ],
             [
              0.7777777777777778,
              "#fb9f3a"
             ],
             [
              0.8888888888888888,
              "#fdca26"
             ],
             [
              1,
              "#f0f921"
             ]
            ],
            "type": "contour"
           }
          ],
          "contourcarpet": [
           {
            "colorbar": {
             "outlinewidth": 0,
             "ticks": ""
            },
            "type": "contourcarpet"
           }
          ],
          "heatmap": [
           {
            "colorbar": {
             "outlinewidth": 0,
             "ticks": ""
            },
            "colorscale": [
             [
              0,
              "#0d0887"
             ],
             [
              0.1111111111111111,
              "#46039f"
             ],
             [
              0.2222222222222222,
              "#7201a8"
             ],
             [
              0.3333333333333333,
              "#9c179e"
             ],
             [
              0.4444444444444444,
              "#bd3786"
             ],
             [
              0.5555555555555556,
              "#d8576b"
             ],
             [
              0.6666666666666666,
              "#ed7953"
             ],
             [
              0.7777777777777778,
              "#fb9f3a"
             ],
             [
              0.8888888888888888,
              "#fdca26"
             ],
             [
              1,
              "#f0f921"
             ]
            ],
            "type": "heatmap"
           }
          ],
          "heatmapgl": [
           {
            "colorbar": {
             "outlinewidth": 0,
             "ticks": ""
            },
            "colorscale": [
             [
              0,
              "#0d0887"
             ],
             [
              0.1111111111111111,
              "#46039f"
             ],
             [
              0.2222222222222222,
              "#7201a8"
             ],
             [
              0.3333333333333333,
              "#9c179e"
             ],
             [
              0.4444444444444444,
              "#bd3786"
             ],
             [
              0.5555555555555556,
              "#d8576b"
             ],
             [
              0.6666666666666666,
              "#ed7953"
             ],
             [
              0.7777777777777778,
              "#fb9f3a"
             ],
             [
              0.8888888888888888,
              "#fdca26"
             ],
             [
              1,
              "#f0f921"
             ]
            ],
            "type": "heatmapgl"
           }
          ],
          "histogram": [
           {
            "marker": {
             "pattern": {
              "fillmode": "overlay",
              "size": 10,
              "solidity": 0.2
             }
            },
            "type": "histogram"
           }
          ],
          "histogram2d": [
           {
            "colorbar": {
             "outlinewidth": 0,
             "ticks": ""
            },
            "colorscale": [
             [
              0,
              "#0d0887"
             ],
             [
              0.1111111111111111,
              "#46039f"
             ],
             [
              0.2222222222222222,
              "#7201a8"
             ],
             [
              0.3333333333333333,
              "#9c179e"
             ],
             [
              0.4444444444444444,
              "#bd3786"
             ],
             [
              0.5555555555555556,
              "#d8576b"
             ],
             [
              0.6666666666666666,
              "#ed7953"
             ],
             [
              0.7777777777777778,
              "#fb9f3a"
             ],
             [
              0.8888888888888888,
              "#fdca26"
             ],
             [
              1,
              "#f0f921"
             ]
            ],
            "type": "histogram2d"
           }
          ],
          "histogram2dcontour": [
           {
            "colorbar": {
             "outlinewidth": 0,
             "ticks": ""
            },
            "colorscale": [
             [
              0,
              "#0d0887"
             ],
             [
              0.1111111111111111,
              "#46039f"
             ],
             [
              0.2222222222222222,
              "#7201a8"
             ],
             [
              0.3333333333333333,
              "#9c179e"
             ],
             [
              0.4444444444444444,
              "#bd3786"
             ],
             [
              0.5555555555555556,
              "#d8576b"
             ],
             [
              0.6666666666666666,
              "#ed7953"
             ],
             [
              0.7777777777777778,
              "#fb9f3a"
             ],
             [
              0.8888888888888888,
              "#fdca26"
             ],
             [
              1,
              "#f0f921"
             ]
            ],
            "type": "histogram2dcontour"
           }
          ],
          "mesh3d": [
           {
            "colorbar": {
             "outlinewidth": 0,
             "ticks": ""
            },
            "type": "mesh3d"
           }
          ],
          "parcoords": [
           {
            "line": {
             "colorbar": {
              "outlinewidth": 0,
              "ticks": ""
             }
            },
            "type": "parcoords"
           }
          ],
          "pie": [
           {
            "automargin": true,
            "type": "pie"
           }
          ],
          "scatter": [
           {
            "fillpattern": {
             "fillmode": "overlay",
             "size": 10,
             "solidity": 0.2
            },
            "type": "scatter"
           }
          ],
          "scatter3d": [
           {
            "line": {
             "colorbar": {
              "outlinewidth": 0,
              "ticks": ""
             }
            },
            "marker": {
             "colorbar": {
              "outlinewidth": 0,
              "ticks": ""
             }
            },
            "type": "scatter3d"
           }
          ],
          "scattercarpet": [
           {
            "marker": {
             "colorbar": {
              "outlinewidth": 0,
              "ticks": ""
             }
            },
            "type": "scattercarpet"
           }
          ],
          "scattergeo": [
           {
            "marker": {
             "colorbar": {
              "outlinewidth": 0,
              "ticks": ""
             }
            },
            "type": "scattergeo"
           }
          ],
          "scattergl": [
           {
            "marker": {
             "colorbar": {
              "outlinewidth": 0,
              "ticks": ""
             }
            },
            "type": "scattergl"
           }
          ],
          "scattermapbox": [
           {
            "marker": {
             "colorbar": {
              "outlinewidth": 0,
              "ticks": ""
             }
            },
            "type": "scattermapbox"
           }
          ],
          "scatterpolar": [
           {
            "marker": {
             "colorbar": {
              "outlinewidth": 0,
              "ticks": ""
             }
            },
            "type": "scatterpolar"
           }
          ],
          "scatterpolargl": [
           {
            "marker": {
             "colorbar": {
              "outlinewidth": 0,
              "ticks": ""
             }
            },
            "type": "scatterpolargl"
           }
          ],
          "scatterternary": [
           {
            "marker": {
             "colorbar": {
              "outlinewidth": 0,
              "ticks": ""
             }
            },
            "type": "scatterternary"
           }
          ],
          "surface": [
           {
            "colorbar": {
             "outlinewidth": 0,
             "ticks": ""
            },
            "colorscale": [
             [
              0,
              "#0d0887"
             ],
             [
              0.1111111111111111,
              "#46039f"
             ],
             [
              0.2222222222222222,
              "#7201a8"
             ],
             [
              0.3333333333333333,
              "#9c179e"
             ],
             [
              0.4444444444444444,
              "#bd3786"
             ],
             [
              0.5555555555555556,
              "#d8576b"
             ],
             [
              0.6666666666666666,
              "#ed7953"
             ],
             [
              0.7777777777777778,
              "#fb9f3a"
             ],
             [
              0.8888888888888888,
              "#fdca26"
             ],
             [
              1,
              "#f0f921"
             ]
            ],
            "type": "surface"
           }
          ],
          "table": [
           {
            "cells": {
             "fill": {
              "color": "#EBF0F8"
             },
             "line": {
              "color": "white"
             }
            },
            "header": {
             "fill": {
              "color": "#C8D4E3"
             },
             "line": {
              "color": "white"
             }
            },
            "type": "table"
           }
          ]
         },
         "layout": {
          "annotationdefaults": {
           "arrowcolor": "#2a3f5f",
           "arrowhead": 0,
           "arrowwidth": 1
          },
          "autotypenumbers": "strict",
          "coloraxis": {
           "colorbar": {
            "outlinewidth": 0,
            "ticks": ""
           }
          },
          "colorscale": {
           "diverging": [
            [
             0,
             "#8e0152"
            ],
            [
             0.1,
             "#c51b7d"
            ],
            [
             0.2,
             "#de77ae"
            ],
            [
             0.3,
             "#f1b6da"
            ],
            [
             0.4,
             "#fde0ef"
            ],
            [
             0.5,
             "#f7f7f7"
            ],
            [
             0.6,
             "#e6f5d0"
            ],
            [
             0.7,
             "#b8e186"
            ],
            [
             0.8,
             "#7fbc41"
            ],
            [
             0.9,
             "#4d9221"
            ],
            [
             1,
             "#276419"
            ]
           ],
           "sequential": [
            [
             0,
             "#0d0887"
            ],
            [
             0.1111111111111111,
             "#46039f"
            ],
            [
             0.2222222222222222,
             "#7201a8"
            ],
            [
             0.3333333333333333,
             "#9c179e"
            ],
            [
             0.4444444444444444,
             "#bd3786"
            ],
            [
             0.5555555555555556,
             "#d8576b"
            ],
            [
             0.6666666666666666,
             "#ed7953"
            ],
            [
             0.7777777777777778,
             "#fb9f3a"
            ],
            [
             0.8888888888888888,
             "#fdca26"
            ],
            [
             1,
             "#f0f921"
            ]
           ],
           "sequentialminus": [
            [
             0,
             "#0d0887"
            ],
            [
             0.1111111111111111,
             "#46039f"
            ],
            [
             0.2222222222222222,
             "#7201a8"
            ],
            [
             0.3333333333333333,
             "#9c179e"
            ],
            [
             0.4444444444444444,
             "#bd3786"
            ],
            [
             0.5555555555555556,
             "#d8576b"
            ],
            [
             0.6666666666666666,
             "#ed7953"
            ],
            [
             0.7777777777777778,
             "#fb9f3a"
            ],
            [
             0.8888888888888888,
             "#fdca26"
            ],
            [
             1,
             "#f0f921"
            ]
           ]
          },
          "colorway": [
           "#636efa",
           "#EF553B",
           "#00cc96",
           "#ab63fa",
           "#FFA15A",
           "#19d3f3",
           "#FF6692",
           "#B6E880",
           "#FF97FF",
           "#FECB52"
          ],
          "font": {
           "color": "#2a3f5f"
          },
          "geo": {
           "bgcolor": "white",
           "lakecolor": "white",
           "landcolor": "#E5ECF6",
           "showlakes": true,
           "showland": true,
           "subunitcolor": "white"
          },
          "hoverlabel": {
           "align": "left"
          },
          "hovermode": "closest",
          "mapbox": {
           "style": "light"
          },
          "paper_bgcolor": "white",
          "plot_bgcolor": "#E5ECF6",
          "polar": {
           "angularaxis": {
            "gridcolor": "white",
            "linecolor": "white",
            "ticks": ""
           },
           "bgcolor": "#E5ECF6",
           "radialaxis": {
            "gridcolor": "white",
            "linecolor": "white",
            "ticks": ""
           }
          },
          "scene": {
           "xaxis": {
            "backgroundcolor": "#E5ECF6",
            "gridcolor": "white",
            "gridwidth": 2,
            "linecolor": "white",
            "showbackground": true,
            "ticks": "",
            "zerolinecolor": "white"
           },
           "yaxis": {
            "backgroundcolor": "#E5ECF6",
            "gridcolor": "white",
            "gridwidth": 2,
            "linecolor": "white",
            "showbackground": true,
            "ticks": "",
            "zerolinecolor": "white"
           },
           "zaxis": {
            "backgroundcolor": "#E5ECF6",
            "gridcolor": "white",
            "gridwidth": 2,
            "linecolor": "white",
            "showbackground": true,
            "ticks": "",
            "zerolinecolor": "white"
           }
          },
          "shapedefaults": {
           "line": {
            "color": "#2a3f5f"
           }
          },
          "ternary": {
           "aaxis": {
            "gridcolor": "white",
            "linecolor": "white",
            "ticks": ""
           },
           "baxis": {
            "gridcolor": "white",
            "linecolor": "white",
            "ticks": ""
           },
           "bgcolor": "#E5ECF6",
           "caxis": {
            "gridcolor": "white",
            "linecolor": "white",
            "ticks": ""
           }
          },
          "title": {
           "x": 0.05
          },
          "xaxis": {
           "automargin": true,
           "gridcolor": "white",
           "linecolor": "white",
           "ticks": "",
           "title": {
            "standoff": 15
           },
           "zerolinecolor": "white",
           "zerolinewidth": 2
          },
          "yaxis": {
           "automargin": true,
           "gridcolor": "white",
           "linecolor": "white",
           "ticks": "",
           "title": {
            "standoff": 15
           },
           "zerolinecolor": "white",
           "zerolinewidth": 2
          }
         }
        },
        "title": {
         "text": "Cost of model in train and validation set"
        },
        "xaxis": {
         "anchor": "y",
         "domain": [
          0,
          1
         ],
         "title": {
          "text": "Epoch"
         }
        },
        "yaxis": {
         "anchor": "x",
         "domain": [
          0,
          1
         ],
         "title": {
          "text": "Cost"
         }
        }
       }
      }
     },
     "metadata": {},
     "output_type": "display_data"
    }
   ],
   "source": [
    "fig = px.line(x=list(range(15)), y=train_hiss, title='Cost of model in train and validation set')\n",
    "fig.add_scatter(x=list(range(15)), y=valid_hiss, name='Validation').update_layout(xaxis_title='Epoch' , yaxis_title=\"Cost\")"
   ]
  },
  {
   "attachments": {},
   "cell_type": "markdown",
   "metadata": {},
   "source": [
    "## Tune the Hyperparameters"
   ]
  },
  {
   "cell_type": "code",
   "execution_count": 22,
   "metadata": {},
   "outputs": [
    {
     "name": "stderr",
     "output_type": "stream",
     "text": [
      "/var/folders/1d/nqf6rgrn6_vb61brn3hyc4t40000gn/T/ipykernel_25689/426977731.py:25: RuntimeWarning:\n",
      "\n",
      "overflow encountered in exp\n",
      "\n",
      "/var/folders/1d/nqf6rgrn6_vb61brn3hyc4t40000gn/T/ipykernel_25689/426977731.py:25: RuntimeWarning:\n",
      "\n",
      "invalid value encountered in divide\n",
      "\n",
      "/var/folders/1d/nqf6rgrn6_vb61brn3hyc4t40000gn/T/ipykernel_25689/3213030139.py:7: RuntimeWarning:\n",
      "\n",
      "divide by zero encountered in log\n",
      "\n",
      "/var/folders/1d/nqf6rgrn6_vb61brn3hyc4t40000gn/T/ipykernel_25689/3213030139.py:7: RuntimeWarning:\n",
      "\n",
      "invalid value encountered in multiply\n",
      "\n"
     ]
    }
   ],
   "source": [
    "lr_values = [0.01, 0.03, 0.1]\n",
    "lamda_values = [0.01, 0.03, 0.1, 0.3]\n",
    "train_dict, valid_dict = {}, {}\n",
    "for lr in lr_values:\n",
    "    for lamda in lamda_values:\n",
    "        layers_dim = [(784, 32), (32, 32), (32, 32),(32, 10)]\n",
    "        activations = [ReLU(), ReLU(), ReLU(), Softmax()]\n",
    "        criterion = CrossEntropy()\n",
    "        m = MLP(layers_dim, activations, lr, criterion, lamda)\n",
    "        batches = split_batch(x_train, y_train, 32)\n",
    "        train_hiss, valid_hiss = m.fit(batches, 15, x_val, y_val, Print=False)\n",
    "        train_dict[f\"lr:{lr},lamda:{lamda}\"] = train_hiss\n",
    "        valid_dict[f'lr:{lr},lamda:{lamda}'] = valid_hiss"
   ]
  },
  {
   "cell_type": "code",
   "execution_count": 23,
   "metadata": {},
   "outputs": [
    {
     "data": {
      "application/vnd.plotly.v1+json": {
       "config": {
        "plotlyServerURL": "https://plot.ly"
       },
       "data": [
        {
         "alignmentgroup": "True",
         "hovertemplate": "variable=%{x}<br>value=%{y}<extra></extra>",
         "legendgroup": "",
         "marker": {
          "color": "#636efa"
         },
         "name": "",
         "notched": false,
         "offsetgroup": "",
         "orientation": "v",
         "showlegend": false,
         "type": "box",
         "x": [
          "lr:0.01,lamda:0.01",
          "lr:0.01,lamda:0.01",
          "lr:0.01,lamda:0.01",
          "lr:0.01,lamda:0.01",
          "lr:0.01,lamda:0.01",
          "lr:0.01,lamda:0.01",
          "lr:0.01,lamda:0.01",
          "lr:0.01,lamda:0.01",
          "lr:0.01,lamda:0.01",
          "lr:0.01,lamda:0.01",
          "lr:0.01,lamda:0.01",
          "lr:0.01,lamda:0.01",
          "lr:0.01,lamda:0.01",
          "lr:0.01,lamda:0.01",
          "lr:0.01,lamda:0.01",
          "lr:0.01,lamda:0.03",
          "lr:0.01,lamda:0.03",
          "lr:0.01,lamda:0.03",
          "lr:0.01,lamda:0.03",
          "lr:0.01,lamda:0.03",
          "lr:0.01,lamda:0.03",
          "lr:0.01,lamda:0.03",
          "lr:0.01,lamda:0.03",
          "lr:0.01,lamda:0.03",
          "lr:0.01,lamda:0.03",
          "lr:0.01,lamda:0.03",
          "lr:0.01,lamda:0.03",
          "lr:0.01,lamda:0.03",
          "lr:0.01,lamda:0.03",
          "lr:0.01,lamda:0.03",
          "lr:0.01,lamda:0.1",
          "lr:0.01,lamda:0.1",
          "lr:0.01,lamda:0.1",
          "lr:0.01,lamda:0.1",
          "lr:0.01,lamda:0.1",
          "lr:0.01,lamda:0.1",
          "lr:0.01,lamda:0.1",
          "lr:0.01,lamda:0.1",
          "lr:0.01,lamda:0.1",
          "lr:0.01,lamda:0.1",
          "lr:0.01,lamda:0.1",
          "lr:0.01,lamda:0.1",
          "lr:0.01,lamda:0.1",
          "lr:0.01,lamda:0.1",
          "lr:0.01,lamda:0.1",
          "lr:0.01,lamda:0.3",
          "lr:0.01,lamda:0.3",
          "lr:0.01,lamda:0.3",
          "lr:0.01,lamda:0.3",
          "lr:0.01,lamda:0.3",
          "lr:0.01,lamda:0.3",
          "lr:0.01,lamda:0.3",
          "lr:0.01,lamda:0.3",
          "lr:0.01,lamda:0.3",
          "lr:0.01,lamda:0.3",
          "lr:0.01,lamda:0.3",
          "lr:0.01,lamda:0.3",
          "lr:0.01,lamda:0.3",
          "lr:0.01,lamda:0.3",
          "lr:0.01,lamda:0.3",
          "lr:0.03,lamda:0.01",
          "lr:0.03,lamda:0.01",
          "lr:0.03,lamda:0.01",
          "lr:0.03,lamda:0.01",
          "lr:0.03,lamda:0.01",
          "lr:0.03,lamda:0.01",
          "lr:0.03,lamda:0.01",
          "lr:0.03,lamda:0.01",
          "lr:0.03,lamda:0.01",
          "lr:0.03,lamda:0.01",
          "lr:0.03,lamda:0.01",
          "lr:0.03,lamda:0.01",
          "lr:0.03,lamda:0.01",
          "lr:0.03,lamda:0.01",
          "lr:0.03,lamda:0.01",
          "lr:0.03,lamda:0.03",
          "lr:0.03,lamda:0.03",
          "lr:0.03,lamda:0.03",
          "lr:0.03,lamda:0.03",
          "lr:0.03,lamda:0.03",
          "lr:0.03,lamda:0.03",
          "lr:0.03,lamda:0.03",
          "lr:0.03,lamda:0.03",
          "lr:0.03,lamda:0.03",
          "lr:0.03,lamda:0.03",
          "lr:0.03,lamda:0.03",
          "lr:0.03,lamda:0.03",
          "lr:0.03,lamda:0.03",
          "lr:0.03,lamda:0.03",
          "lr:0.03,lamda:0.03",
          "lr:0.03,lamda:0.1",
          "lr:0.03,lamda:0.1",
          "lr:0.03,lamda:0.1",
          "lr:0.03,lamda:0.1",
          "lr:0.03,lamda:0.1",
          "lr:0.03,lamda:0.1",
          "lr:0.03,lamda:0.1",
          "lr:0.03,lamda:0.1",
          "lr:0.03,lamda:0.1",
          "lr:0.03,lamda:0.1",
          "lr:0.03,lamda:0.1",
          "lr:0.03,lamda:0.1",
          "lr:0.03,lamda:0.1",
          "lr:0.03,lamda:0.1",
          "lr:0.03,lamda:0.1",
          "lr:0.03,lamda:0.3",
          "lr:0.03,lamda:0.3",
          "lr:0.03,lamda:0.3",
          "lr:0.03,lamda:0.3",
          "lr:0.03,lamda:0.3",
          "lr:0.03,lamda:0.3",
          "lr:0.03,lamda:0.3",
          "lr:0.03,lamda:0.3",
          "lr:0.03,lamda:0.3",
          "lr:0.03,lamda:0.3",
          "lr:0.03,lamda:0.3",
          "lr:0.03,lamda:0.3",
          "lr:0.03,lamda:0.3",
          "lr:0.03,lamda:0.3",
          "lr:0.03,lamda:0.3",
          "lr:0.1,lamda:0.01",
          "lr:0.1,lamda:0.01",
          "lr:0.1,lamda:0.01",
          "lr:0.1,lamda:0.01",
          "lr:0.1,lamda:0.01",
          "lr:0.1,lamda:0.01",
          "lr:0.1,lamda:0.01",
          "lr:0.1,lamda:0.01",
          "lr:0.1,lamda:0.01",
          "lr:0.1,lamda:0.01",
          "lr:0.1,lamda:0.01",
          "lr:0.1,lamda:0.01",
          "lr:0.1,lamda:0.01",
          "lr:0.1,lamda:0.01",
          "lr:0.1,lamda:0.01",
          "lr:0.1,lamda:0.03",
          "lr:0.1,lamda:0.03",
          "lr:0.1,lamda:0.03",
          "lr:0.1,lamda:0.03",
          "lr:0.1,lamda:0.03",
          "lr:0.1,lamda:0.03",
          "lr:0.1,lamda:0.03",
          "lr:0.1,lamda:0.03",
          "lr:0.1,lamda:0.03",
          "lr:0.1,lamda:0.03",
          "lr:0.1,lamda:0.03",
          "lr:0.1,lamda:0.03",
          "lr:0.1,lamda:0.03",
          "lr:0.1,lamda:0.03",
          "lr:0.1,lamda:0.03",
          "lr:0.1,lamda:0.1",
          "lr:0.1,lamda:0.1",
          "lr:0.1,lamda:0.1",
          "lr:0.1,lamda:0.1",
          "lr:0.1,lamda:0.1",
          "lr:0.1,lamda:0.1",
          "lr:0.1,lamda:0.1",
          "lr:0.1,lamda:0.1",
          "lr:0.1,lamda:0.1",
          "lr:0.1,lamda:0.1",
          "lr:0.1,lamda:0.1",
          "lr:0.1,lamda:0.1",
          "lr:0.1,lamda:0.1",
          "lr:0.1,lamda:0.1",
          "lr:0.1,lamda:0.1",
          "lr:0.1,lamda:0.3",
          "lr:0.1,lamda:0.3",
          "lr:0.1,lamda:0.3",
          "lr:0.1,lamda:0.3",
          "lr:0.1,lamda:0.3",
          "lr:0.1,lamda:0.3",
          "lr:0.1,lamda:0.3",
          "lr:0.1,lamda:0.3",
          "lr:0.1,lamda:0.3",
          "lr:0.1,lamda:0.3",
          "lr:0.1,lamda:0.3",
          "lr:0.1,lamda:0.3",
          "lr:0.1,lamda:0.3",
          "lr:0.1,lamda:0.3",
          "lr:0.1,lamda:0.3"
         ],
         "x0": " ",
         "xaxis": "x",
         "y": [
          0.7857926101343001,
          0.5809676580651502,
          0.5439700466237644,
          0.5214948930949705,
          0.508851249197834,
          0.5016297619127241,
          0.4966857476104072,
          0.4927791268901915,
          0.4897093634288662,
          0.48722024839536754,
          0.4852697535750186,
          0.4837857219806146,
          0.48277311392708333,
          0.4822305023165568,
          0.4820886807017554,
          0.9336842107733974,
          0.6908016563877968,
          0.6526588521822992,
          0.6385531327416324,
          0.635026715199128,
          0.6356864810625282,
          0.6373195546017928,
          0.6381597689836667,
          0.638176219603146,
          0.6380470196127206,
          0.6377988689110178,
          0.6376321879970202,
          0.6375219825632329,
          0.6378742556803598,
          0.6386287701224673,
          1.216753017595902,
          1.04796525641459,
          1.049529535008059,
          1.0515105418019748,
          1.0386458828310956,
          1.0334836532124556,
          1.0389393336720423,
          1.0416911208718862,
          1.0456205249504809,
          1.0416221050863579,
          1.0375416555880412,
          1.0424063910437333,
          1.046046953132489,
          1.0476283350800653,
          1.0528777897382264,
          1.9719792244322452,
          1.9123708142641984,
          1.9131340050693975,
          1.9152390070852396,
          1.9171468710109059,
          1.9184615595977965,
          1.9187313834071642,
          1.917780691300949,
          1.9158155336746665,
          1.9140289259031742,
          1.911694783136562,
          1.9083490297725325,
          1.9070810894758972,
          1.907171537701314,
          1.9069665619999498,
          0.720250474803043,
          0.5571909723366674,
          0.530825225173698,
          0.5247700862534114,
          0.5252427755721861,
          0.5282419823879878,
          0.530483723167519,
          0.5302449899138773,
          0.5287515507479873,
          0.5287413836050131,
          0.5315856937947562,
          0.5361111703670571,
          0.5419944188259989,
          0.5543342564609627,
          0.5732054181173696,
          0.8065197017527909,
          0.6727789744417031,
          0.671531734608676,
          0.6817315238371446,
          0.6911828757938129,
          0.6996439286136917,
          0.708066431204039,
          0.7113874977857846,
          0.7138143034250847,
          0.7289583407081927,
          0.7326686900920866,
          0.7427907818523575,
          0.742888841323019,
          0.7433572523309037,
          0.7785077220118676,
          1.1295341101990304,
          1.0699297045088878,
          1.1061540713380564,
          1.1451935622151153,
          1.2199402535871968,
          1.2864017223945479,
          1.2635044436765235,
          1.1877114258550665,
          1.1881390181780258,
          1.1838487550102839,
          1.2060038657967118,
          1.2594113443358912,
          1.2843563755171905,
          1.275712308943996,
          1.2301882165770488,
          1.897848445886913,
          1.8942604696483947,
          1.89075801768006,
          1.8877278042168457,
          1.8891191868735226,
          1.8895544773915813,
          1.8890798520004475,
          1.8876862672588748,
          1.885226260516386,
          1.88449455667242,
          1.884254246837576,
          1.8840215401226443,
          1.8834963297685672,
          1.8830441331846355,
          1.882552114837324,
          null,
          null,
          null,
          null,
          null,
          null,
          null,
          null,
          null,
          null,
          null,
          null,
          null,
          null,
          null,
          null,
          null,
          null,
          null,
          null,
          null,
          null,
          null,
          null,
          null,
          null,
          null,
          null,
          null,
          null,
          1.2691179855280597,
          null,
          null,
          null,
          null,
          null,
          null,
          null,
          null,
          null,
          null,
          null,
          null,
          null,
          null,
          1.9151812266341308,
          1.8989055924719862,
          1.897569438011105,
          1.8928773366248575,
          1.893538072159562,
          1.8920450557894453,
          1.8924625347308952,
          1.8963431077899595,
          1.900604504325006,
          1.905295700644737,
          1.9098817894631175,
          1.9153525157707851,
          1.921424716633932,
          1.9280395788931168,
          1.9350729853469777
         ],
         "y0": " ",
         "yaxis": "y"
        }
       ],
       "layout": {
        "boxmode": "group",
        "legend": {
         "tracegroupgap": 0
        },
        "template": {
         "data": {
          "bar": [
           {
            "error_x": {
             "color": "#2a3f5f"
            },
            "error_y": {
             "color": "#2a3f5f"
            },
            "marker": {
             "line": {
              "color": "#E5ECF6",
              "width": 0.5
             },
             "pattern": {
              "fillmode": "overlay",
              "size": 10,
              "solidity": 0.2
             }
            },
            "type": "bar"
           }
          ],
          "barpolar": [
           {
            "marker": {
             "line": {
              "color": "#E5ECF6",
              "width": 0.5
             },
             "pattern": {
              "fillmode": "overlay",
              "size": 10,
              "solidity": 0.2
             }
            },
            "type": "barpolar"
           }
          ],
          "carpet": [
           {
            "aaxis": {
             "endlinecolor": "#2a3f5f",
             "gridcolor": "white",
             "linecolor": "white",
             "minorgridcolor": "white",
             "startlinecolor": "#2a3f5f"
            },
            "baxis": {
             "endlinecolor": "#2a3f5f",
             "gridcolor": "white",
             "linecolor": "white",
             "minorgridcolor": "white",
             "startlinecolor": "#2a3f5f"
            },
            "type": "carpet"
           }
          ],
          "choropleth": [
           {
            "colorbar": {
             "outlinewidth": 0,
             "ticks": ""
            },
            "type": "choropleth"
           }
          ],
          "contour": [
           {
            "colorbar": {
             "outlinewidth": 0,
             "ticks": ""
            },
            "colorscale": [
             [
              0,
              "#0d0887"
             ],
             [
              0.1111111111111111,
              "#46039f"
             ],
             [
              0.2222222222222222,
              "#7201a8"
             ],
             [
              0.3333333333333333,
              "#9c179e"
             ],
             [
              0.4444444444444444,
              "#bd3786"
             ],
             [
              0.5555555555555556,
              "#d8576b"
             ],
             [
              0.6666666666666666,
              "#ed7953"
             ],
             [
              0.7777777777777778,
              "#fb9f3a"
             ],
             [
              0.8888888888888888,
              "#fdca26"
             ],
             [
              1,
              "#f0f921"
             ]
            ],
            "type": "contour"
           }
          ],
          "contourcarpet": [
           {
            "colorbar": {
             "outlinewidth": 0,
             "ticks": ""
            },
            "type": "contourcarpet"
           }
          ],
          "heatmap": [
           {
            "colorbar": {
             "outlinewidth": 0,
             "ticks": ""
            },
            "colorscale": [
             [
              0,
              "#0d0887"
             ],
             [
              0.1111111111111111,
              "#46039f"
             ],
             [
              0.2222222222222222,
              "#7201a8"
             ],
             [
              0.3333333333333333,
              "#9c179e"
             ],
             [
              0.4444444444444444,
              "#bd3786"
             ],
             [
              0.5555555555555556,
              "#d8576b"
             ],
             [
              0.6666666666666666,
              "#ed7953"
             ],
             [
              0.7777777777777778,
              "#fb9f3a"
             ],
             [
              0.8888888888888888,
              "#fdca26"
             ],
             [
              1,
              "#f0f921"
             ]
            ],
            "type": "heatmap"
           }
          ],
          "heatmapgl": [
           {
            "colorbar": {
             "outlinewidth": 0,
             "ticks": ""
            },
            "colorscale": [
             [
              0,
              "#0d0887"
             ],
             [
              0.1111111111111111,
              "#46039f"
             ],
             [
              0.2222222222222222,
              "#7201a8"
             ],
             [
              0.3333333333333333,
              "#9c179e"
             ],
             [
              0.4444444444444444,
              "#bd3786"
             ],
             [
              0.5555555555555556,
              "#d8576b"
             ],
             [
              0.6666666666666666,
              "#ed7953"
             ],
             [
              0.7777777777777778,
              "#fb9f3a"
             ],
             [
              0.8888888888888888,
              "#fdca26"
             ],
             [
              1,
              "#f0f921"
             ]
            ],
            "type": "heatmapgl"
           }
          ],
          "histogram": [
           {
            "marker": {
             "pattern": {
              "fillmode": "overlay",
              "size": 10,
              "solidity": 0.2
             }
            },
            "type": "histogram"
           }
          ],
          "histogram2d": [
           {
            "colorbar": {
             "outlinewidth": 0,
             "ticks": ""
            },
            "colorscale": [
             [
              0,
              "#0d0887"
             ],
             [
              0.1111111111111111,
              "#46039f"
             ],
             [
              0.2222222222222222,
              "#7201a8"
             ],
             [
              0.3333333333333333,
              "#9c179e"
             ],
             [
              0.4444444444444444,
              "#bd3786"
             ],
             [
              0.5555555555555556,
              "#d8576b"
             ],
             [
              0.6666666666666666,
              "#ed7953"
             ],
             [
              0.7777777777777778,
              "#fb9f3a"
             ],
             [
              0.8888888888888888,
              "#fdca26"
             ],
             [
              1,
              "#f0f921"
             ]
            ],
            "type": "histogram2d"
           }
          ],
          "histogram2dcontour": [
           {
            "colorbar": {
             "outlinewidth": 0,
             "ticks": ""
            },
            "colorscale": [
             [
              0,
              "#0d0887"
             ],
             [
              0.1111111111111111,
              "#46039f"
             ],
             [
              0.2222222222222222,
              "#7201a8"
             ],
             [
              0.3333333333333333,
              "#9c179e"
             ],
             [
              0.4444444444444444,
              "#bd3786"
             ],
             [
              0.5555555555555556,
              "#d8576b"
             ],
             [
              0.6666666666666666,
              "#ed7953"
             ],
             [
              0.7777777777777778,
              "#fb9f3a"
             ],
             [
              0.8888888888888888,
              "#fdca26"
             ],
             [
              1,
              "#f0f921"
             ]
            ],
            "type": "histogram2dcontour"
           }
          ],
          "mesh3d": [
           {
            "colorbar": {
             "outlinewidth": 0,
             "ticks": ""
            },
            "type": "mesh3d"
           }
          ],
          "parcoords": [
           {
            "line": {
             "colorbar": {
              "outlinewidth": 0,
              "ticks": ""
             }
            },
            "type": "parcoords"
           }
          ],
          "pie": [
           {
            "automargin": true,
            "type": "pie"
           }
          ],
          "scatter": [
           {
            "fillpattern": {
             "fillmode": "overlay",
             "size": 10,
             "solidity": 0.2
            },
            "type": "scatter"
           }
          ],
          "scatter3d": [
           {
            "line": {
             "colorbar": {
              "outlinewidth": 0,
              "ticks": ""
             }
            },
            "marker": {
             "colorbar": {
              "outlinewidth": 0,
              "ticks": ""
             }
            },
            "type": "scatter3d"
           }
          ],
          "scattercarpet": [
           {
            "marker": {
             "colorbar": {
              "outlinewidth": 0,
              "ticks": ""
             }
            },
            "type": "scattercarpet"
           }
          ],
          "scattergeo": [
           {
            "marker": {
             "colorbar": {
              "outlinewidth": 0,
              "ticks": ""
             }
            },
            "type": "scattergeo"
           }
          ],
          "scattergl": [
           {
            "marker": {
             "colorbar": {
              "outlinewidth": 0,
              "ticks": ""
             }
            },
            "type": "scattergl"
           }
          ],
          "scattermapbox": [
           {
            "marker": {
             "colorbar": {
              "outlinewidth": 0,
              "ticks": ""
             }
            },
            "type": "scattermapbox"
           }
          ],
          "scatterpolar": [
           {
            "marker": {
             "colorbar": {
              "outlinewidth": 0,
              "ticks": ""
             }
            },
            "type": "scatterpolar"
           }
          ],
          "scatterpolargl": [
           {
            "marker": {
             "colorbar": {
              "outlinewidth": 0,
              "ticks": ""
             }
            },
            "type": "scatterpolargl"
           }
          ],
          "scatterternary": [
           {
            "marker": {
             "colorbar": {
              "outlinewidth": 0,
              "ticks": ""
             }
            },
            "type": "scatterternary"
           }
          ],
          "surface": [
           {
            "colorbar": {
             "outlinewidth": 0,
             "ticks": ""
            },
            "colorscale": [
             [
              0,
              "#0d0887"
             ],
             [
              0.1111111111111111,
              "#46039f"
             ],
             [
              0.2222222222222222,
              "#7201a8"
             ],
             [
              0.3333333333333333,
              "#9c179e"
             ],
             [
              0.4444444444444444,
              "#bd3786"
             ],
             [
              0.5555555555555556,
              "#d8576b"
             ],
             [
              0.6666666666666666,
              "#ed7953"
             ],
             [
              0.7777777777777778,
              "#fb9f3a"
             ],
             [
              0.8888888888888888,
              "#fdca26"
             ],
             [
              1,
              "#f0f921"
             ]
            ],
            "type": "surface"
           }
          ],
          "table": [
           {
            "cells": {
             "fill": {
              "color": "#EBF0F8"
             },
             "line": {
              "color": "white"
             }
            },
            "header": {
             "fill": {
              "color": "#C8D4E3"
             },
             "line": {
              "color": "white"
             }
            },
            "type": "table"
           }
          ]
         },
         "layout": {
          "annotationdefaults": {
           "arrowcolor": "#2a3f5f",
           "arrowhead": 0,
           "arrowwidth": 1
          },
          "autotypenumbers": "strict",
          "coloraxis": {
           "colorbar": {
            "outlinewidth": 0,
            "ticks": ""
           }
          },
          "colorscale": {
           "diverging": [
            [
             0,
             "#8e0152"
            ],
            [
             0.1,
             "#c51b7d"
            ],
            [
             0.2,
             "#de77ae"
            ],
            [
             0.3,
             "#f1b6da"
            ],
            [
             0.4,
             "#fde0ef"
            ],
            [
             0.5,
             "#f7f7f7"
            ],
            [
             0.6,
             "#e6f5d0"
            ],
            [
             0.7,
             "#b8e186"
            ],
            [
             0.8,
             "#7fbc41"
            ],
            [
             0.9,
             "#4d9221"
            ],
            [
             1,
             "#276419"
            ]
           ],
           "sequential": [
            [
             0,
             "#0d0887"
            ],
            [
             0.1111111111111111,
             "#46039f"
            ],
            [
             0.2222222222222222,
             "#7201a8"
            ],
            [
             0.3333333333333333,
             "#9c179e"
            ],
            [
             0.4444444444444444,
             "#bd3786"
            ],
            [
             0.5555555555555556,
             "#d8576b"
            ],
            [
             0.6666666666666666,
             "#ed7953"
            ],
            [
             0.7777777777777778,
             "#fb9f3a"
            ],
            [
             0.8888888888888888,
             "#fdca26"
            ],
            [
             1,
             "#f0f921"
            ]
           ],
           "sequentialminus": [
            [
             0,
             "#0d0887"
            ],
            [
             0.1111111111111111,
             "#46039f"
            ],
            [
             0.2222222222222222,
             "#7201a8"
            ],
            [
             0.3333333333333333,
             "#9c179e"
            ],
            [
             0.4444444444444444,
             "#bd3786"
            ],
            [
             0.5555555555555556,
             "#d8576b"
            ],
            [
             0.6666666666666666,
             "#ed7953"
            ],
            [
             0.7777777777777778,
             "#fb9f3a"
            ],
            [
             0.8888888888888888,
             "#fdca26"
            ],
            [
             1,
             "#f0f921"
            ]
           ]
          },
          "colorway": [
           "#636efa",
           "#EF553B",
           "#00cc96",
           "#ab63fa",
           "#FFA15A",
           "#19d3f3",
           "#FF6692",
           "#B6E880",
           "#FF97FF",
           "#FECB52"
          ],
          "font": {
           "color": "#2a3f5f"
          },
          "geo": {
           "bgcolor": "white",
           "lakecolor": "white",
           "landcolor": "#E5ECF6",
           "showlakes": true,
           "showland": true,
           "subunitcolor": "white"
          },
          "hoverlabel": {
           "align": "left"
          },
          "hovermode": "closest",
          "mapbox": {
           "style": "light"
          },
          "paper_bgcolor": "white",
          "plot_bgcolor": "#E5ECF6",
          "polar": {
           "angularaxis": {
            "gridcolor": "white",
            "linecolor": "white",
            "ticks": ""
           },
           "bgcolor": "#E5ECF6",
           "radialaxis": {
            "gridcolor": "white",
            "linecolor": "white",
            "ticks": ""
           }
          },
          "scene": {
           "xaxis": {
            "backgroundcolor": "#E5ECF6",
            "gridcolor": "white",
            "gridwidth": 2,
            "linecolor": "white",
            "showbackground": true,
            "ticks": "",
            "zerolinecolor": "white"
           },
           "yaxis": {
            "backgroundcolor": "#E5ECF6",
            "gridcolor": "white",
            "gridwidth": 2,
            "linecolor": "white",
            "showbackground": true,
            "ticks": "",
            "zerolinecolor": "white"
           },
           "zaxis": {
            "backgroundcolor": "#E5ECF6",
            "gridcolor": "white",
            "gridwidth": 2,
            "linecolor": "white",
            "showbackground": true,
            "ticks": "",
            "zerolinecolor": "white"
           }
          },
          "shapedefaults": {
           "line": {
            "color": "#2a3f5f"
           }
          },
          "ternary": {
           "aaxis": {
            "gridcolor": "white",
            "linecolor": "white",
            "ticks": ""
           },
           "baxis": {
            "gridcolor": "white",
            "linecolor": "white",
            "ticks": ""
           },
           "bgcolor": "#E5ECF6",
           "caxis": {
            "gridcolor": "white",
            "linecolor": "white",
            "ticks": ""
           }
          },
          "title": {
           "x": 0.05
          },
          "xaxis": {
           "automargin": true,
           "gridcolor": "white",
           "linecolor": "white",
           "ticks": "",
           "title": {
            "standoff": 15
           },
           "zerolinecolor": "white",
           "zerolinewidth": 2
          },
          "yaxis": {
           "automargin": true,
           "gridcolor": "white",
           "linecolor": "white",
           "ticks": "",
           "title": {
            "standoff": 15
           },
           "zerolinecolor": "white",
           "zerolinewidth": 2
          }
         }
        },
        "title": {
         "text": "cost function of model in train set"
        },
        "xaxis": {
         "anchor": "y",
         "domain": [
          0,
          1
         ],
         "title": {
          "text": "variable"
         }
        },
        "yaxis": {
         "anchor": "x",
         "domain": [
          0,
          1
         ],
         "title": {
          "text": "value"
         }
        }
       }
      }
     },
     "metadata": {},
     "output_type": "display_data"
    }
   ],
   "source": [
    "px.box(pd.DataFrame(train_dict), title='Cost Function of Model in train set')"
   ]
  },
  {
   "cell_type": "code",
   "execution_count": 24,
   "metadata": {},
   "outputs": [
    {
     "data": {
      "application/vnd.plotly.v1+json": {
       "config": {
        "plotlyServerURL": "https://plot.ly"
       },
       "data": [
        {
         "alignmentgroup": "True",
         "hovertemplate": "variable=%{x}<br>value=%{y}<extra></extra>",
         "legendgroup": "",
         "marker": {
          "color": "#636efa"
         },
         "name": "",
         "notched": false,
         "offsetgroup": "",
         "orientation": "v",
         "showlegend": false,
         "type": "box",
         "x": [
          "lr:0.01,lamda:0.01",
          "lr:0.01,lamda:0.01",
          "lr:0.01,lamda:0.01",
          "lr:0.01,lamda:0.01",
          "lr:0.01,lamda:0.01",
          "lr:0.01,lamda:0.01",
          "lr:0.01,lamda:0.01",
          "lr:0.01,lamda:0.01",
          "lr:0.01,lamda:0.01",
          "lr:0.01,lamda:0.01",
          "lr:0.01,lamda:0.01",
          "lr:0.01,lamda:0.01",
          "lr:0.01,lamda:0.01",
          "lr:0.01,lamda:0.01",
          "lr:0.01,lamda:0.01",
          "lr:0.01,lamda:0.03",
          "lr:0.01,lamda:0.03",
          "lr:0.01,lamda:0.03",
          "lr:0.01,lamda:0.03",
          "lr:0.01,lamda:0.03",
          "lr:0.01,lamda:0.03",
          "lr:0.01,lamda:0.03",
          "lr:0.01,lamda:0.03",
          "lr:0.01,lamda:0.03",
          "lr:0.01,lamda:0.03",
          "lr:0.01,lamda:0.03",
          "lr:0.01,lamda:0.03",
          "lr:0.01,lamda:0.03",
          "lr:0.01,lamda:0.03",
          "lr:0.01,lamda:0.03",
          "lr:0.01,lamda:0.1",
          "lr:0.01,lamda:0.1",
          "lr:0.01,lamda:0.1",
          "lr:0.01,lamda:0.1",
          "lr:0.01,lamda:0.1",
          "lr:0.01,lamda:0.1",
          "lr:0.01,lamda:0.1",
          "lr:0.01,lamda:0.1",
          "lr:0.01,lamda:0.1",
          "lr:0.01,lamda:0.1",
          "lr:0.01,lamda:0.1",
          "lr:0.01,lamda:0.1",
          "lr:0.01,lamda:0.1",
          "lr:0.01,lamda:0.1",
          "lr:0.01,lamda:0.1",
          "lr:0.01,lamda:0.3",
          "lr:0.01,lamda:0.3",
          "lr:0.01,lamda:0.3",
          "lr:0.01,lamda:0.3",
          "lr:0.01,lamda:0.3",
          "lr:0.01,lamda:0.3",
          "lr:0.01,lamda:0.3",
          "lr:0.01,lamda:0.3",
          "lr:0.01,lamda:0.3",
          "lr:0.01,lamda:0.3",
          "lr:0.01,lamda:0.3",
          "lr:0.01,lamda:0.3",
          "lr:0.01,lamda:0.3",
          "lr:0.01,lamda:0.3",
          "lr:0.01,lamda:0.3",
          "lr:0.03,lamda:0.01",
          "lr:0.03,lamda:0.01",
          "lr:0.03,lamda:0.01",
          "lr:0.03,lamda:0.01",
          "lr:0.03,lamda:0.01",
          "lr:0.03,lamda:0.01",
          "lr:0.03,lamda:0.01",
          "lr:0.03,lamda:0.01",
          "lr:0.03,lamda:0.01",
          "lr:0.03,lamda:0.01",
          "lr:0.03,lamda:0.01",
          "lr:0.03,lamda:0.01",
          "lr:0.03,lamda:0.01",
          "lr:0.03,lamda:0.01",
          "lr:0.03,lamda:0.01",
          "lr:0.03,lamda:0.03",
          "lr:0.03,lamda:0.03",
          "lr:0.03,lamda:0.03",
          "lr:0.03,lamda:0.03",
          "lr:0.03,lamda:0.03",
          "lr:0.03,lamda:0.03",
          "lr:0.03,lamda:0.03",
          "lr:0.03,lamda:0.03",
          "lr:0.03,lamda:0.03",
          "lr:0.03,lamda:0.03",
          "lr:0.03,lamda:0.03",
          "lr:0.03,lamda:0.03",
          "lr:0.03,lamda:0.03",
          "lr:0.03,lamda:0.03",
          "lr:0.03,lamda:0.03",
          "lr:0.03,lamda:0.1",
          "lr:0.03,lamda:0.1",
          "lr:0.03,lamda:0.1",
          "lr:0.03,lamda:0.1",
          "lr:0.03,lamda:0.1",
          "lr:0.03,lamda:0.1",
          "lr:0.03,lamda:0.1",
          "lr:0.03,lamda:0.1",
          "lr:0.03,lamda:0.1",
          "lr:0.03,lamda:0.1",
          "lr:0.03,lamda:0.1",
          "lr:0.03,lamda:0.1",
          "lr:0.03,lamda:0.1",
          "lr:0.03,lamda:0.1",
          "lr:0.03,lamda:0.1",
          "lr:0.03,lamda:0.3",
          "lr:0.03,lamda:0.3",
          "lr:0.03,lamda:0.3",
          "lr:0.03,lamda:0.3",
          "lr:0.03,lamda:0.3",
          "lr:0.03,lamda:0.3",
          "lr:0.03,lamda:0.3",
          "lr:0.03,lamda:0.3",
          "lr:0.03,lamda:0.3",
          "lr:0.03,lamda:0.3",
          "lr:0.03,lamda:0.3",
          "lr:0.03,lamda:0.3",
          "lr:0.03,lamda:0.3",
          "lr:0.03,lamda:0.3",
          "lr:0.03,lamda:0.3",
          "lr:0.1,lamda:0.01",
          "lr:0.1,lamda:0.01",
          "lr:0.1,lamda:0.01",
          "lr:0.1,lamda:0.01",
          "lr:0.1,lamda:0.01",
          "lr:0.1,lamda:0.01",
          "lr:0.1,lamda:0.01",
          "lr:0.1,lamda:0.01",
          "lr:0.1,lamda:0.01",
          "lr:0.1,lamda:0.01",
          "lr:0.1,lamda:0.01",
          "lr:0.1,lamda:0.01",
          "lr:0.1,lamda:0.01",
          "lr:0.1,lamda:0.01",
          "lr:0.1,lamda:0.01",
          "lr:0.1,lamda:0.03",
          "lr:0.1,lamda:0.03",
          "lr:0.1,lamda:0.03",
          "lr:0.1,lamda:0.03",
          "lr:0.1,lamda:0.03",
          "lr:0.1,lamda:0.03",
          "lr:0.1,lamda:0.03",
          "lr:0.1,lamda:0.03",
          "lr:0.1,lamda:0.03",
          "lr:0.1,lamda:0.03",
          "lr:0.1,lamda:0.03",
          "lr:0.1,lamda:0.03",
          "lr:0.1,lamda:0.03",
          "lr:0.1,lamda:0.03",
          "lr:0.1,lamda:0.03",
          "lr:0.1,lamda:0.1",
          "lr:0.1,lamda:0.1",
          "lr:0.1,lamda:0.1",
          "lr:0.1,lamda:0.1",
          "lr:0.1,lamda:0.1",
          "lr:0.1,lamda:0.1",
          "lr:0.1,lamda:0.1",
          "lr:0.1,lamda:0.1",
          "lr:0.1,lamda:0.1",
          "lr:0.1,lamda:0.1",
          "lr:0.1,lamda:0.1",
          "lr:0.1,lamda:0.1",
          "lr:0.1,lamda:0.1",
          "lr:0.1,lamda:0.1",
          "lr:0.1,lamda:0.1",
          "lr:0.1,lamda:0.3",
          "lr:0.1,lamda:0.3",
          "lr:0.1,lamda:0.3",
          "lr:0.1,lamda:0.3",
          "lr:0.1,lamda:0.3",
          "lr:0.1,lamda:0.3",
          "lr:0.1,lamda:0.3",
          "lr:0.1,lamda:0.3",
          "lr:0.1,lamda:0.3",
          "lr:0.1,lamda:0.3",
          "lr:0.1,lamda:0.3",
          "lr:0.1,lamda:0.3",
          "lr:0.1,lamda:0.3",
          "lr:0.1,lamda:0.3",
          "lr:0.1,lamda:0.3"
         ],
         "x0": " ",
         "xaxis": "x",
         "y": [
          0.5851058888645326,
          0.5326158824480925,
          0.5097346095223828,
          0.4981466035533065,
          0.4938827305366556,
          0.4917850537259891,
          0.4907880009460366,
          0.49036505290559307,
          0.49013556572377226,
          0.49018400565106723,
          0.4904624513719852,
          0.49087607630340774,
          0.4911901380844748,
          0.49161344067510093,
          0.4925034649462137,
          0.6499290483064499,
          0.6130718295653561,
          0.6032940384408991,
          0.6034773776776795,
          0.606387120750646,
          0.6100794448299999,
          0.6134974478331414,
          0.6158614188561801,
          0.6175992966022935,
          0.6194078451066592,
          0.6211334801859184,
          0.6222547853937771,
          0.6226611080408488,
          0.6229043966229311,
          0.6232881580649808,
          0.9914923272738716,
          1.0096420849284538,
          1.0172929467411564,
          1.0117674420109586,
          0.997240874302283,
          1.001468907871268,
          1.0070043909270072,
          1.01339723875378,
          1.0094706618551261,
          1.0047062082055749,
          1.0070529016963443,
          1.012777774031193,
          1.0132821642168273,
          1.0125688261752177,
          1.0176085195491305,
          1.870141191545011,
          1.874106749927294,
          1.879779169275092,
          1.8837403249982798,
          1.886390801421562,
          1.8876891562504234,
          1.8876066393203288,
          1.886075799237734,
          1.88408189244443,
          1.8823567882291932,
          1.8792841465657417,
          1.8762909297161696,
          1.8763787619560552,
          1.8763522907685852,
          1.8759553396894373,
          0.5708135518782855,
          0.545030149666902,
          0.538891778342189,
          0.5452787771762126,
          0.5546173193762163,
          0.5646697667896483,
          0.5671568841149127,
          0.5680162621375626,
          0.5681908127437362,
          0.5693251477012038,
          0.5820813542089649,
          0.5959348914460217,
          0.6072944910688401,
          0.624996887933815,
          0.6392584909249027,
          0.6357207199797172,
          0.6384838939125455,
          0.6555264125332897,
          0.6660608531564977,
          0.6752063018721942,
          0.6891880456646238,
          0.7019896325762036,
          0.7137225744617176,
          0.7244343500232531,
          0.7373399302398707,
          0.749603156479505,
          0.7878375953725172,
          0.7317748047331075,
          0.7449913446146107,
          0.7768825388479693,
          1.0199551927016386,
          1.0437418642532288,
          1.077837250894591,
          1.0942159863721292,
          1.2086927096052198,
          1.2484997342980018,
          1.1292267436098768,
          1.1415992359781593,
          1.134238040787529,
          1.1417190786267009,
          1.1885529549005693,
          1.217931399882753,
          1.2007976353279641,
          1.1733452420514512,
          1.1872160245013716,
          1.8518949514832226,
          1.8527796730946446,
          1.8480726831572576,
          1.8491399146169838,
          1.8500285992812333,
          1.8496122317754153,
          1.8483738974404436,
          1.8460118776319632,
          1.8436856632779959,
          1.8433052866550044,
          1.8428825385544052,
          1.8423591923224303,
          1.8414405449921416,
          1.8405070267602557,
          1.8396514070500944,
          null,
          null,
          null,
          null,
          null,
          null,
          null,
          null,
          null,
          null,
          null,
          null,
          null,
          null,
          null,
          null,
          null,
          null,
          null,
          null,
          null,
          null,
          null,
          null,
          null,
          null,
          null,
          null,
          null,
          null,
          1.3502347283600802,
          null,
          null,
          null,
          null,
          null,
          null,
          null,
          null,
          null,
          null,
          null,
          null,
          null,
          null,
          1.871366224115658,
          1.8658980497087914,
          1.8580281563339698,
          1.8518087754316406,
          1.8468678203209499,
          1.8383675002678128,
          1.8365841567397474,
          1.8346208953138634,
          1.8376673234213166,
          1.8347296101726651,
          1.8329478802874686,
          1.8319151328960352,
          1.831726982114543,
          1.832033986580961,
          1.8331256792095008
         ],
         "y0": " ",
         "yaxis": "y"
        }
       ],
       "layout": {
        "boxmode": "group",
        "legend": {
         "tracegroupgap": 0
        },
        "template": {
         "data": {
          "bar": [
           {
            "error_x": {
             "color": "#2a3f5f"
            },
            "error_y": {
             "color": "#2a3f5f"
            },
            "marker": {
             "line": {
              "color": "#E5ECF6",
              "width": 0.5
             },
             "pattern": {
              "fillmode": "overlay",
              "size": 10,
              "solidity": 0.2
             }
            },
            "type": "bar"
           }
          ],
          "barpolar": [
           {
            "marker": {
             "line": {
              "color": "#E5ECF6",
              "width": 0.5
             },
             "pattern": {
              "fillmode": "overlay",
              "size": 10,
              "solidity": 0.2
             }
            },
            "type": "barpolar"
           }
          ],
          "carpet": [
           {
            "aaxis": {
             "endlinecolor": "#2a3f5f",
             "gridcolor": "white",
             "linecolor": "white",
             "minorgridcolor": "white",
             "startlinecolor": "#2a3f5f"
            },
            "baxis": {
             "endlinecolor": "#2a3f5f",
             "gridcolor": "white",
             "linecolor": "white",
             "minorgridcolor": "white",
             "startlinecolor": "#2a3f5f"
            },
            "type": "carpet"
           }
          ],
          "choropleth": [
           {
            "colorbar": {
             "outlinewidth": 0,
             "ticks": ""
            },
            "type": "choropleth"
           }
          ],
          "contour": [
           {
            "colorbar": {
             "outlinewidth": 0,
             "ticks": ""
            },
            "colorscale": [
             [
              0,
              "#0d0887"
             ],
             [
              0.1111111111111111,
              "#46039f"
             ],
             [
              0.2222222222222222,
              "#7201a8"
             ],
             [
              0.3333333333333333,
              "#9c179e"
             ],
             [
              0.4444444444444444,
              "#bd3786"
             ],
             [
              0.5555555555555556,
              "#d8576b"
             ],
             [
              0.6666666666666666,
              "#ed7953"
             ],
             [
              0.7777777777777778,
              "#fb9f3a"
             ],
             [
              0.8888888888888888,
              "#fdca26"
             ],
             [
              1,
              "#f0f921"
             ]
            ],
            "type": "contour"
           }
          ],
          "contourcarpet": [
           {
            "colorbar": {
             "outlinewidth": 0,
             "ticks": ""
            },
            "type": "contourcarpet"
           }
          ],
          "heatmap": [
           {
            "colorbar": {
             "outlinewidth": 0,
             "ticks": ""
            },
            "colorscale": [
             [
              0,
              "#0d0887"
             ],
             [
              0.1111111111111111,
              "#46039f"
             ],
             [
              0.2222222222222222,
              "#7201a8"
             ],
             [
              0.3333333333333333,
              "#9c179e"
             ],
             [
              0.4444444444444444,
              "#bd3786"
             ],
             [
              0.5555555555555556,
              "#d8576b"
             ],
             [
              0.6666666666666666,
              "#ed7953"
             ],
             [
              0.7777777777777778,
              "#fb9f3a"
             ],
             [
              0.8888888888888888,
              "#fdca26"
             ],
             [
              1,
              "#f0f921"
             ]
            ],
            "type": "heatmap"
           }
          ],
          "heatmapgl": [
           {
            "colorbar": {
             "outlinewidth": 0,
             "ticks": ""
            },
            "colorscale": [
             [
              0,
              "#0d0887"
             ],
             [
              0.1111111111111111,
              "#46039f"
             ],
             [
              0.2222222222222222,
              "#7201a8"
             ],
             [
              0.3333333333333333,
              "#9c179e"
             ],
             [
              0.4444444444444444,
              "#bd3786"
             ],
             [
              0.5555555555555556,
              "#d8576b"
             ],
             [
              0.6666666666666666,
              "#ed7953"
             ],
             [
              0.7777777777777778,
              "#fb9f3a"
             ],
             [
              0.8888888888888888,
              "#fdca26"
             ],
             [
              1,
              "#f0f921"
             ]
            ],
            "type": "heatmapgl"
           }
          ],
          "histogram": [
           {
            "marker": {
             "pattern": {
              "fillmode": "overlay",
              "size": 10,
              "solidity": 0.2
             }
            },
            "type": "histogram"
           }
          ],
          "histogram2d": [
           {
            "colorbar": {
             "outlinewidth": 0,
             "ticks": ""
            },
            "colorscale": [
             [
              0,
              "#0d0887"
             ],
             [
              0.1111111111111111,
              "#46039f"
             ],
             [
              0.2222222222222222,
              "#7201a8"
             ],
             [
              0.3333333333333333,
              "#9c179e"
             ],
             [
              0.4444444444444444,
              "#bd3786"
             ],
             [
              0.5555555555555556,
              "#d8576b"
             ],
             [
              0.6666666666666666,
              "#ed7953"
             ],
             [
              0.7777777777777778,
              "#fb9f3a"
             ],
             [
              0.8888888888888888,
              "#fdca26"
             ],
             [
              1,
              "#f0f921"
             ]
            ],
            "type": "histogram2d"
           }
          ],
          "histogram2dcontour": [
           {
            "colorbar": {
             "outlinewidth": 0,
             "ticks": ""
            },
            "colorscale": [
             [
              0,
              "#0d0887"
             ],
             [
              0.1111111111111111,
              "#46039f"
             ],
             [
              0.2222222222222222,
              "#7201a8"
             ],
             [
              0.3333333333333333,
              "#9c179e"
             ],
             [
              0.4444444444444444,
              "#bd3786"
             ],
             [
              0.5555555555555556,
              "#d8576b"
             ],
             [
              0.6666666666666666,
              "#ed7953"
             ],
             [
              0.7777777777777778,
              "#fb9f3a"
             ],
             [
              0.8888888888888888,
              "#fdca26"
             ],
             [
              1,
              "#f0f921"
             ]
            ],
            "type": "histogram2dcontour"
           }
          ],
          "mesh3d": [
           {
            "colorbar": {
             "outlinewidth": 0,
             "ticks": ""
            },
            "type": "mesh3d"
           }
          ],
          "parcoords": [
           {
            "line": {
             "colorbar": {
              "outlinewidth": 0,
              "ticks": ""
             }
            },
            "type": "parcoords"
           }
          ],
          "pie": [
           {
            "automargin": true,
            "type": "pie"
           }
          ],
          "scatter": [
           {
            "fillpattern": {
             "fillmode": "overlay",
             "size": 10,
             "solidity": 0.2
            },
            "type": "scatter"
           }
          ],
          "scatter3d": [
           {
            "line": {
             "colorbar": {
              "outlinewidth": 0,
              "ticks": ""
             }
            },
            "marker": {
             "colorbar": {
              "outlinewidth": 0,
              "ticks": ""
             }
            },
            "type": "scatter3d"
           }
          ],
          "scattercarpet": [
           {
            "marker": {
             "colorbar": {
              "outlinewidth": 0,
              "ticks": ""
             }
            },
            "type": "scattercarpet"
           }
          ],
          "scattergeo": [
           {
            "marker": {
             "colorbar": {
              "outlinewidth": 0,
              "ticks": ""
             }
            },
            "type": "scattergeo"
           }
          ],
          "scattergl": [
           {
            "marker": {
             "colorbar": {
              "outlinewidth": 0,
              "ticks": ""
             }
            },
            "type": "scattergl"
           }
          ],
          "scattermapbox": [
           {
            "marker": {
             "colorbar": {
              "outlinewidth": 0,
              "ticks": ""
             }
            },
            "type": "scattermapbox"
           }
          ],
          "scatterpolar": [
           {
            "marker": {
             "colorbar": {
              "outlinewidth": 0,
              "ticks": ""
             }
            },
            "type": "scatterpolar"
           }
          ],
          "scatterpolargl": [
           {
            "marker": {
             "colorbar": {
              "outlinewidth": 0,
              "ticks": ""
             }
            },
            "type": "scatterpolargl"
           }
          ],
          "scatterternary": [
           {
            "marker": {
             "colorbar": {
              "outlinewidth": 0,
              "ticks": ""
             }
            },
            "type": "scatterternary"
           }
          ],
          "surface": [
           {
            "colorbar": {
             "outlinewidth": 0,
             "ticks": ""
            },
            "colorscale": [
             [
              0,
              "#0d0887"
             ],
             [
              0.1111111111111111,
              "#46039f"
             ],
             [
              0.2222222222222222,
              "#7201a8"
             ],
             [
              0.3333333333333333,
              "#9c179e"
             ],
             [
              0.4444444444444444,
              "#bd3786"
             ],
             [
              0.5555555555555556,
              "#d8576b"
             ],
             [
              0.6666666666666666,
              "#ed7953"
             ],
             [
              0.7777777777777778,
              "#fb9f3a"
             ],
             [
              0.8888888888888888,
              "#fdca26"
             ],
             [
              1,
              "#f0f921"
             ]
            ],
            "type": "surface"
           }
          ],
          "table": [
           {
            "cells": {
             "fill": {
              "color": "#EBF0F8"
             },
             "line": {
              "color": "white"
             }
            },
            "header": {
             "fill": {
              "color": "#C8D4E3"
             },
             "line": {
              "color": "white"
             }
            },
            "type": "table"
           }
          ]
         },
         "layout": {
          "annotationdefaults": {
           "arrowcolor": "#2a3f5f",
           "arrowhead": 0,
           "arrowwidth": 1
          },
          "autotypenumbers": "strict",
          "coloraxis": {
           "colorbar": {
            "outlinewidth": 0,
            "ticks": ""
           }
          },
          "colorscale": {
           "diverging": [
            [
             0,
             "#8e0152"
            ],
            [
             0.1,
             "#c51b7d"
            ],
            [
             0.2,
             "#de77ae"
            ],
            [
             0.3,
             "#f1b6da"
            ],
            [
             0.4,
             "#fde0ef"
            ],
            [
             0.5,
             "#f7f7f7"
            ],
            [
             0.6,
             "#e6f5d0"
            ],
            [
             0.7,
             "#b8e186"
            ],
            [
             0.8,
             "#7fbc41"
            ],
            [
             0.9,
             "#4d9221"
            ],
            [
             1,
             "#276419"
            ]
           ],
           "sequential": [
            [
             0,
             "#0d0887"
            ],
            [
             0.1111111111111111,
             "#46039f"
            ],
            [
             0.2222222222222222,
             "#7201a8"
            ],
            [
             0.3333333333333333,
             "#9c179e"
            ],
            [
             0.4444444444444444,
             "#bd3786"
            ],
            [
             0.5555555555555556,
             "#d8576b"
            ],
            [
             0.6666666666666666,
             "#ed7953"
            ],
            [
             0.7777777777777778,
             "#fb9f3a"
            ],
            [
             0.8888888888888888,
             "#fdca26"
            ],
            [
             1,
             "#f0f921"
            ]
           ],
           "sequentialminus": [
            [
             0,
             "#0d0887"
            ],
            [
             0.1111111111111111,
             "#46039f"
            ],
            [
             0.2222222222222222,
             "#7201a8"
            ],
            [
             0.3333333333333333,
             "#9c179e"
            ],
            [
             0.4444444444444444,
             "#bd3786"
            ],
            [
             0.5555555555555556,
             "#d8576b"
            ],
            [
             0.6666666666666666,
             "#ed7953"
            ],
            [
             0.7777777777777778,
             "#fb9f3a"
            ],
            [
             0.8888888888888888,
             "#fdca26"
            ],
            [
             1,
             "#f0f921"
            ]
           ]
          },
          "colorway": [
           "#636efa",
           "#EF553B",
           "#00cc96",
           "#ab63fa",
           "#FFA15A",
           "#19d3f3",
           "#FF6692",
           "#B6E880",
           "#FF97FF",
           "#FECB52"
          ],
          "font": {
           "color": "#2a3f5f"
          },
          "geo": {
           "bgcolor": "white",
           "lakecolor": "white",
           "landcolor": "#E5ECF6",
           "showlakes": true,
           "showland": true,
           "subunitcolor": "white"
          },
          "hoverlabel": {
           "align": "left"
          },
          "hovermode": "closest",
          "mapbox": {
           "style": "light"
          },
          "paper_bgcolor": "white",
          "plot_bgcolor": "#E5ECF6",
          "polar": {
           "angularaxis": {
            "gridcolor": "white",
            "linecolor": "white",
            "ticks": ""
           },
           "bgcolor": "#E5ECF6",
           "radialaxis": {
            "gridcolor": "white",
            "linecolor": "white",
            "ticks": ""
           }
          },
          "scene": {
           "xaxis": {
            "backgroundcolor": "#E5ECF6",
            "gridcolor": "white",
            "gridwidth": 2,
            "linecolor": "white",
            "showbackground": true,
            "ticks": "",
            "zerolinecolor": "white"
           },
           "yaxis": {
            "backgroundcolor": "#E5ECF6",
            "gridcolor": "white",
            "gridwidth": 2,
            "linecolor": "white",
            "showbackground": true,
            "ticks": "",
            "zerolinecolor": "white"
           },
           "zaxis": {
            "backgroundcolor": "#E5ECF6",
            "gridcolor": "white",
            "gridwidth": 2,
            "linecolor": "white",
            "showbackground": true,
            "ticks": "",
            "zerolinecolor": "white"
           }
          },
          "shapedefaults": {
           "line": {
            "color": "#2a3f5f"
           }
          },
          "ternary": {
           "aaxis": {
            "gridcolor": "white",
            "linecolor": "white",
            "ticks": ""
           },
           "baxis": {
            "gridcolor": "white",
            "linecolor": "white",
            "ticks": ""
           },
           "bgcolor": "#E5ECF6",
           "caxis": {
            "gridcolor": "white",
            "linecolor": "white",
            "ticks": ""
           }
          },
          "title": {
           "x": 0.05
          },
          "xaxis": {
           "automargin": true,
           "gridcolor": "white",
           "linecolor": "white",
           "ticks": "",
           "title": {
            "standoff": 15
           },
           "zerolinecolor": "white",
           "zerolinewidth": 2
          },
          "yaxis": {
           "automargin": true,
           "gridcolor": "white",
           "linecolor": "white",
           "ticks": "",
           "title": {
            "standoff": 15
           },
           "zerolinecolor": "white",
           "zerolinewidth": 2
          }
         }
        },
        "title": {
         "text": "cost function of model in valid set"
        },
        "xaxis": {
         "anchor": "y",
         "domain": [
          0,
          1
         ],
         "title": {
          "text": "variable"
         }
        },
        "yaxis": {
         "anchor": "x",
         "domain": [
          0,
          1
         ],
         "title": {
          "text": "value"
         }
        }
       }
      }
     },
     "metadata": {},
     "output_type": "display_data"
    }
   ],
   "source": [
    "px.box(pd.DataFrame(valid_dict), title='Cost Function of Model in valid set')"
   ]
  },
  {
   "attachments": {},
   "cell_type": "markdown",
   "metadata": {},
   "source": [
    "## Predict Labels"
   ]
  },
  {
   "cell_type": "code",
   "execution_count": 30,
   "metadata": {},
   "outputs": [
    {
     "name": "stdout",
     "output_type": "stream",
     "text": [
      "train cost in epoch 0 is : 0.824997924375596, ------ , valid cost : 0.5713652040270525\n",
      "train cost in epoch 1 is : 0.5822197283526266, ------ , valid cost : 0.5179752946811726\n",
      "train cost in epoch 2 is : 0.5389537467649123, ------ , valid cost : 0.4952383367995091\n",
      "train cost in epoch 3 is : 0.51550238332516, ------ , valid cost : 0.4816858338187448\n",
      "train cost in epoch 4 is : 0.5011221908940215, ------ , valid cost : 0.47354964430937896\n",
      "train cost in epoch 5 is : 0.49193076119720386, ------ , valid cost : 0.46827847578997406\n",
      "train cost in epoch 6 is : 0.48589748061329785, ------ , valid cost : 0.4653153413432535\n",
      "train cost in epoch 7 is : 0.4818518938335065, ------ , valid cost : 0.46368965322458966\n",
      "train cost in epoch 8 is : 0.47920861590765196, ------ , valid cost : 0.46299820951289605\n",
      "train cost in epoch 9 is : 0.4774663628044219, ------ , valid cost : 0.46291087115602814\n",
      "train cost in epoch 10 is : 0.47630474899522957, ------ , valid cost : 0.4631892917628122\n",
      "train cost in epoch 11 is : 0.47549117674610175, ------ , valid cost : 0.46357852903953795\n",
      "train cost in epoch 12 is : 0.47486361493944923, ------ , valid cost : 0.4639471744814568\n",
      "train cost in epoch 13 is : 0.4743604891331658, ------ , valid cost : 0.46420446723361153\n",
      "train cost in epoch 14 is : 0.47408415609392385, ------ , valid cost : 0.4643611340936911\n"
     ]
    }
   ],
   "source": [
    "layers_dim = [(784, 32), (32, 32), (32, 32),(32, 10)]\n",
    "activations = [ReLU(), ReLU(), ReLU(), Softmax()]\n",
    "criterion = CrossEntropy()\n",
    "m = MLP(layers_dim, activations, 0.01, criterion, 0.01)\n",
    "batches = split_batch(x_train, y_train, 32)\n",
    "train_hiss, valid_hiss = m.fit(batches, 15, x_val, y_val)"
   ]
  },
  {
   "cell_type": "code",
   "execution_count": 31,
   "metadata": {},
   "outputs": [],
   "source": [
    "y_pred = m.predict(x_val)\n",
    "y_val = np.argmax(y_val, axis=1)"
   ]
  },
  {
   "attachments": {},
   "cell_type": "markdown",
   "metadata": {},
   "source": [
    "## Print Classification Metrics"
   ]
  },
  {
   "cell_type": "code",
   "execution_count": 33,
   "metadata": {},
   "outputs": [
    {
     "name": "stdout",
     "output_type": "stream",
     "text": [
      "              precision    recall  f1-score   support\n",
      "\n",
      "           0       0.78      0.85      0.81      1023\n",
      "           1       0.98      0.94      0.96       988\n",
      "           2       0.77      0.71      0.74      1008\n",
      "           3       0.86      0.86      0.86      1021\n",
      "           4       0.70      0.82      0.75      1050\n",
      "           5       0.93      0.91      0.92       996\n",
      "           6       0.63      0.50      0.56       970\n",
      "           7       0.88      0.91      0.90       955\n",
      "           8       0.91      0.96      0.93       968\n",
      "           9       0.93      0.93      0.93      1021\n",
      "\n",
      "    accuracy                           0.84     10000\n",
      "   macro avg       0.84      0.84      0.84     10000\n",
      "weighted avg       0.84      0.84      0.84     10000\n",
      "\n"
     ]
    }
   ],
   "source": [
    "from sklearn.metrics import classification_report\n",
    "print(classification_report(y_val, y_pred))"
   ]
  },
  {
   "cell_type": "code",
   "execution_count": null,
   "metadata": {},
   "outputs": [],
   "source": []
  }
 ],
 "metadata": {
  "kernelspec": {
   "display_name": "vision",
   "language": "python",
   "name": "python3"
  },
  "language_info": {
   "codemirror_mode": {
    "name": "ipython",
    "version": 3
   },
   "file_extension": ".py",
   "mimetype": "text/x-python",
   "name": "python",
   "nbconvert_exporter": "python",
   "pygments_lexer": "ipython3",
   "version": "3.10.9"
  },
  "orig_nbformat": 4,
  "vscode": {
   "interpreter": {
    "hash": "eaa10527dfc9253fc90f1d39a3af52c21f4b80574df8c68f3e5a5f27ffae080f"
   }
  }
 },
 "nbformat": 4,
 "nbformat_minor": 2
}
